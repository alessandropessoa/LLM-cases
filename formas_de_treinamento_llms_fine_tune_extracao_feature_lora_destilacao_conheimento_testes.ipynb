{
  "nbformat": 4,
  "nbformat_minor": 0,
  "metadata": {
    "colab": {
      "provenance": [],
      "gpuType": "T4",
      "authorship_tag": "ABX9TyP8z23VLuJJxTaAxKJ3h8sO",
      "include_colab_link": true
    },
    "kernelspec": {
      "name": "python3",
      "display_name": "Python 3"
    },
    "language_info": {
      "name": "python"
    },
    "accelerator": "GPU",
    "widgets": {
      "application/vnd.jupyter.widget-state+json": {
        "b213f8e396194f30b6f17473de9e5333": {
          "model_module": "@jupyter-widgets/controls",
          "model_name": "HBoxModel",
          "model_module_version": "1.5.0",
          "state": {
            "_dom_classes": [],
            "_model_module": "@jupyter-widgets/controls",
            "_model_module_version": "1.5.0",
            "_model_name": "HBoxModel",
            "_view_count": null,
            "_view_module": "@jupyter-widgets/controls",
            "_view_module_version": "1.5.0",
            "_view_name": "HBoxView",
            "box_style": "",
            "children": [
              "IPY_MODEL_40a95582708b44a8a56fda69cd4b65d5",
              "IPY_MODEL_357337ac97124a16b0179dce208a189d",
              "IPY_MODEL_6f1d9aa42d7746ae81839890425e54ea"
            ],
            "layout": "IPY_MODEL_72b028adeb5b4996a691bd6a273a9a50"
          }
        },
        "40a95582708b44a8a56fda69cd4b65d5": {
          "model_module": "@jupyter-widgets/controls",
          "model_name": "HTMLModel",
          "model_module_version": "1.5.0",
          "state": {
            "_dom_classes": [],
            "_model_module": "@jupyter-widgets/controls",
            "_model_module_version": "1.5.0",
            "_model_name": "HTMLModel",
            "_view_count": null,
            "_view_module": "@jupyter-widgets/controls",
            "_view_module_version": "1.5.0",
            "_view_name": "HTMLView",
            "description": "",
            "description_tooltip": null,
            "layout": "IPY_MODEL_c80aa8a6d38e48b38a20826803b0b2e7",
            "placeholder": "​",
            "style": "IPY_MODEL_121c658f9d6841c98dd812bb15a92564",
            "value": "config.json: 100%"
          }
        },
        "357337ac97124a16b0179dce208a189d": {
          "model_module": "@jupyter-widgets/controls",
          "model_name": "FloatProgressModel",
          "model_module_version": "1.5.0",
          "state": {
            "_dom_classes": [],
            "_model_module": "@jupyter-widgets/controls",
            "_model_module_version": "1.5.0",
            "_model_name": "FloatProgressModel",
            "_view_count": null,
            "_view_module": "@jupyter-widgets/controls",
            "_view_module_version": "1.5.0",
            "_view_name": "ProgressView",
            "bar_style": "success",
            "description": "",
            "description_tooltip": null,
            "layout": "IPY_MODEL_6da1a9d9e4744fd3b7fa78bb3eda78ce",
            "max": 483,
            "min": 0,
            "orientation": "horizontal",
            "style": "IPY_MODEL_9c536e7af6eb4ff690581c45a26c11ae",
            "value": 483
          }
        },
        "6f1d9aa42d7746ae81839890425e54ea": {
          "model_module": "@jupyter-widgets/controls",
          "model_name": "HTMLModel",
          "model_module_version": "1.5.0",
          "state": {
            "_dom_classes": [],
            "_model_module": "@jupyter-widgets/controls",
            "_model_module_version": "1.5.0",
            "_model_name": "HTMLModel",
            "_view_count": null,
            "_view_module": "@jupyter-widgets/controls",
            "_view_module_version": "1.5.0",
            "_view_name": "HTMLView",
            "description": "",
            "description_tooltip": null,
            "layout": "IPY_MODEL_77f9cbaa824a434db7a9c98a0a02bb84",
            "placeholder": "​",
            "style": "IPY_MODEL_5abee95fa7c84f85a1351e250bd35448",
            "value": " 483/483 [00:00&lt;00:00, 36.6kB/s]"
          }
        },
        "72b028adeb5b4996a691bd6a273a9a50": {
          "model_module": "@jupyter-widgets/base",
          "model_name": "LayoutModel",
          "model_module_version": "1.2.0",
          "state": {
            "_model_module": "@jupyter-widgets/base",
            "_model_module_version": "1.2.0",
            "_model_name": "LayoutModel",
            "_view_count": null,
            "_view_module": "@jupyter-widgets/base",
            "_view_module_version": "1.2.0",
            "_view_name": "LayoutView",
            "align_content": null,
            "align_items": null,
            "align_self": null,
            "border": null,
            "bottom": null,
            "display": null,
            "flex": null,
            "flex_flow": null,
            "grid_area": null,
            "grid_auto_columns": null,
            "grid_auto_flow": null,
            "grid_auto_rows": null,
            "grid_column": null,
            "grid_gap": null,
            "grid_row": null,
            "grid_template_areas": null,
            "grid_template_columns": null,
            "grid_template_rows": null,
            "height": null,
            "justify_content": null,
            "justify_items": null,
            "left": null,
            "margin": null,
            "max_height": null,
            "max_width": null,
            "min_height": null,
            "min_width": null,
            "object_fit": null,
            "object_position": null,
            "order": null,
            "overflow": null,
            "overflow_x": null,
            "overflow_y": null,
            "padding": null,
            "right": null,
            "top": null,
            "visibility": null,
            "width": null
          }
        },
        "c80aa8a6d38e48b38a20826803b0b2e7": {
          "model_module": "@jupyter-widgets/base",
          "model_name": "LayoutModel",
          "model_module_version": "1.2.0",
          "state": {
            "_model_module": "@jupyter-widgets/base",
            "_model_module_version": "1.2.0",
            "_model_name": "LayoutModel",
            "_view_count": null,
            "_view_module": "@jupyter-widgets/base",
            "_view_module_version": "1.2.0",
            "_view_name": "LayoutView",
            "align_content": null,
            "align_items": null,
            "align_self": null,
            "border": null,
            "bottom": null,
            "display": null,
            "flex": null,
            "flex_flow": null,
            "grid_area": null,
            "grid_auto_columns": null,
            "grid_auto_flow": null,
            "grid_auto_rows": null,
            "grid_column": null,
            "grid_gap": null,
            "grid_row": null,
            "grid_template_areas": null,
            "grid_template_columns": null,
            "grid_template_rows": null,
            "height": null,
            "justify_content": null,
            "justify_items": null,
            "left": null,
            "margin": null,
            "max_height": null,
            "max_width": null,
            "min_height": null,
            "min_width": null,
            "object_fit": null,
            "object_position": null,
            "order": null,
            "overflow": null,
            "overflow_x": null,
            "overflow_y": null,
            "padding": null,
            "right": null,
            "top": null,
            "visibility": null,
            "width": null
          }
        },
        "121c658f9d6841c98dd812bb15a92564": {
          "model_module": "@jupyter-widgets/controls",
          "model_name": "DescriptionStyleModel",
          "model_module_version": "1.5.0",
          "state": {
            "_model_module": "@jupyter-widgets/controls",
            "_model_module_version": "1.5.0",
            "_model_name": "DescriptionStyleModel",
            "_view_count": null,
            "_view_module": "@jupyter-widgets/base",
            "_view_module_version": "1.2.0",
            "_view_name": "StyleView",
            "description_width": ""
          }
        },
        "6da1a9d9e4744fd3b7fa78bb3eda78ce": {
          "model_module": "@jupyter-widgets/base",
          "model_name": "LayoutModel",
          "model_module_version": "1.2.0",
          "state": {
            "_model_module": "@jupyter-widgets/base",
            "_model_module_version": "1.2.0",
            "_model_name": "LayoutModel",
            "_view_count": null,
            "_view_module": "@jupyter-widgets/base",
            "_view_module_version": "1.2.0",
            "_view_name": "LayoutView",
            "align_content": null,
            "align_items": null,
            "align_self": null,
            "border": null,
            "bottom": null,
            "display": null,
            "flex": null,
            "flex_flow": null,
            "grid_area": null,
            "grid_auto_columns": null,
            "grid_auto_flow": null,
            "grid_auto_rows": null,
            "grid_column": null,
            "grid_gap": null,
            "grid_row": null,
            "grid_template_areas": null,
            "grid_template_columns": null,
            "grid_template_rows": null,
            "height": null,
            "justify_content": null,
            "justify_items": null,
            "left": null,
            "margin": null,
            "max_height": null,
            "max_width": null,
            "min_height": null,
            "min_width": null,
            "object_fit": null,
            "object_position": null,
            "order": null,
            "overflow": null,
            "overflow_x": null,
            "overflow_y": null,
            "padding": null,
            "right": null,
            "top": null,
            "visibility": null,
            "width": null
          }
        },
        "9c536e7af6eb4ff690581c45a26c11ae": {
          "model_module": "@jupyter-widgets/controls",
          "model_name": "ProgressStyleModel",
          "model_module_version": "1.5.0",
          "state": {
            "_model_module": "@jupyter-widgets/controls",
            "_model_module_version": "1.5.0",
            "_model_name": "ProgressStyleModel",
            "_view_count": null,
            "_view_module": "@jupyter-widgets/base",
            "_view_module_version": "1.2.0",
            "_view_name": "StyleView",
            "bar_color": null,
            "description_width": ""
          }
        },
        "77f9cbaa824a434db7a9c98a0a02bb84": {
          "model_module": "@jupyter-widgets/base",
          "model_name": "LayoutModel",
          "model_module_version": "1.2.0",
          "state": {
            "_model_module": "@jupyter-widgets/base",
            "_model_module_version": "1.2.0",
            "_model_name": "LayoutModel",
            "_view_count": null,
            "_view_module": "@jupyter-widgets/base",
            "_view_module_version": "1.2.0",
            "_view_name": "LayoutView",
            "align_content": null,
            "align_items": null,
            "align_self": null,
            "border": null,
            "bottom": null,
            "display": null,
            "flex": null,
            "flex_flow": null,
            "grid_area": null,
            "grid_auto_columns": null,
            "grid_auto_flow": null,
            "grid_auto_rows": null,
            "grid_column": null,
            "grid_gap": null,
            "grid_row": null,
            "grid_template_areas": null,
            "grid_template_columns": null,
            "grid_template_rows": null,
            "height": null,
            "justify_content": null,
            "justify_items": null,
            "left": null,
            "margin": null,
            "max_height": null,
            "max_width": null,
            "min_height": null,
            "min_width": null,
            "object_fit": null,
            "object_position": null,
            "order": null,
            "overflow": null,
            "overflow_x": null,
            "overflow_y": null,
            "padding": null,
            "right": null,
            "top": null,
            "visibility": null,
            "width": null
          }
        },
        "5abee95fa7c84f85a1351e250bd35448": {
          "model_module": "@jupyter-widgets/controls",
          "model_name": "DescriptionStyleModel",
          "model_module_version": "1.5.0",
          "state": {
            "_model_module": "@jupyter-widgets/controls",
            "_model_module_version": "1.5.0",
            "_model_name": "DescriptionStyleModel",
            "_view_count": null,
            "_view_module": "@jupyter-widgets/base",
            "_view_module_version": "1.2.0",
            "_view_name": "StyleView",
            "description_width": ""
          }
        },
        "483ba60d036c49f182d846c7216afccb": {
          "model_module": "@jupyter-widgets/controls",
          "model_name": "HBoxModel",
          "model_module_version": "1.5.0",
          "state": {
            "_dom_classes": [],
            "_model_module": "@jupyter-widgets/controls",
            "_model_module_version": "1.5.0",
            "_model_name": "HBoxModel",
            "_view_count": null,
            "_view_module": "@jupyter-widgets/controls",
            "_view_module_version": "1.5.0",
            "_view_name": "HBoxView",
            "box_style": "",
            "children": [
              "IPY_MODEL_96533a54a1f945deb1f8e0e4c4305462",
              "IPY_MODEL_86182ac7db3544978fdbf8e4014f48b1",
              "IPY_MODEL_5338d75bd66a4f62b03370ca08f8f388"
            ],
            "layout": "IPY_MODEL_34313aa076b24d249ae966941d4263c7"
          }
        },
        "96533a54a1f945deb1f8e0e4c4305462": {
          "model_module": "@jupyter-widgets/controls",
          "model_name": "HTMLModel",
          "model_module_version": "1.5.0",
          "state": {
            "_dom_classes": [],
            "_model_module": "@jupyter-widgets/controls",
            "_model_module_version": "1.5.0",
            "_model_name": "HTMLModel",
            "_view_count": null,
            "_view_module": "@jupyter-widgets/controls",
            "_view_module_version": "1.5.0",
            "_view_name": "HTMLView",
            "description": "",
            "description_tooltip": null,
            "layout": "IPY_MODEL_ade43ab89e004363bbcfe77b0e9c8602",
            "placeholder": "​",
            "style": "IPY_MODEL_756a1ecf1c1c495c97b52ed86b0aea60",
            "value": "model.safetensors: 100%"
          }
        },
        "86182ac7db3544978fdbf8e4014f48b1": {
          "model_module": "@jupyter-widgets/controls",
          "model_name": "FloatProgressModel",
          "model_module_version": "1.5.0",
          "state": {
            "_dom_classes": [],
            "_model_module": "@jupyter-widgets/controls",
            "_model_module_version": "1.5.0",
            "_model_name": "FloatProgressModel",
            "_view_count": null,
            "_view_module": "@jupyter-widgets/controls",
            "_view_module_version": "1.5.0",
            "_view_name": "ProgressView",
            "bar_style": "success",
            "description": "",
            "description_tooltip": null,
            "layout": "IPY_MODEL_144f8ad30ab74fb2a4c2c80ad644a67e",
            "max": 267954768,
            "min": 0,
            "orientation": "horizontal",
            "style": "IPY_MODEL_f10d9f488cd94be58ed077e8d6b59aa1",
            "value": 267954768
          }
        },
        "5338d75bd66a4f62b03370ca08f8f388": {
          "model_module": "@jupyter-widgets/controls",
          "model_name": "HTMLModel",
          "model_module_version": "1.5.0",
          "state": {
            "_dom_classes": [],
            "_model_module": "@jupyter-widgets/controls",
            "_model_module_version": "1.5.0",
            "_model_name": "HTMLModel",
            "_view_count": null,
            "_view_module": "@jupyter-widgets/controls",
            "_view_module_version": "1.5.0",
            "_view_name": "HTMLView",
            "description": "",
            "description_tooltip": null,
            "layout": "IPY_MODEL_d505cb0fe4a04ddaa2e74f3422727c60",
            "placeholder": "​",
            "style": "IPY_MODEL_6a3fd23a46f54b59accf628f59dc223b",
            "value": " 268M/268M [00:04&lt;00:00, 299MB/s]"
          }
        },
        "34313aa076b24d249ae966941d4263c7": {
          "model_module": "@jupyter-widgets/base",
          "model_name": "LayoutModel",
          "model_module_version": "1.2.0",
          "state": {
            "_model_module": "@jupyter-widgets/base",
            "_model_module_version": "1.2.0",
            "_model_name": "LayoutModel",
            "_view_count": null,
            "_view_module": "@jupyter-widgets/base",
            "_view_module_version": "1.2.0",
            "_view_name": "LayoutView",
            "align_content": null,
            "align_items": null,
            "align_self": null,
            "border": null,
            "bottom": null,
            "display": null,
            "flex": null,
            "flex_flow": null,
            "grid_area": null,
            "grid_auto_columns": null,
            "grid_auto_flow": null,
            "grid_auto_rows": null,
            "grid_column": null,
            "grid_gap": null,
            "grid_row": null,
            "grid_template_areas": null,
            "grid_template_columns": null,
            "grid_template_rows": null,
            "height": null,
            "justify_content": null,
            "justify_items": null,
            "left": null,
            "margin": null,
            "max_height": null,
            "max_width": null,
            "min_height": null,
            "min_width": null,
            "object_fit": null,
            "object_position": null,
            "order": null,
            "overflow": null,
            "overflow_x": null,
            "overflow_y": null,
            "padding": null,
            "right": null,
            "top": null,
            "visibility": null,
            "width": null
          }
        },
        "ade43ab89e004363bbcfe77b0e9c8602": {
          "model_module": "@jupyter-widgets/base",
          "model_name": "LayoutModel",
          "model_module_version": "1.2.0",
          "state": {
            "_model_module": "@jupyter-widgets/base",
            "_model_module_version": "1.2.0",
            "_model_name": "LayoutModel",
            "_view_count": null,
            "_view_module": "@jupyter-widgets/base",
            "_view_module_version": "1.2.0",
            "_view_name": "LayoutView",
            "align_content": null,
            "align_items": null,
            "align_self": null,
            "border": null,
            "bottom": null,
            "display": null,
            "flex": null,
            "flex_flow": null,
            "grid_area": null,
            "grid_auto_columns": null,
            "grid_auto_flow": null,
            "grid_auto_rows": null,
            "grid_column": null,
            "grid_gap": null,
            "grid_row": null,
            "grid_template_areas": null,
            "grid_template_columns": null,
            "grid_template_rows": null,
            "height": null,
            "justify_content": null,
            "justify_items": null,
            "left": null,
            "margin": null,
            "max_height": null,
            "max_width": null,
            "min_height": null,
            "min_width": null,
            "object_fit": null,
            "object_position": null,
            "order": null,
            "overflow": null,
            "overflow_x": null,
            "overflow_y": null,
            "padding": null,
            "right": null,
            "top": null,
            "visibility": null,
            "width": null
          }
        },
        "756a1ecf1c1c495c97b52ed86b0aea60": {
          "model_module": "@jupyter-widgets/controls",
          "model_name": "DescriptionStyleModel",
          "model_module_version": "1.5.0",
          "state": {
            "_model_module": "@jupyter-widgets/controls",
            "_model_module_version": "1.5.0",
            "_model_name": "DescriptionStyleModel",
            "_view_count": null,
            "_view_module": "@jupyter-widgets/base",
            "_view_module_version": "1.2.0",
            "_view_name": "StyleView",
            "description_width": ""
          }
        },
        "144f8ad30ab74fb2a4c2c80ad644a67e": {
          "model_module": "@jupyter-widgets/base",
          "model_name": "LayoutModel",
          "model_module_version": "1.2.0",
          "state": {
            "_model_module": "@jupyter-widgets/base",
            "_model_module_version": "1.2.0",
            "_model_name": "LayoutModel",
            "_view_count": null,
            "_view_module": "@jupyter-widgets/base",
            "_view_module_version": "1.2.0",
            "_view_name": "LayoutView",
            "align_content": null,
            "align_items": null,
            "align_self": null,
            "border": null,
            "bottom": null,
            "display": null,
            "flex": null,
            "flex_flow": null,
            "grid_area": null,
            "grid_auto_columns": null,
            "grid_auto_flow": null,
            "grid_auto_rows": null,
            "grid_column": null,
            "grid_gap": null,
            "grid_row": null,
            "grid_template_areas": null,
            "grid_template_columns": null,
            "grid_template_rows": null,
            "height": null,
            "justify_content": null,
            "justify_items": null,
            "left": null,
            "margin": null,
            "max_height": null,
            "max_width": null,
            "min_height": null,
            "min_width": null,
            "object_fit": null,
            "object_position": null,
            "order": null,
            "overflow": null,
            "overflow_x": null,
            "overflow_y": null,
            "padding": null,
            "right": null,
            "top": null,
            "visibility": null,
            "width": null
          }
        },
        "f10d9f488cd94be58ed077e8d6b59aa1": {
          "model_module": "@jupyter-widgets/controls",
          "model_name": "ProgressStyleModel",
          "model_module_version": "1.5.0",
          "state": {
            "_model_module": "@jupyter-widgets/controls",
            "_model_module_version": "1.5.0",
            "_model_name": "ProgressStyleModel",
            "_view_count": null,
            "_view_module": "@jupyter-widgets/base",
            "_view_module_version": "1.2.0",
            "_view_name": "StyleView",
            "bar_color": null,
            "description_width": ""
          }
        },
        "d505cb0fe4a04ddaa2e74f3422727c60": {
          "model_module": "@jupyter-widgets/base",
          "model_name": "LayoutModel",
          "model_module_version": "1.2.0",
          "state": {
            "_model_module": "@jupyter-widgets/base",
            "_model_module_version": "1.2.0",
            "_model_name": "LayoutModel",
            "_view_count": null,
            "_view_module": "@jupyter-widgets/base",
            "_view_module_version": "1.2.0",
            "_view_name": "LayoutView",
            "align_content": null,
            "align_items": null,
            "align_self": null,
            "border": null,
            "bottom": null,
            "display": null,
            "flex": null,
            "flex_flow": null,
            "grid_area": null,
            "grid_auto_columns": null,
            "grid_auto_flow": null,
            "grid_auto_rows": null,
            "grid_column": null,
            "grid_gap": null,
            "grid_row": null,
            "grid_template_areas": null,
            "grid_template_columns": null,
            "grid_template_rows": null,
            "height": null,
            "justify_content": null,
            "justify_items": null,
            "left": null,
            "margin": null,
            "max_height": null,
            "max_width": null,
            "min_height": null,
            "min_width": null,
            "object_fit": null,
            "object_position": null,
            "order": null,
            "overflow": null,
            "overflow_x": null,
            "overflow_y": null,
            "padding": null,
            "right": null,
            "top": null,
            "visibility": null,
            "width": null
          }
        },
        "6a3fd23a46f54b59accf628f59dc223b": {
          "model_module": "@jupyter-widgets/controls",
          "model_name": "DescriptionStyleModel",
          "model_module_version": "1.5.0",
          "state": {
            "_model_module": "@jupyter-widgets/controls",
            "_model_module_version": "1.5.0",
            "_model_name": "DescriptionStyleModel",
            "_view_count": null,
            "_view_module": "@jupyter-widgets/base",
            "_view_module_version": "1.2.0",
            "_view_name": "StyleView",
            "description_width": ""
          }
        }
      }
    }
  },
  "cells": [
    {
      "cell_type": "markdown",
      "metadata": {
        "id": "view-in-github",
        "colab_type": "text"
      },
      "source": [
        "<a href=\"https://colab.research.google.com/github/alessandropessoa/LLM-cases/blob/main/formas_de_treinamento_llms_fine_tune_extracao_feature_lora_destilacao_conheimento_testes.ipynb\" target=\"_parent\"><img src=\"https://colab.research.google.com/assets/colab-badge.svg\" alt=\"Open In Colab\"/></a>"
      ]
    },
    {
      "cell_type": "markdown",
      "source": [
        "**DESTILAÇÂO DE CONHECIMENTO**"
      ],
      "metadata": {
        "id": "mAK58QMeDddW"
      }
    },
    {
      "cell_type": "markdown",
      "source": [
        "#Visão geral"
      ],
      "metadata": {
        "id": "4yIS_Y3Km0xI"
      }
    },
    {
      "cell_type": "markdown",
      "source": [
        "**Destilação de conhecimento**\n",
        "\n",
        "**O que?**\n",
        "\n",
        "É uma técnica usada para transferir o conhecimento de um modelo grande e poderoso (chamado de professor ou teacher) para um modelo menor e mais leve (chamado de aluno ou student).\n",
        "\n",
        "**Por que?**\n",
        "\n",
        "* Modelos grandes (como BERT, GPT, etc.) são muito precisos, mas pesados e lentos para usar em produção (celulares, IoT, etc.).\n",
        "\n",
        "* Modelos pequenos são mais rápidos, leves, mas geralmente menos precisos.\n",
        "\n",
        "* A destilação de conhecimento busca ensinar o modelo pequeno a imitar o comportamento do modelo grande, alcançando boa performance com menos recursos\n",
        "\n",
        "\n",
        "**Como ?**\n",
        "\n",
        "* O modelo professor é treinado com os dados e gera \"soft labels\":\n",
        "\n",
        "        Ao invés de apenas dizer “a resposta é A”, ele dá uma distribuição de probabilidade, tipo:\n",
        "\n",
        "            A: 0.82\n",
        "\n",
        "            B: 0.13\n",
        "\n",
        "            C: 0.04\n",
        "\n",
        "            D: 0.01\n",
        "\n",
        "* O modelo aluno aprende com essas soft labels, que são mais informativas do que as etiquetas tradicionais (0 ou 1).\n",
        "\n",
        "        Isso ajuda o aluno a aprender nuances e relações sutis entre as classes.\n",
        "\n",
        "* A função de perda (loss) é uma combinação de duas partes:\n",
        "\n",
        "        Uma compara a saída do aluno com os rótulos reais.\n",
        "\n",
        "        Outra compara com a saída do professor (soft labels), geralmente usando uma função de entropia cruzada suavizada por temperatura (softmax com temperatura).\n",
        "\n",
        "fORUMLA:\n",
        "\n",
        "$$\n",
        "\\text{Loss} = \\alpha \\cdot \\text{CE}(y_{\\text{student}}, y_{\\text{true}}) + (1 - \\alpha) \\cdot \\text{KL}(y_{\\text{student}}^{(T)} \\parallel y_{\\text{teacher}}^{(T)})\n",
        "$$\n",
        "\n",
        "Explicação dos termos:\n",
        "\n",
        "* Loss: Função de perda total usada para treinar o modelo student (aluno).\n",
        "\n",
        "* α: Peso (entre 0 e 1) que controla a importância entre os dois tipos de perda.\n",
        "\n",
        "* CE: Cross-Entropy Loss — mede a diferença entre a saída do aluno e os rótulos reais (y_true).\n",
        "\n",
        "* KL: Kullback-Leibler Divergence — mede a diferença entre a distribuição de probabilidade do aluno e a do professor, ambas suavizadas por uma temperatura T.\n",
        "\n",
        "* ystudent(T)ystudent(T)​: Saída do aluno com softmax ajustado por temperatura T (mais suave).\n",
        "\n",
        "* yteacher(T)yteacher(T)​: Saída do professor com softmax T.\n",
        "\n",
        "**A temperatura no softmax é usada para “suavizar” a distribuição de probabilidades. Fórmula do softmax com temperatura:**\n",
        "$$\n",
        "\\text{softmax}_T(z_i) = \\frac{e^{z_i / T}}{\\sum_j e^{z_j / T}}\n",
        "$$\n",
        "\n",
        "\n",
        "* Quando T > 1, o softmax gera probabilidades mais suaves (menos confiantes), revelando relações sutis entre classes.\n",
        "\n",
        "* Isso ajuda o modelo aluno a entender melhor como o professor vê os dados, mesmo quando erra por pouco.\n",
        "\n",
        " Intuição:\n",
        "\n",
        "* O Cross-Entropy com os rótulos reais garante que o aluno aprenda a tarefa corretamente.\n",
        "\n",
        "* A KL Divergence com o professor ajuda o aluno a “copiar” o comportamento inteligente do professor, incluindo conhecimento implícito entre classes."
      ],
      "metadata": {
        "id": "XQKKTS95l4Ov"
      }
    },
    {
      "cell_type": "markdown",
      "source": [],
      "metadata": {
        "id": "Bi6ak5-fl2bQ"
      }
    },
    {
      "cell_type": "markdown",
      "source": [],
      "metadata": {
        "id": "yEwzXGosDbP3"
      }
    },
    {
      "cell_type": "markdown",
      "source": [
        "# Pipeline de trabalho e objetivo"
      ],
      "metadata": {
        "id": "bxtnijPsNLoF"
      }
    },
    {
      "cell_type": "markdown",
      "source": [
        "### Objetivo\n",
        "  Destilar conhecimeneto de modelos maior para menor, ou seja do professor (modelo grande) para o modelo aluno (menor menor)"
      ],
      "metadata": {
        "id": "c7kDa0LDNWwC"
      }
    },
    {
      "cell_type": "markdown",
      "source": [
        "# importação de depedências"
      ],
      "metadata": {
        "id": "jkYD6wh-NIUV"
      }
    },
    {
      "cell_type": "code",
      "execution_count": 5,
      "metadata": {
        "id": "ar-4wNWyLrSQ"
      },
      "outputs": [],
      "source": [
        "import torch\n",
        "import torch.nn as nn\n",
        "import torch.nn.functional as F\n",
        "from torch.utils.data import Dataset, DataLoader\n",
        "from sklearn.model_selection import train_test_split\n",
        "from sklearn.preprocessing import LabelEncoder\n",
        "from collections import namedtuple"
      ]
    },
    {
      "cell_type": "markdown",
      "source": [
        "#Simulação"
      ],
      "metadata": {
        "id": "0vE9Nh9xtrgF"
      }
    },
    {
      "cell_type": "markdown",
      "source": [
        "Essa classee é modelo maior, tipo o BERT LARGE"
      ],
      "metadata": {
        "id": "t2ci9-FApILw"
      }
    },
    {
      "cell_type": "code",
      "source": [
        "class   ModelpProfessor(nn.Module):\n",
        "    def __init__(self):\n",
        "        super().__init__()\n",
        "        self.fc = nn.Sequential(\n",
        "            nn.Linear(100, 256),\n",
        "            nn.ReLU(),\n",
        "            nn.Linear(256, 10)  # 10 classes\n",
        "        )\n",
        "\n",
        "    def forward(self, x):\n",
        "        return self.fc(x)"
      ],
      "metadata": {
        "id": "Tto-pEacog13"
      },
      "execution_count": 12,
      "outputs": []
    },
    {
      "cell_type": "markdown",
      "source": [
        "Essa classer é modelo menor, tipo o BERT BASE"
      ],
      "metadata": {
        "id": "cdS7POC3pPLY"
      }
    },
    {
      "cell_type": "code",
      "source": [
        "class ModeloEstudante(nn.Module):\n",
        "    def __init__(self):\n",
        "        super().__init__()\n",
        "        self.fc = nn.Sequential(\n",
        "            nn.Linear(100, 64),\n",
        "            nn.ReLU(),\n",
        "            nn.Linear(64, 10)\n",
        "        )\n",
        "\n",
        "    def forward(self, x):\n",
        "        return self.fc(x)"
      ],
      "metadata": {
        "id": "Xuahqx-YoikW"
      },
      "execution_count": 13,
      "outputs": []
    },
    {
      "cell_type": "code",
      "source": [
        "professor = ModelpProfessor()\n",
        "estudante= ModeloEstudante()"
      ],
      "metadata": {
        "id": "Q7tk-9a3olfd"
      },
      "execution_count": 14,
      "outputs": []
    },
    {
      "cell_type": "markdown",
      "source": [
        "No exemplo abaixo iremos simula um batch com 32 amostras e 100 featrures, e são 10 tipos de rotulos que se pode ter para as 32 amostras"
      ],
      "metadata": {
        "id": "4i-NOPYTr3pW"
      }
    },
    {
      "cell_type": "code",
      "source": [
        "# Dados fictícios\n",
        "x = torch.randn(32, 100)            # batch com 32 amostras, 100 features\n",
        "y_true = torch.randint(0, 10, (32,))  # rótulos reais"
      ],
      "metadata": {
        "id": "ud-R6EFVomhK"
      },
      "execution_count": 9,
      "outputs": []
    },
    {
      "cell_type": "code",
      "source": [
        "x"
      ],
      "metadata": {
        "colab": {
          "base_uri": "https://localhost:8080/"
        },
        "id": "0zcB2hh1ooyv",
        "outputId": "a133969c-169c-410f-9c37-52ad1331caea"
      },
      "execution_count": 10,
      "outputs": [
        {
          "output_type": "execute_result",
          "data": {
            "text/plain": [
              "tensor([[-0.6587, -1.7000, -0.1837,  ...,  1.8617, -1.5898,  0.8192],\n",
              "        [ 0.5071, -1.1964,  0.1379,  ...,  0.2671, -0.5135,  1.7725],\n",
              "        [-0.3025,  0.3318,  1.2593,  ...,  1.3519, -1.3106,  0.6065],\n",
              "        ...,\n",
              "        [-0.9346, -0.5077, -1.8255,  ..., -0.0740,  0.0888,  0.3412],\n",
              "        [ 1.7038, -0.0305, -0.3958,  ..., -1.1218, -0.6705,  0.2440],\n",
              "        [ 0.4347, -1.2985, -0.0836,  ..., -0.6392,  2.6205,  1.3970]])"
            ]
          },
          "metadata": {},
          "execution_count": 10
        }
      ]
    },
    {
      "cell_type": "code",
      "source": [
        "x.shape"
      ],
      "metadata": {
        "colab": {
          "base_uri": "https://localhost:8080/"
        },
        "id": "i79i-jMdpVZY",
        "outputId": "6ec371ff-313c-4829-a33a-b23cf269aead"
      },
      "execution_count": 15,
      "outputs": [
        {
          "output_type": "execute_result",
          "data": {
            "text/plain": [
              "torch.Size([32, 100])"
            ]
          },
          "metadata": {},
          "execution_count": 15
        }
      ]
    },
    {
      "cell_type": "code",
      "source": [
        "y_true"
      ],
      "metadata": {
        "colab": {
          "base_uri": "https://localhost:8080/"
        },
        "id": "yL918h8ZuU7R",
        "outputId": "3ef973ca-2e86-497b-8ca7-53428be81d16"
      },
      "execution_count": 38,
      "outputs": [
        {
          "output_type": "execute_result",
          "data": {
            "text/plain": [
              "tensor([8, 3, 2, 3, 3, 0, 7, 3, 1, 6, 9, 3, 9, 3, 9, 9, 3, 1, 1, 8, 7, 0, 7, 1,\n",
              "        7, 3, 0, 9, 7, 8, 2, 3])"
            ]
          },
          "metadata": {},
          "execution_count": 38
        }
      ]
    },
    {
      "cell_type": "code",
      "source": [
        "y_true.shape"
      ],
      "metadata": {
        "colab": {
          "base_uri": "https://localhost:8080/"
        },
        "id": "UCs79UMIuN3a",
        "outputId": "e2a55ba4-e34e-4b3a-9a4e-5b924a0e867c"
      },
      "execution_count": 37,
      "outputs": [
        {
          "output_type": "execute_result",
          "data": {
            "text/plain": [
              "torch.Size([32])"
            ]
          },
          "metadata": {},
          "execution_count": 37
        }
      ]
    },
    {
      "cell_type": "markdown",
      "source": [
        "**A temperatura no softmax é usada para “suavizar” a distribuição de probabilidades. Fórmula do softmax com temperatura:**\n",
        "$$\n",
        "\\text{softmax}_T(z_i) = \\frac{e^{z_i / T}}{\\sum_j e^{z_j / T}}\n",
        "$$\n",
        "\n",
        "\n",
        "* Quando T > 1, o softmax gera probabilidades mais suaves (menos confiantes), revelando relações sutis entre classes.\n",
        "\n",
        "* Isso ajuda o modelo aluno a entender melhor como o professor vê os dados, mesmo quando erra por pouco.\n",
        "\n",
        " Intuição:\n",
        "\n",
        "* O Cross-Entropy com os rótulos reais garante que o aluno aprenda a tarefa corretamente.\n",
        "\n",
        "* A KL Divergence com o professor ajuda o aluno a “copiar” o comportamento inteligente do professor, incluindo conhecimento implícito entre classes.\n",
        "\n",
        "T é a temperatura: quanto maior, mais suave (mais distribuída) fica a saída.\n",
        "\n",
        "Quando T=1, a fórmula vira o softmax comum.\n",
        "\n",
        "Quando T>1, a distribuição das probabilidades fica mais \"suave\", revelando melhor as relações entre as classes — ideal para destilação de conhecimento.\n",
        "\n",
        "Quando T→0, o softmax se aproxima de uma distribuição one-hot."
      ],
      "metadata": {
        "id": "BRu2_CFGqLfG"
      }
    },
    {
      "cell_type": "code",
      "source": [
        "# Temperatura e alpha\n",
        "T = 2.0\n",
        "alpha = 0.7"
      ],
      "metadata": {
        "id": "ESMYMyHEpew-"
      },
      "execution_count": 16,
      "outputs": []
    },
    {
      "cell_type": "code",
      "source": [
        "# Saídas dos modelos\n",
        "with torch.no_grad():  # o professor já foi treinado\n",
        "    professor_logits = professor(x)\n",
        "    professor_probs = F.softmax(professor_logits / T, dim=1)"
      ],
      "metadata": {
        "id": "q_JcdPn2rFrF"
      },
      "execution_count": 23,
      "outputs": []
    },
    {
      "cell_type": "code",
      "source": [
        "professor_logits"
      ],
      "metadata": {
        "colab": {
          "base_uri": "https://localhost:8080/"
        },
        "id": "-O8gSMKqrpxW",
        "outputId": "58a325b1-033a-44fb-c110-fece5f16bfe3"
      },
      "execution_count": 24,
      "outputs": [
        {
          "output_type": "execute_result",
          "data": {
            "text/plain": [
              "tensor([[-0.1278, -0.2230, -0.0483,  0.0105, -0.0974, -0.1367, -0.1930, -0.0457,\n",
              "          0.4329,  0.4156],\n",
              "        [-0.1638, -0.1079,  0.0765, -0.1543, -0.1790,  0.0633,  0.6179, -0.0825,\n",
              "         -0.0664, -0.0310],\n",
              "        [-0.4422,  0.1340,  0.0926,  0.2089, -0.2680, -0.0099, -0.0025, -0.0585,\n",
              "         -0.0823,  0.3825],\n",
              "        [-0.2592,  0.4054,  0.2289,  0.2923, -0.3748,  0.2991,  0.2390,  0.2221,\n",
              "          0.1086,  0.2760],\n",
              "        [-0.1758,  0.0212,  0.2482, -0.2482,  0.2731, -0.1753,  0.0401, -0.0872,\n",
              "         -0.3104,  0.2291],\n",
              "        [-0.0009,  0.2136,  0.0623,  0.1910, -0.0715,  0.0110,  0.1072,  0.0479,\n",
              "         -0.2553,  0.1060],\n",
              "        [-0.3049,  0.2214,  0.2453,  0.1484, -0.1260, -0.0477,  0.0910, -0.2332,\n",
              "          0.0898, -0.1025],\n",
              "        [ 0.0886,  0.0861,  0.0587, -0.1767, -0.0373, -0.0242,  0.0301, -0.2036,\n",
              "          0.0562,  0.1572],\n",
              "        [-0.0876,  0.0878, -0.2286,  0.2896,  0.0310, -0.2253,  0.1596, -0.3043,\n",
              "         -0.0921,  0.1685],\n",
              "        [-0.3283, -0.1714,  0.2121, -0.3677, -0.3324, -0.1990,  0.0538, -0.0310,\n",
              "         -0.2728,  0.1455],\n",
              "        [-0.0437,  0.1342, -0.0528, -0.2366, -0.2435,  0.1070,  0.3143, -0.0334,\n",
              "         -0.1299,  0.3169],\n",
              "        [-0.2271,  0.3916,  0.0798,  0.2287,  0.0894, -0.0428, -0.1573,  0.2020,\n",
              "          0.1835,  0.1320],\n",
              "        [ 0.1673,  0.0116, -0.1086,  0.2952, -0.2027, -0.0524,  0.2485,  0.1142,\n",
              "         -0.1165,  0.3014],\n",
              "        [-0.3538,  0.1802,  0.1062,  0.0745, -0.2263, -0.0788,  0.0709,  0.0322,\n",
              "          0.5104,  0.4847],\n",
              "        [-0.6256,  0.3199, -0.0502, -0.1683, -0.0292,  0.4443, -0.0873, -0.1385,\n",
              "         -0.2835,  0.1866],\n",
              "        [-0.1202, -0.0097, -0.2228, -0.1405,  0.0303, -0.1091,  0.2283, -0.4498,\n",
              "         -0.2046, -0.0796],\n",
              "        [ 0.0557,  0.1508,  0.1457, -0.0504, -0.1691,  0.1872,  0.1886, -0.1295,\n",
              "         -0.3402,  0.3415],\n",
              "        [-0.4175, -0.0850, -0.1587, -0.1352, -0.3338, -0.2851,  0.0714, -0.0355,\n",
              "         -0.0930,  0.0708],\n",
              "        [-0.5420,  0.2748, -0.1485,  0.0777, -0.2158,  0.3897,  0.1558, -0.2577,\n",
              "         -0.2161,  0.0873],\n",
              "        [-0.4270, -0.2737,  0.0548, -0.0517, -0.3832, -0.0817,  0.2987, -0.2213,\n",
              "          0.1793,  0.0690],\n",
              "        [ 0.1088, -0.0443, -0.2267,  0.4516, -0.1378,  0.1140,  0.2134,  0.0793,\n",
              "          0.1644,  0.1651],\n",
              "        [ 0.1193,  0.0685, -0.1696, -0.0308, -0.1067, -0.1806, -0.2752, -0.1044,\n",
              "         -0.1852,  0.2802],\n",
              "        [-0.3206, -0.2311, -0.0049, -0.1427,  0.1304, -0.0673, -0.1819, -0.1027,\n",
              "         -0.3141,  0.0156],\n",
              "        [ 0.0241,  0.2320, -0.0029, -0.0745, -0.4243, -0.0681,  0.1152,  0.0446,\n",
              "          0.0977,  0.2185],\n",
              "        [-0.4819,  0.1963,  0.1386, -0.1032, -0.0465, -0.2375,  0.2811, -0.4413,\n",
              "         -0.2563, -0.0308],\n",
              "        [-0.1091,  0.2409, -0.3115,  0.0627, -0.0034, -0.0355, -0.2414, -0.0276,\n",
              "          0.1351,  0.4744],\n",
              "        [-0.2242,  0.2342,  0.3963, -0.1240, -0.1870, -0.0858,  0.1948, -0.1615,\n",
              "         -0.0022, -0.2237],\n",
              "        [-0.3802,  0.0470, -0.1194,  0.0504, -0.2696, -0.2594,  0.1262, -0.2688,\n",
              "         -0.2838,  0.1589],\n",
              "        [-0.1782,  0.0117, -0.0503,  0.1088,  0.0914, -0.1950,  0.0348, -0.1642,\n",
              "          0.2119, -0.2216],\n",
              "        [ 0.0079,  0.0229,  0.0249, -0.0464, -0.3614, -0.1483,  0.0498, -0.2589,\n",
              "          0.1453, -0.0395],\n",
              "        [-0.0884,  0.1851,  0.2327, -0.0921,  0.0233,  0.0827,  0.2520,  0.0185,\n",
              "          0.0159, -0.2109],\n",
              "        [-0.0725,  0.1349, -0.0218, -0.2609, -0.4408, -0.1788, -0.0272, -0.2660,\n",
              "         -0.2531,  0.0023]])"
            ]
          },
          "metadata": {},
          "execution_count": 24
        }
      ]
    },
    {
      "cell_type": "code",
      "source": [
        "professor_logits.shape"
      ],
      "metadata": {
        "colab": {
          "base_uri": "https://localhost:8080/"
        },
        "id": "6kcAY3kKruv_",
        "outputId": "c599d8a3-4273-43ba-f459-04d197795bc7"
      },
      "execution_count": 22,
      "outputs": [
        {
          "output_type": "execute_result",
          "data": {
            "text/plain": [
              "torch.Size([32, 10])"
            ]
          },
          "metadata": {},
          "execution_count": 22
        }
      ]
    },
    {
      "cell_type": "code",
      "source": [
        "professor_probs"
      ],
      "metadata": {
        "colab": {
          "base_uri": "https://localhost:8080/"
        },
        "id": "-fzzreq3sOWF",
        "outputId": "db8e0edf-7d88-4147-8ab1-decc075aa3b4"
      },
      "execution_count": 25,
      "outputs": [
        {
          "output_type": "execute_result",
          "data": {
            "text/plain": [
              "tensor([[0.0933, 0.0889, 0.0970, 0.0999, 0.0947, 0.0929, 0.0903, 0.0972, 0.1234,\n",
              "         0.1224],\n",
              "        [0.0916, 0.0942, 0.1033, 0.0921, 0.0910, 0.1027, 0.1355, 0.0954, 0.0962,\n",
              "         0.0979],\n",
              "        [0.0799, 0.1065, 0.1043, 0.1106, 0.0871, 0.0991, 0.0995, 0.0967, 0.0956,\n",
              "         0.1206],\n",
              "        [0.0812, 0.1132, 0.1036, 0.1070, 0.0766, 0.1073, 0.1041, 0.1033, 0.0976,\n",
              "         0.1061],\n",
              "        [0.0920, 0.1015, 0.1137, 0.0887, 0.1151, 0.0920, 0.1024, 0.0961, 0.0860,\n",
              "         0.1126],\n",
              "        [0.0977, 0.1088, 0.1009, 0.1076, 0.0943, 0.0983, 0.1032, 0.1001, 0.0861,\n",
              "         0.1031],\n",
              "        [0.0856, 0.1114, 0.1127, 0.1074, 0.0936, 0.0973, 0.1043, 0.0887, 0.1043,\n",
              "         0.0947],\n",
              "        [0.1042, 0.1041, 0.1026, 0.0912, 0.0978, 0.0985, 0.1012, 0.0900, 0.1025,\n",
              "         0.1078],\n",
              "        [0.0963, 0.1051, 0.0897, 0.1162, 0.1021, 0.0899, 0.1089, 0.0864, 0.0960,\n",
              "         0.1094],\n",
              "        [0.0901, 0.0974, 0.1180, 0.0883, 0.0899, 0.0961, 0.1090, 0.1045, 0.0926,\n",
              "         0.1141],\n",
              "        [0.0967, 0.1057, 0.0963, 0.0878, 0.0875, 0.1043, 0.1157, 0.0972, 0.0927,\n",
              "         0.1159],\n",
              "        [0.0851, 0.1159, 0.0992, 0.1069, 0.0997, 0.0933, 0.0881, 0.1055, 0.1045,\n",
              "         0.1018],\n",
              "        [0.1048, 0.0970, 0.0913, 0.1117, 0.0871, 0.0939, 0.1091, 0.1021, 0.0909,\n",
              "         0.1121],\n",
              "        [0.0798, 0.1043, 0.1005, 0.0989, 0.0851, 0.0916, 0.0987, 0.0968, 0.1230,\n",
              "         0.1214],\n",
              "        [0.0740, 0.1187, 0.0986, 0.0930, 0.0996, 0.1263, 0.0968, 0.0943, 0.0878,\n",
              "         0.1110],\n",
              "        [0.0990, 0.1047, 0.0941, 0.0980, 0.1068, 0.0996, 0.1179, 0.0840, 0.0949,\n",
              "         0.1011],\n",
              "        [0.1004, 0.1053, 0.1050, 0.0952, 0.0897, 0.1072, 0.1073, 0.0915, 0.0824,\n",
              "         0.1158],\n",
              "        [0.0868, 0.1025, 0.0988, 0.0999, 0.0905, 0.0927, 0.1108, 0.1051, 0.1021,\n",
              "         0.1108],\n",
              "        [0.0771, 0.1160, 0.0938, 0.1051, 0.0907, 0.1228, 0.1093, 0.0889, 0.0907,\n",
              "         0.1056],\n",
              "        [0.0837, 0.0903, 0.1065, 0.1010, 0.0855, 0.0995, 0.1203, 0.0927, 0.1133,\n",
              "         0.1072],\n",
              "        [0.1006, 0.0932, 0.0851, 0.1194, 0.0889, 0.1009, 0.1060, 0.0991, 0.1034,\n",
              "         0.1035],\n",
              "        [0.1089, 0.1062, 0.0943, 0.1011, 0.0973, 0.0938, 0.0894, 0.0974, 0.0935,\n",
              "         0.1181],\n",
              "        [0.0903, 0.0945, 0.1058, 0.0987, 0.1132, 0.1025, 0.0968, 0.1007, 0.0906,\n",
              "         0.1069],\n",
              "        [0.1000, 0.1110, 0.0987, 0.0952, 0.0799, 0.0955, 0.1047, 0.1010, 0.1038,\n",
              "         0.1102],\n",
              "        [0.0819, 0.1150, 0.1117, 0.0990, 0.1018, 0.0926, 0.1200, 0.0836, 0.0917,\n",
              "         0.1026],\n",
              "        [0.0933, 0.1111, 0.0843, 0.1016, 0.0983, 0.0968, 0.0873, 0.0971, 0.1054,\n",
              "         0.1249],\n",
              "        [0.0897, 0.1128, 0.1224, 0.0943, 0.0914, 0.0961, 0.1106, 0.0926, 0.1003,\n",
              "         0.0897],\n",
              "        [0.0874, 0.1082, 0.0996, 0.1084, 0.0924, 0.0928, 0.1126, 0.0924, 0.0917,\n",
              "         0.1144],\n",
              "        [0.0929, 0.1021, 0.0990, 0.1072, 0.1063, 0.0921, 0.1033, 0.0935, 0.1129,\n",
              "         0.0909],\n",
              "        [0.1032, 0.1040, 0.1041, 0.1004, 0.0858, 0.0955, 0.1054, 0.0903, 0.1105,\n",
              "         0.1008],\n",
              "        [0.0935, 0.1072, 0.1097, 0.0933, 0.0988, 0.1018, 0.1108, 0.0986, 0.0985,\n",
              "         0.0879],\n",
              "        [0.1030, 0.1143, 0.1057, 0.0938, 0.0857, 0.0977, 0.1054, 0.0935, 0.0941,\n",
              "         0.1069]])"
            ]
          },
          "metadata": {},
          "execution_count": 25
        }
      ]
    },
    {
      "cell_type": "code",
      "source": [
        "professor_probs.shape"
      ],
      "metadata": {
        "colab": {
          "base_uri": "https://localhost:8080/"
        },
        "id": "MjmjjpELsQtF",
        "outputId": "9e2950b5-f5fe-43e2-ef59-3e98df38d9a9"
      },
      "execution_count": 26,
      "outputs": [
        {
          "output_type": "execute_result",
          "data": {
            "text/plain": [
              "torch.Size([32, 10])"
            ]
          },
          "metadata": {},
          "execution_count": 26
        }
      ]
    },
    {
      "cell_type": "code",
      "source": [
        "estudante_logits = estudante(x)\n",
        "estudante_probs = F.log_softmax(estudante_logits / T, dim=1)"
      ],
      "metadata": {
        "id": "dX70lzLKrGlu"
      },
      "execution_count": null,
      "outputs": []
    },
    {
      "cell_type": "markdown",
      "source": [
        "**Perdas**"
      ],
      "metadata": {
        "id": "M9MW70Y-siqI"
      }
    },
    {
      "cell_type": "markdown",
      "source": [
        " # com rótulos reais"
      ],
      "metadata": {
        "id": "VuNjzhs0syN2"
      }
    },
    {
      "cell_type": "code",
      "source": [
        "ce_loss = F.cross_entropy(student_logits, y_true)  # com rótulos reais\n",
        "ce_loss"
      ],
      "metadata": {
        "colab": {
          "base_uri": "https://localhost:8080/"
        },
        "id": "AIUf-8KZsljf",
        "outputId": "2a408309-94b7-4b04-ae90-529a96295410"
      },
      "execution_count": 28,
      "outputs": [
        {
          "output_type": "execute_result",
          "data": {
            "text/plain": [
              "tensor(2.3908, grad_fn=<NllLossBackward0>)"
            ]
          },
          "metadata": {},
          "execution_count": 28
        }
      ]
    },
    {
      "cell_type": "markdown",
      "source": [
        "# com destilação"
      ],
      "metadata": {
        "id": "bO07oSxZs2-i"
      }
    },
    {
      "cell_type": "code",
      "source": [
        "kl_loss = F.kl_div(student_probs, teacher_probs, reduction=\"batchmean\") * (T * T)  # com distilação\n",
        "kl_loss"
      ],
      "metadata": {
        "colab": {
          "base_uri": "https://localhost:8080/"
        },
        "id": "LSQtMLUUsp4e",
        "outputId": "844c438d-0ce2-46d4-b105-898aa72f9d79"
      },
      "execution_count": 31,
      "outputs": [
        {
          "output_type": "execute_result",
          "data": {
            "text/plain": [
              "tensor(0.0554, grad_fn=<MulBackward0>)"
            ]
          },
          "metadata": {},
          "execution_count": 31
        }
      ]
    },
    {
      "cell_type": "markdown",
      "source": [
        "# Perda final combinada"
      ],
      "metadata": {
        "id": "A0zG9G8otDkY"
      }
    },
    {
      "cell_type": "code",
      "source": [
        "# Loss final combinada\n",
        "loss = alpha * ce_loss + (1 - alpha) * kl_loss\n",
        "loss"
      ],
      "metadata": {
        "colab": {
          "base_uri": "https://localhost:8080/"
        },
        "id": "8vOMEbN3s_U3",
        "outputId": "0ec56b4b-92ee-4db8-9cf5-4289074c15ae"
      },
      "execution_count": 34,
      "outputs": [
        {
          "output_type": "execute_result",
          "data": {
            "text/plain": [
              "tensor(1.6902, grad_fn=<AddBackward0>)"
            ]
          },
          "metadata": {},
          "execution_count": 34
        }
      ]
    },
    {
      "cell_type": "code",
      "source": [
        "print(f\"PerdA total: {loss.item():.4f}\")\n"
      ],
      "metadata": {
        "colab": {
          "base_uri": "https://localhost:8080/"
        },
        "id": "UEBTJN_UM9qw",
        "outputId": "8f4b4872-35dc-4d2f-cffa-0ba2337c60d7"
      },
      "execution_count": 35,
      "outputs": [
        {
          "output_type": "stream",
          "name": "stdout",
          "text": [
            "PerdA total: 1.6902\n"
          ]
        }
      ]
    },
    {
      "cell_type": "markdown",
      "source": [
        "Resumo:\n",
        "\n",
        "O professor foi treinado antes (aqui estamos simulando).\n",
        "\n",
        "O estudante aprende tanto com os rótulos reais quanto com a sabedoria do Teacher.\n",
        "\n",
        "A distilação acontece com softmax suavizado, revelando relações entre classes que o rótulo direto não mostra.\n",
        "\n",
        "\n",
        "Multiplicamos o kl_loss por T² por recomendação do artigo original de Hinton (Knowledge Distillation, 2015)."
      ],
      "metadata": {
        "id": "uta25TTJtWc5"
      }
    },
    {
      "cell_type": "code",
      "source": [],
      "metadata": {
        "id": "vkve8dDLtNEX"
      },
      "execution_count": null,
      "outputs": []
    },
    {
      "cell_type": "markdown",
      "source": [
        "#TESTE 2"
      ],
      "metadata": {
        "id": "KyILkfRRFs3T"
      }
    },
    {
      "cell_type": "code",
      "source": [
        "import torch\n",
        "import torch.nn as nn\n",
        "import torch.nn.functional as F\n",
        "from torch.utils.data import Dataset, DataLoader\n",
        "from sklearn.model_selection import train_test_split\n",
        "from sklearn.preprocessing import LabelEncoder\n",
        "from collections import namedtuple\n",
        "import pandas as pd"
      ],
      "metadata": {
        "id": "naI0d-g0FwlI"
      },
      "execution_count": 200,
      "outputs": []
    },
    {
      "cell_type": "code",
      "source": [
        "ds = pd.read_csv(\"/content/textos_categorizados.csv\")\n"
      ],
      "metadata": {
        "id": "E3EMMwfvHoNE"
      },
      "execution_count": 202,
      "outputs": []
    },
    {
      "cell_type": "code",
      "source": [
        "ds"
      ],
      "metadata": {
        "colab": {
          "base_uri": "https://localhost:8080/",
          "height": 677
        },
        "id": "CzVIqGHvm-mC",
        "outputId": "fb21779f-a203-46d6-8769-084544a941ba"
      },
      "execution_count": 219,
      "outputs": [
        {
          "output_type": "execute_result",
          "data": {
            "text/plain": [
              "                                                texto          label\n",
              "0   Organizações civis e movimentos sociais convoc...       protesto\n",
              "1   Milhares de manifestantes ocuparam as ruas da ...       protesto\n",
              "2   Protestos se intensificaram após o aumento no ...       protesto\n",
              "3   Integrantes de diversos sindicatos realizaram ...       protesto\n",
              "4   Estudantes de várias universidades públicas or...       protesto\n",
              "5   O relatório do Banco Central apontou crescimen...       economia\n",
              "6   A inflação do mês de março apresentou uma leve...       economia\n",
              "7   Analistas financeiros revisaram as projeções d...       economia\n",
              "8   A taxa básica de juros foi reduzida pelo Comit...       economia\n",
              "9   A bolsa de valores fechou o pregão com alta de...       economia\n",
              "10  Universidades federais ampliaram a oferta de c...       educacao\n",
              "11  Uma nova lei aprovada no congresso estabelece ...       educacao\n",
              "12  Estudantes de diferentes estados participaram ...       educacao\n",
              "13  O Ministério da Educação lançou um programa de...       educacao\n",
              "14  Professores da educação básica participaram de...       educacao\n",
              "15  Estudos mostram que a poluição dos rios urbano...  meio_ambiente\n",
              "16  Organizações não-governamentais iniciaram um p...  meio_ambiente\n",
              "17  O aumento dos focos de queimadas na região ama...  meio_ambiente\n",
              "18  A conferência internacional sobre mudanças cli...  meio_ambiente\n",
              "19  Pesquisadores divulgaram um relatório que most...  meio_ambiente"
            ],
            "text/html": [
              "\n",
              "  <div id=\"df-f5922ec0-b2a1-4ecb-9801-193dc17e91b4\" class=\"colab-df-container\">\n",
              "    <div>\n",
              "<style scoped>\n",
              "    .dataframe tbody tr th:only-of-type {\n",
              "        vertical-align: middle;\n",
              "    }\n",
              "\n",
              "    .dataframe tbody tr th {\n",
              "        vertical-align: top;\n",
              "    }\n",
              "\n",
              "    .dataframe thead th {\n",
              "        text-align: right;\n",
              "    }\n",
              "</style>\n",
              "<table border=\"1\" class=\"dataframe\">\n",
              "  <thead>\n",
              "    <tr style=\"text-align: right;\">\n",
              "      <th></th>\n",
              "      <th>texto</th>\n",
              "      <th>label</th>\n",
              "    </tr>\n",
              "  </thead>\n",
              "  <tbody>\n",
              "    <tr>\n",
              "      <th>0</th>\n",
              "      <td>Organizações civis e movimentos sociais convoc...</td>\n",
              "      <td>protesto</td>\n",
              "    </tr>\n",
              "    <tr>\n",
              "      <th>1</th>\n",
              "      <td>Milhares de manifestantes ocuparam as ruas da ...</td>\n",
              "      <td>protesto</td>\n",
              "    </tr>\n",
              "    <tr>\n",
              "      <th>2</th>\n",
              "      <td>Protestos se intensificaram após o aumento no ...</td>\n",
              "      <td>protesto</td>\n",
              "    </tr>\n",
              "    <tr>\n",
              "      <th>3</th>\n",
              "      <td>Integrantes de diversos sindicatos realizaram ...</td>\n",
              "      <td>protesto</td>\n",
              "    </tr>\n",
              "    <tr>\n",
              "      <th>4</th>\n",
              "      <td>Estudantes de várias universidades públicas or...</td>\n",
              "      <td>protesto</td>\n",
              "    </tr>\n",
              "    <tr>\n",
              "      <th>5</th>\n",
              "      <td>O relatório do Banco Central apontou crescimen...</td>\n",
              "      <td>economia</td>\n",
              "    </tr>\n",
              "    <tr>\n",
              "      <th>6</th>\n",
              "      <td>A inflação do mês de março apresentou uma leve...</td>\n",
              "      <td>economia</td>\n",
              "    </tr>\n",
              "    <tr>\n",
              "      <th>7</th>\n",
              "      <td>Analistas financeiros revisaram as projeções d...</td>\n",
              "      <td>economia</td>\n",
              "    </tr>\n",
              "    <tr>\n",
              "      <th>8</th>\n",
              "      <td>A taxa básica de juros foi reduzida pelo Comit...</td>\n",
              "      <td>economia</td>\n",
              "    </tr>\n",
              "    <tr>\n",
              "      <th>9</th>\n",
              "      <td>A bolsa de valores fechou o pregão com alta de...</td>\n",
              "      <td>economia</td>\n",
              "    </tr>\n",
              "    <tr>\n",
              "      <th>10</th>\n",
              "      <td>Universidades federais ampliaram a oferta de c...</td>\n",
              "      <td>educacao</td>\n",
              "    </tr>\n",
              "    <tr>\n",
              "      <th>11</th>\n",
              "      <td>Uma nova lei aprovada no congresso estabelece ...</td>\n",
              "      <td>educacao</td>\n",
              "    </tr>\n",
              "    <tr>\n",
              "      <th>12</th>\n",
              "      <td>Estudantes de diferentes estados participaram ...</td>\n",
              "      <td>educacao</td>\n",
              "    </tr>\n",
              "    <tr>\n",
              "      <th>13</th>\n",
              "      <td>O Ministério da Educação lançou um programa de...</td>\n",
              "      <td>educacao</td>\n",
              "    </tr>\n",
              "    <tr>\n",
              "      <th>14</th>\n",
              "      <td>Professores da educação básica participaram de...</td>\n",
              "      <td>educacao</td>\n",
              "    </tr>\n",
              "    <tr>\n",
              "      <th>15</th>\n",
              "      <td>Estudos mostram que a poluição dos rios urbano...</td>\n",
              "      <td>meio_ambiente</td>\n",
              "    </tr>\n",
              "    <tr>\n",
              "      <th>16</th>\n",
              "      <td>Organizações não-governamentais iniciaram um p...</td>\n",
              "      <td>meio_ambiente</td>\n",
              "    </tr>\n",
              "    <tr>\n",
              "      <th>17</th>\n",
              "      <td>O aumento dos focos de queimadas na região ama...</td>\n",
              "      <td>meio_ambiente</td>\n",
              "    </tr>\n",
              "    <tr>\n",
              "      <th>18</th>\n",
              "      <td>A conferência internacional sobre mudanças cli...</td>\n",
              "      <td>meio_ambiente</td>\n",
              "    </tr>\n",
              "    <tr>\n",
              "      <th>19</th>\n",
              "      <td>Pesquisadores divulgaram um relatório que most...</td>\n",
              "      <td>meio_ambiente</td>\n",
              "    </tr>\n",
              "  </tbody>\n",
              "</table>\n",
              "</div>\n",
              "    <div class=\"colab-df-buttons\">\n",
              "\n",
              "  <div class=\"colab-df-container\">\n",
              "    <button class=\"colab-df-convert\" onclick=\"convertToInteractive('df-f5922ec0-b2a1-4ecb-9801-193dc17e91b4')\"\n",
              "            title=\"Convert this dataframe to an interactive table.\"\n",
              "            style=\"display:none;\">\n",
              "\n",
              "  <svg xmlns=\"http://www.w3.org/2000/svg\" height=\"24px\" viewBox=\"0 -960 960 960\">\n",
              "    <path d=\"M120-120v-720h720v720H120Zm60-500h600v-160H180v160Zm220 220h160v-160H400v160Zm0 220h160v-160H400v160ZM180-400h160v-160H180v160Zm440 0h160v-160H620v160ZM180-180h160v-160H180v160Zm440 0h160v-160H620v160Z\"/>\n",
              "  </svg>\n",
              "    </button>\n",
              "\n",
              "  <style>\n",
              "    .colab-df-container {\n",
              "      display:flex;\n",
              "      gap: 12px;\n",
              "    }\n",
              "\n",
              "    .colab-df-convert {\n",
              "      background-color: #E8F0FE;\n",
              "      border: none;\n",
              "      border-radius: 50%;\n",
              "      cursor: pointer;\n",
              "      display: none;\n",
              "      fill: #1967D2;\n",
              "      height: 32px;\n",
              "      padding: 0 0 0 0;\n",
              "      width: 32px;\n",
              "    }\n",
              "\n",
              "    .colab-df-convert:hover {\n",
              "      background-color: #E2EBFA;\n",
              "      box-shadow: 0px 1px 2px rgba(60, 64, 67, 0.3), 0px 1px 3px 1px rgba(60, 64, 67, 0.15);\n",
              "      fill: #174EA6;\n",
              "    }\n",
              "\n",
              "    .colab-df-buttons div {\n",
              "      margin-bottom: 4px;\n",
              "    }\n",
              "\n",
              "    [theme=dark] .colab-df-convert {\n",
              "      background-color: #3B4455;\n",
              "      fill: #D2E3FC;\n",
              "    }\n",
              "\n",
              "    [theme=dark] .colab-df-convert:hover {\n",
              "      background-color: #434B5C;\n",
              "      box-shadow: 0px 1px 3px 1px rgba(0, 0, 0, 0.15);\n",
              "      filter: drop-shadow(0px 1px 2px rgba(0, 0, 0, 0.3));\n",
              "      fill: #FFFFFF;\n",
              "    }\n",
              "  </style>\n",
              "\n",
              "    <script>\n",
              "      const buttonEl =\n",
              "        document.querySelector('#df-f5922ec0-b2a1-4ecb-9801-193dc17e91b4 button.colab-df-convert');\n",
              "      buttonEl.style.display =\n",
              "        google.colab.kernel.accessAllowed ? 'block' : 'none';\n",
              "\n",
              "      async function convertToInteractive(key) {\n",
              "        const element = document.querySelector('#df-f5922ec0-b2a1-4ecb-9801-193dc17e91b4');\n",
              "        const dataTable =\n",
              "          await google.colab.kernel.invokeFunction('convertToInteractive',\n",
              "                                                    [key], {});\n",
              "        if (!dataTable) return;\n",
              "\n",
              "        const docLinkHtml = 'Like what you see? Visit the ' +\n",
              "          '<a target=\"_blank\" href=https://colab.research.google.com/notebooks/data_table.ipynb>data table notebook</a>'\n",
              "          + ' to learn more about interactive tables.';\n",
              "        element.innerHTML = '';\n",
              "        dataTable['output_type'] = 'display_data';\n",
              "        await google.colab.output.renderOutput(dataTable, element);\n",
              "        const docLink = document.createElement('div');\n",
              "        docLink.innerHTML = docLinkHtml;\n",
              "        element.appendChild(docLink);\n",
              "      }\n",
              "    </script>\n",
              "  </div>\n",
              "\n",
              "\n",
              "<div id=\"df-dc81c9e4-8f26-4ab1-a4ff-53efc3c17e3f\">\n",
              "  <button class=\"colab-df-quickchart\" onclick=\"quickchart('df-dc81c9e4-8f26-4ab1-a4ff-53efc3c17e3f')\"\n",
              "            title=\"Suggest charts\"\n",
              "            style=\"display:none;\">\n",
              "\n",
              "<svg xmlns=\"http://www.w3.org/2000/svg\" height=\"24px\"viewBox=\"0 0 24 24\"\n",
              "     width=\"24px\">\n",
              "    <g>\n",
              "        <path d=\"M19 3H5c-1.1 0-2 .9-2 2v14c0 1.1.9 2 2 2h14c1.1 0 2-.9 2-2V5c0-1.1-.9-2-2-2zM9 17H7v-7h2v7zm4 0h-2V7h2v10zm4 0h-2v-4h2v4z\"/>\n",
              "    </g>\n",
              "</svg>\n",
              "  </button>\n",
              "\n",
              "<style>\n",
              "  .colab-df-quickchart {\n",
              "      --bg-color: #E8F0FE;\n",
              "      --fill-color: #1967D2;\n",
              "      --hover-bg-color: #E2EBFA;\n",
              "      --hover-fill-color: #174EA6;\n",
              "      --disabled-fill-color: #AAA;\n",
              "      --disabled-bg-color: #DDD;\n",
              "  }\n",
              "\n",
              "  [theme=dark] .colab-df-quickchart {\n",
              "      --bg-color: #3B4455;\n",
              "      --fill-color: #D2E3FC;\n",
              "      --hover-bg-color: #434B5C;\n",
              "      --hover-fill-color: #FFFFFF;\n",
              "      --disabled-bg-color: #3B4455;\n",
              "      --disabled-fill-color: #666;\n",
              "  }\n",
              "\n",
              "  .colab-df-quickchart {\n",
              "    background-color: var(--bg-color);\n",
              "    border: none;\n",
              "    border-radius: 50%;\n",
              "    cursor: pointer;\n",
              "    display: none;\n",
              "    fill: var(--fill-color);\n",
              "    height: 32px;\n",
              "    padding: 0;\n",
              "    width: 32px;\n",
              "  }\n",
              "\n",
              "  .colab-df-quickchart:hover {\n",
              "    background-color: var(--hover-bg-color);\n",
              "    box-shadow: 0 1px 2px rgba(60, 64, 67, 0.3), 0 1px 3px 1px rgba(60, 64, 67, 0.15);\n",
              "    fill: var(--button-hover-fill-color);\n",
              "  }\n",
              "\n",
              "  .colab-df-quickchart-complete:disabled,\n",
              "  .colab-df-quickchart-complete:disabled:hover {\n",
              "    background-color: var(--disabled-bg-color);\n",
              "    fill: var(--disabled-fill-color);\n",
              "    box-shadow: none;\n",
              "  }\n",
              "\n",
              "  .colab-df-spinner {\n",
              "    border: 2px solid var(--fill-color);\n",
              "    border-color: transparent;\n",
              "    border-bottom-color: var(--fill-color);\n",
              "    animation:\n",
              "      spin 1s steps(1) infinite;\n",
              "  }\n",
              "\n",
              "  @keyframes spin {\n",
              "    0% {\n",
              "      border-color: transparent;\n",
              "      border-bottom-color: var(--fill-color);\n",
              "      border-left-color: var(--fill-color);\n",
              "    }\n",
              "    20% {\n",
              "      border-color: transparent;\n",
              "      border-left-color: var(--fill-color);\n",
              "      border-top-color: var(--fill-color);\n",
              "    }\n",
              "    30% {\n",
              "      border-color: transparent;\n",
              "      border-left-color: var(--fill-color);\n",
              "      border-top-color: var(--fill-color);\n",
              "      border-right-color: var(--fill-color);\n",
              "    }\n",
              "    40% {\n",
              "      border-color: transparent;\n",
              "      border-right-color: var(--fill-color);\n",
              "      border-top-color: var(--fill-color);\n",
              "    }\n",
              "    60% {\n",
              "      border-color: transparent;\n",
              "      border-right-color: var(--fill-color);\n",
              "    }\n",
              "    80% {\n",
              "      border-color: transparent;\n",
              "      border-right-color: var(--fill-color);\n",
              "      border-bottom-color: var(--fill-color);\n",
              "    }\n",
              "    90% {\n",
              "      border-color: transparent;\n",
              "      border-bottom-color: var(--fill-color);\n",
              "    }\n",
              "  }\n",
              "</style>\n",
              "\n",
              "  <script>\n",
              "    async function quickchart(key) {\n",
              "      const quickchartButtonEl =\n",
              "        document.querySelector('#' + key + ' button');\n",
              "      quickchartButtonEl.disabled = true;  // To prevent multiple clicks.\n",
              "      quickchartButtonEl.classList.add('colab-df-spinner');\n",
              "      try {\n",
              "        const charts = await google.colab.kernel.invokeFunction(\n",
              "            'suggestCharts', [key], {});\n",
              "      } catch (error) {\n",
              "        console.error('Error during call to suggestCharts:', error);\n",
              "      }\n",
              "      quickchartButtonEl.classList.remove('colab-df-spinner');\n",
              "      quickchartButtonEl.classList.add('colab-df-quickchart-complete');\n",
              "    }\n",
              "    (() => {\n",
              "      let quickchartButtonEl =\n",
              "        document.querySelector('#df-dc81c9e4-8f26-4ab1-a4ff-53efc3c17e3f button');\n",
              "      quickchartButtonEl.style.display =\n",
              "        google.colab.kernel.accessAllowed ? 'block' : 'none';\n",
              "    })();\n",
              "  </script>\n",
              "</div>\n",
              "\n",
              "  <div id=\"id_063a7c9f-3b17-4f06-b831-a55ec61fba17\">\n",
              "    <style>\n",
              "      .colab-df-generate {\n",
              "        background-color: #E8F0FE;\n",
              "        border: none;\n",
              "        border-radius: 50%;\n",
              "        cursor: pointer;\n",
              "        display: none;\n",
              "        fill: #1967D2;\n",
              "        height: 32px;\n",
              "        padding: 0 0 0 0;\n",
              "        width: 32px;\n",
              "      }\n",
              "\n",
              "      .colab-df-generate:hover {\n",
              "        background-color: #E2EBFA;\n",
              "        box-shadow: 0px 1px 2px rgba(60, 64, 67, 0.3), 0px 1px 3px 1px rgba(60, 64, 67, 0.15);\n",
              "        fill: #174EA6;\n",
              "      }\n",
              "\n",
              "      [theme=dark] .colab-df-generate {\n",
              "        background-color: #3B4455;\n",
              "        fill: #D2E3FC;\n",
              "      }\n",
              "\n",
              "      [theme=dark] .colab-df-generate:hover {\n",
              "        background-color: #434B5C;\n",
              "        box-shadow: 0px 1px 3px 1px rgba(0, 0, 0, 0.15);\n",
              "        filter: drop-shadow(0px 1px 2px rgba(0, 0, 0, 0.3));\n",
              "        fill: #FFFFFF;\n",
              "      }\n",
              "    </style>\n",
              "    <button class=\"colab-df-generate\" onclick=\"generateWithVariable('ds')\"\n",
              "            title=\"Generate code using this dataframe.\"\n",
              "            style=\"display:none;\">\n",
              "\n",
              "  <svg xmlns=\"http://www.w3.org/2000/svg\" height=\"24px\"viewBox=\"0 0 24 24\"\n",
              "       width=\"24px\">\n",
              "    <path d=\"M7,19H8.4L18.45,9,17,7.55,7,17.6ZM5,21V16.75L18.45,3.32a2,2,0,0,1,2.83,0l1.4,1.43a1.91,1.91,0,0,1,.58,1.4,1.91,1.91,0,0,1-.58,1.4L9.25,21ZM18.45,9,17,7.55Zm-12,3A5.31,5.31,0,0,0,4.9,8.1,5.31,5.31,0,0,0,1,6.5,5.31,5.31,0,0,0,4.9,4.9,5.31,5.31,0,0,0,6.5,1,5.31,5.31,0,0,0,8.1,4.9,5.31,5.31,0,0,0,12,6.5,5.46,5.46,0,0,0,6.5,12Z\"/>\n",
              "  </svg>\n",
              "    </button>\n",
              "    <script>\n",
              "      (() => {\n",
              "      const buttonEl =\n",
              "        document.querySelector('#id_063a7c9f-3b17-4f06-b831-a55ec61fba17 button.colab-df-generate');\n",
              "      buttonEl.style.display =\n",
              "        google.colab.kernel.accessAllowed ? 'block' : 'none';\n",
              "\n",
              "      buttonEl.onclick = () => {\n",
              "        google.colab.notebook.generateWithVariable('ds');\n",
              "      }\n",
              "      })();\n",
              "    </script>\n",
              "  </div>\n",
              "\n",
              "    </div>\n",
              "  </div>\n"
            ],
            "application/vnd.google.colaboratory.intrinsic+json": {
              "type": "dataframe",
              "variable_name": "ds",
              "summary": "{\n  \"name\": \"ds\",\n  \"rows\": 20,\n  \"fields\": [\n    {\n      \"column\": \"texto\",\n      \"properties\": {\n        \"dtype\": \"string\",\n        \"num_unique_values\": 20,\n        \"samples\": [\n          \"Organiza\\u00e7\\u00f5es civis e movimentos sociais convocaram um ato nacional em resposta \\u00e0 viol\\u00eancia policial registrada nos \\u00faltimos meses nas periferias urbanas.\",\n          \"O aumento dos focos de queimadas na regi\\u00e3o amaz\\u00f4nica preocupa autoridades ambientais, que alertam para o risco de desequil\\u00edbrio ecol\\u00f3gico e perda de biodiversidade.\",\n          \"Estudos mostram que a polui\\u00e7\\u00e3o dos rios urbanos continua crescendo, mesmo com pol\\u00edticas de saneamento, o que representa riscos \\u00e0 sa\\u00fade p\\u00fablica e \\u00e0 biodiversidade aqu\\u00e1tica.\"\n        ],\n        \"semantic_type\": \"\",\n        \"description\": \"\"\n      }\n    },\n    {\n      \"column\": \"label\",\n      \"properties\": {\n        \"dtype\": \"category\",\n        \"num_unique_values\": 4,\n        \"samples\": [\n          \"economia\",\n          \"meio_ambiente\",\n          \"protesto\"\n        ],\n        \"semantic_type\": \"\",\n        \"description\": \"\"\n      }\n    }\n  ]\n}"
            }
          },
          "metadata": {},
          "execution_count": 219
        }
      ]
    },
    {
      "cell_type": "code",
      "source": [
        "ds.info()"
      ],
      "metadata": {
        "colab": {
          "base_uri": "https://localhost:8080/"
        },
        "id": "CxbczGAjnBeg",
        "outputId": "b5e42992-8d30-4e2d-80e7-a61741924fd9"
      },
      "execution_count": 220,
      "outputs": [
        {
          "output_type": "stream",
          "name": "stdout",
          "text": [
            "<class 'pandas.core.frame.DataFrame'>\n",
            "RangeIndex: 20 entries, 0 to 19\n",
            "Data columns (total 2 columns):\n",
            " #   Column  Non-Null Count  Dtype \n",
            "---  ------  --------------  ----- \n",
            " 0   texto   20 non-null     object\n",
            " 1   label   20 non-null     object\n",
            "dtypes: object(2)\n",
            "memory usage: 452.0+ bytes\n"
          ]
        }
      ]
    },
    {
      "cell_type": "code",
      "source": [
        "ds.label.unique()"
      ],
      "metadata": {
        "colab": {
          "base_uri": "https://localhost:8080/"
        },
        "id": "H7UlxD6SnF9B",
        "outputId": "7fd482e4-6a75-49b3-d537-f50d8faf84ca"
      },
      "execution_count": 221,
      "outputs": [
        {
          "output_type": "execute_result",
          "data": {
            "text/plain": [
              "array(['protesto', 'economia', 'educacao', 'meio_ambiente'], dtype=object)"
            ]
          },
          "metadata": {},
          "execution_count": 221
        }
      ]
    },
    {
      "cell_type": "code",
      "source": [
        "ds = ds.drop_duplicates().reset_index(drop=True)\n",
        "ds"
      ],
      "metadata": {
        "colab": {
          "base_uri": "https://localhost:8080/",
          "height": 677
        },
        "id": "wi6C235lnzLc",
        "outputId": "d4b45319-3c05-4bd0-b884-ccbff7696a2b"
      },
      "execution_count": 222,
      "outputs": [
        {
          "output_type": "execute_result",
          "data": {
            "text/plain": [
              "                                                texto          label\n",
              "0   Organizações civis e movimentos sociais convoc...       protesto\n",
              "1   Milhares de manifestantes ocuparam as ruas da ...       protesto\n",
              "2   Protestos se intensificaram após o aumento no ...       protesto\n",
              "3   Integrantes de diversos sindicatos realizaram ...       protesto\n",
              "4   Estudantes de várias universidades públicas or...       protesto\n",
              "5   O relatório do Banco Central apontou crescimen...       economia\n",
              "6   A inflação do mês de março apresentou uma leve...       economia\n",
              "7   Analistas financeiros revisaram as projeções d...       economia\n",
              "8   A taxa básica de juros foi reduzida pelo Comit...       economia\n",
              "9   A bolsa de valores fechou o pregão com alta de...       economia\n",
              "10  Universidades federais ampliaram a oferta de c...       educacao\n",
              "11  Uma nova lei aprovada no congresso estabelece ...       educacao\n",
              "12  Estudantes de diferentes estados participaram ...       educacao\n",
              "13  O Ministério da Educação lançou um programa de...       educacao\n",
              "14  Professores da educação básica participaram de...       educacao\n",
              "15  Estudos mostram que a poluição dos rios urbano...  meio_ambiente\n",
              "16  Organizações não-governamentais iniciaram um p...  meio_ambiente\n",
              "17  O aumento dos focos de queimadas na região ama...  meio_ambiente\n",
              "18  A conferência internacional sobre mudanças cli...  meio_ambiente\n",
              "19  Pesquisadores divulgaram um relatório que most...  meio_ambiente"
            ],
            "text/html": [
              "\n",
              "  <div id=\"df-e4b3b9a6-29a4-4050-bbbc-1be66ebca855\" class=\"colab-df-container\">\n",
              "    <div>\n",
              "<style scoped>\n",
              "    .dataframe tbody tr th:only-of-type {\n",
              "        vertical-align: middle;\n",
              "    }\n",
              "\n",
              "    .dataframe tbody tr th {\n",
              "        vertical-align: top;\n",
              "    }\n",
              "\n",
              "    .dataframe thead th {\n",
              "        text-align: right;\n",
              "    }\n",
              "</style>\n",
              "<table border=\"1\" class=\"dataframe\">\n",
              "  <thead>\n",
              "    <tr style=\"text-align: right;\">\n",
              "      <th></th>\n",
              "      <th>texto</th>\n",
              "      <th>label</th>\n",
              "    </tr>\n",
              "  </thead>\n",
              "  <tbody>\n",
              "    <tr>\n",
              "      <th>0</th>\n",
              "      <td>Organizações civis e movimentos sociais convoc...</td>\n",
              "      <td>protesto</td>\n",
              "    </tr>\n",
              "    <tr>\n",
              "      <th>1</th>\n",
              "      <td>Milhares de manifestantes ocuparam as ruas da ...</td>\n",
              "      <td>protesto</td>\n",
              "    </tr>\n",
              "    <tr>\n",
              "      <th>2</th>\n",
              "      <td>Protestos se intensificaram após o aumento no ...</td>\n",
              "      <td>protesto</td>\n",
              "    </tr>\n",
              "    <tr>\n",
              "      <th>3</th>\n",
              "      <td>Integrantes de diversos sindicatos realizaram ...</td>\n",
              "      <td>protesto</td>\n",
              "    </tr>\n",
              "    <tr>\n",
              "      <th>4</th>\n",
              "      <td>Estudantes de várias universidades públicas or...</td>\n",
              "      <td>protesto</td>\n",
              "    </tr>\n",
              "    <tr>\n",
              "      <th>5</th>\n",
              "      <td>O relatório do Banco Central apontou crescimen...</td>\n",
              "      <td>economia</td>\n",
              "    </tr>\n",
              "    <tr>\n",
              "      <th>6</th>\n",
              "      <td>A inflação do mês de março apresentou uma leve...</td>\n",
              "      <td>economia</td>\n",
              "    </tr>\n",
              "    <tr>\n",
              "      <th>7</th>\n",
              "      <td>Analistas financeiros revisaram as projeções d...</td>\n",
              "      <td>economia</td>\n",
              "    </tr>\n",
              "    <tr>\n",
              "      <th>8</th>\n",
              "      <td>A taxa básica de juros foi reduzida pelo Comit...</td>\n",
              "      <td>economia</td>\n",
              "    </tr>\n",
              "    <tr>\n",
              "      <th>9</th>\n",
              "      <td>A bolsa de valores fechou o pregão com alta de...</td>\n",
              "      <td>economia</td>\n",
              "    </tr>\n",
              "    <tr>\n",
              "      <th>10</th>\n",
              "      <td>Universidades federais ampliaram a oferta de c...</td>\n",
              "      <td>educacao</td>\n",
              "    </tr>\n",
              "    <tr>\n",
              "      <th>11</th>\n",
              "      <td>Uma nova lei aprovada no congresso estabelece ...</td>\n",
              "      <td>educacao</td>\n",
              "    </tr>\n",
              "    <tr>\n",
              "      <th>12</th>\n",
              "      <td>Estudantes de diferentes estados participaram ...</td>\n",
              "      <td>educacao</td>\n",
              "    </tr>\n",
              "    <tr>\n",
              "      <th>13</th>\n",
              "      <td>O Ministério da Educação lançou um programa de...</td>\n",
              "      <td>educacao</td>\n",
              "    </tr>\n",
              "    <tr>\n",
              "      <th>14</th>\n",
              "      <td>Professores da educação básica participaram de...</td>\n",
              "      <td>educacao</td>\n",
              "    </tr>\n",
              "    <tr>\n",
              "      <th>15</th>\n",
              "      <td>Estudos mostram que a poluição dos rios urbano...</td>\n",
              "      <td>meio_ambiente</td>\n",
              "    </tr>\n",
              "    <tr>\n",
              "      <th>16</th>\n",
              "      <td>Organizações não-governamentais iniciaram um p...</td>\n",
              "      <td>meio_ambiente</td>\n",
              "    </tr>\n",
              "    <tr>\n",
              "      <th>17</th>\n",
              "      <td>O aumento dos focos de queimadas na região ama...</td>\n",
              "      <td>meio_ambiente</td>\n",
              "    </tr>\n",
              "    <tr>\n",
              "      <th>18</th>\n",
              "      <td>A conferência internacional sobre mudanças cli...</td>\n",
              "      <td>meio_ambiente</td>\n",
              "    </tr>\n",
              "    <tr>\n",
              "      <th>19</th>\n",
              "      <td>Pesquisadores divulgaram um relatório que most...</td>\n",
              "      <td>meio_ambiente</td>\n",
              "    </tr>\n",
              "  </tbody>\n",
              "</table>\n",
              "</div>\n",
              "    <div class=\"colab-df-buttons\">\n",
              "\n",
              "  <div class=\"colab-df-container\">\n",
              "    <button class=\"colab-df-convert\" onclick=\"convertToInteractive('df-e4b3b9a6-29a4-4050-bbbc-1be66ebca855')\"\n",
              "            title=\"Convert this dataframe to an interactive table.\"\n",
              "            style=\"display:none;\">\n",
              "\n",
              "  <svg xmlns=\"http://www.w3.org/2000/svg\" height=\"24px\" viewBox=\"0 -960 960 960\">\n",
              "    <path d=\"M120-120v-720h720v720H120Zm60-500h600v-160H180v160Zm220 220h160v-160H400v160Zm0 220h160v-160H400v160ZM180-400h160v-160H180v160Zm440 0h160v-160H620v160ZM180-180h160v-160H180v160Zm440 0h160v-160H620v160Z\"/>\n",
              "  </svg>\n",
              "    </button>\n",
              "\n",
              "  <style>\n",
              "    .colab-df-container {\n",
              "      display:flex;\n",
              "      gap: 12px;\n",
              "    }\n",
              "\n",
              "    .colab-df-convert {\n",
              "      background-color: #E8F0FE;\n",
              "      border: none;\n",
              "      border-radius: 50%;\n",
              "      cursor: pointer;\n",
              "      display: none;\n",
              "      fill: #1967D2;\n",
              "      height: 32px;\n",
              "      padding: 0 0 0 0;\n",
              "      width: 32px;\n",
              "    }\n",
              "\n",
              "    .colab-df-convert:hover {\n",
              "      background-color: #E2EBFA;\n",
              "      box-shadow: 0px 1px 2px rgba(60, 64, 67, 0.3), 0px 1px 3px 1px rgba(60, 64, 67, 0.15);\n",
              "      fill: #174EA6;\n",
              "    }\n",
              "\n",
              "    .colab-df-buttons div {\n",
              "      margin-bottom: 4px;\n",
              "    }\n",
              "\n",
              "    [theme=dark] .colab-df-convert {\n",
              "      background-color: #3B4455;\n",
              "      fill: #D2E3FC;\n",
              "    }\n",
              "\n",
              "    [theme=dark] .colab-df-convert:hover {\n",
              "      background-color: #434B5C;\n",
              "      box-shadow: 0px 1px 3px 1px rgba(0, 0, 0, 0.15);\n",
              "      filter: drop-shadow(0px 1px 2px rgba(0, 0, 0, 0.3));\n",
              "      fill: #FFFFFF;\n",
              "    }\n",
              "  </style>\n",
              "\n",
              "    <script>\n",
              "      const buttonEl =\n",
              "        document.querySelector('#df-e4b3b9a6-29a4-4050-bbbc-1be66ebca855 button.colab-df-convert');\n",
              "      buttonEl.style.display =\n",
              "        google.colab.kernel.accessAllowed ? 'block' : 'none';\n",
              "\n",
              "      async function convertToInteractive(key) {\n",
              "        const element = document.querySelector('#df-e4b3b9a6-29a4-4050-bbbc-1be66ebca855');\n",
              "        const dataTable =\n",
              "          await google.colab.kernel.invokeFunction('convertToInteractive',\n",
              "                                                    [key], {});\n",
              "        if (!dataTable) return;\n",
              "\n",
              "        const docLinkHtml = 'Like what you see? Visit the ' +\n",
              "          '<a target=\"_blank\" href=https://colab.research.google.com/notebooks/data_table.ipynb>data table notebook</a>'\n",
              "          + ' to learn more about interactive tables.';\n",
              "        element.innerHTML = '';\n",
              "        dataTable['output_type'] = 'display_data';\n",
              "        await google.colab.output.renderOutput(dataTable, element);\n",
              "        const docLink = document.createElement('div');\n",
              "        docLink.innerHTML = docLinkHtml;\n",
              "        element.appendChild(docLink);\n",
              "      }\n",
              "    </script>\n",
              "  </div>\n",
              "\n",
              "\n",
              "<div id=\"df-1af02e3a-4e19-4b50-b56e-bfb57b57a6c5\">\n",
              "  <button class=\"colab-df-quickchart\" onclick=\"quickchart('df-1af02e3a-4e19-4b50-b56e-bfb57b57a6c5')\"\n",
              "            title=\"Suggest charts\"\n",
              "            style=\"display:none;\">\n",
              "\n",
              "<svg xmlns=\"http://www.w3.org/2000/svg\" height=\"24px\"viewBox=\"0 0 24 24\"\n",
              "     width=\"24px\">\n",
              "    <g>\n",
              "        <path d=\"M19 3H5c-1.1 0-2 .9-2 2v14c0 1.1.9 2 2 2h14c1.1 0 2-.9 2-2V5c0-1.1-.9-2-2-2zM9 17H7v-7h2v7zm4 0h-2V7h2v10zm4 0h-2v-4h2v4z\"/>\n",
              "    </g>\n",
              "</svg>\n",
              "  </button>\n",
              "\n",
              "<style>\n",
              "  .colab-df-quickchart {\n",
              "      --bg-color: #E8F0FE;\n",
              "      --fill-color: #1967D2;\n",
              "      --hover-bg-color: #E2EBFA;\n",
              "      --hover-fill-color: #174EA6;\n",
              "      --disabled-fill-color: #AAA;\n",
              "      --disabled-bg-color: #DDD;\n",
              "  }\n",
              "\n",
              "  [theme=dark] .colab-df-quickchart {\n",
              "      --bg-color: #3B4455;\n",
              "      --fill-color: #D2E3FC;\n",
              "      --hover-bg-color: #434B5C;\n",
              "      --hover-fill-color: #FFFFFF;\n",
              "      --disabled-bg-color: #3B4455;\n",
              "      --disabled-fill-color: #666;\n",
              "  }\n",
              "\n",
              "  .colab-df-quickchart {\n",
              "    background-color: var(--bg-color);\n",
              "    border: none;\n",
              "    border-radius: 50%;\n",
              "    cursor: pointer;\n",
              "    display: none;\n",
              "    fill: var(--fill-color);\n",
              "    height: 32px;\n",
              "    padding: 0;\n",
              "    width: 32px;\n",
              "  }\n",
              "\n",
              "  .colab-df-quickchart:hover {\n",
              "    background-color: var(--hover-bg-color);\n",
              "    box-shadow: 0 1px 2px rgba(60, 64, 67, 0.3), 0 1px 3px 1px rgba(60, 64, 67, 0.15);\n",
              "    fill: var(--button-hover-fill-color);\n",
              "  }\n",
              "\n",
              "  .colab-df-quickchart-complete:disabled,\n",
              "  .colab-df-quickchart-complete:disabled:hover {\n",
              "    background-color: var(--disabled-bg-color);\n",
              "    fill: var(--disabled-fill-color);\n",
              "    box-shadow: none;\n",
              "  }\n",
              "\n",
              "  .colab-df-spinner {\n",
              "    border: 2px solid var(--fill-color);\n",
              "    border-color: transparent;\n",
              "    border-bottom-color: var(--fill-color);\n",
              "    animation:\n",
              "      spin 1s steps(1) infinite;\n",
              "  }\n",
              "\n",
              "  @keyframes spin {\n",
              "    0% {\n",
              "      border-color: transparent;\n",
              "      border-bottom-color: var(--fill-color);\n",
              "      border-left-color: var(--fill-color);\n",
              "    }\n",
              "    20% {\n",
              "      border-color: transparent;\n",
              "      border-left-color: var(--fill-color);\n",
              "      border-top-color: var(--fill-color);\n",
              "    }\n",
              "    30% {\n",
              "      border-color: transparent;\n",
              "      border-left-color: var(--fill-color);\n",
              "      border-top-color: var(--fill-color);\n",
              "      border-right-color: var(--fill-color);\n",
              "    }\n",
              "    40% {\n",
              "      border-color: transparent;\n",
              "      border-right-color: var(--fill-color);\n",
              "      border-top-color: var(--fill-color);\n",
              "    }\n",
              "    60% {\n",
              "      border-color: transparent;\n",
              "      border-right-color: var(--fill-color);\n",
              "    }\n",
              "    80% {\n",
              "      border-color: transparent;\n",
              "      border-right-color: var(--fill-color);\n",
              "      border-bottom-color: var(--fill-color);\n",
              "    }\n",
              "    90% {\n",
              "      border-color: transparent;\n",
              "      border-bottom-color: var(--fill-color);\n",
              "    }\n",
              "  }\n",
              "</style>\n",
              "\n",
              "  <script>\n",
              "    async function quickchart(key) {\n",
              "      const quickchartButtonEl =\n",
              "        document.querySelector('#' + key + ' button');\n",
              "      quickchartButtonEl.disabled = true;  // To prevent multiple clicks.\n",
              "      quickchartButtonEl.classList.add('colab-df-spinner');\n",
              "      try {\n",
              "        const charts = await google.colab.kernel.invokeFunction(\n",
              "            'suggestCharts', [key], {});\n",
              "      } catch (error) {\n",
              "        console.error('Error during call to suggestCharts:', error);\n",
              "      }\n",
              "      quickchartButtonEl.classList.remove('colab-df-spinner');\n",
              "      quickchartButtonEl.classList.add('colab-df-quickchart-complete');\n",
              "    }\n",
              "    (() => {\n",
              "      let quickchartButtonEl =\n",
              "        document.querySelector('#df-1af02e3a-4e19-4b50-b56e-bfb57b57a6c5 button');\n",
              "      quickchartButtonEl.style.display =\n",
              "        google.colab.kernel.accessAllowed ? 'block' : 'none';\n",
              "    })();\n",
              "  </script>\n",
              "</div>\n",
              "\n",
              "  <div id=\"id_0cc9f5af-0b1b-4fea-9e31-16342c4a861a\">\n",
              "    <style>\n",
              "      .colab-df-generate {\n",
              "        background-color: #E8F0FE;\n",
              "        border: none;\n",
              "        border-radius: 50%;\n",
              "        cursor: pointer;\n",
              "        display: none;\n",
              "        fill: #1967D2;\n",
              "        height: 32px;\n",
              "        padding: 0 0 0 0;\n",
              "        width: 32px;\n",
              "      }\n",
              "\n",
              "      .colab-df-generate:hover {\n",
              "        background-color: #E2EBFA;\n",
              "        box-shadow: 0px 1px 2px rgba(60, 64, 67, 0.3), 0px 1px 3px 1px rgba(60, 64, 67, 0.15);\n",
              "        fill: #174EA6;\n",
              "      }\n",
              "\n",
              "      [theme=dark] .colab-df-generate {\n",
              "        background-color: #3B4455;\n",
              "        fill: #D2E3FC;\n",
              "      }\n",
              "\n",
              "      [theme=dark] .colab-df-generate:hover {\n",
              "        background-color: #434B5C;\n",
              "        box-shadow: 0px 1px 3px 1px rgba(0, 0, 0, 0.15);\n",
              "        filter: drop-shadow(0px 1px 2px rgba(0, 0, 0, 0.3));\n",
              "        fill: #FFFFFF;\n",
              "      }\n",
              "    </style>\n",
              "    <button class=\"colab-df-generate\" onclick=\"generateWithVariable('ds')\"\n",
              "            title=\"Generate code using this dataframe.\"\n",
              "            style=\"display:none;\">\n",
              "\n",
              "  <svg xmlns=\"http://www.w3.org/2000/svg\" height=\"24px\"viewBox=\"0 0 24 24\"\n",
              "       width=\"24px\">\n",
              "    <path d=\"M7,19H8.4L18.45,9,17,7.55,7,17.6ZM5,21V16.75L18.45,3.32a2,2,0,0,1,2.83,0l1.4,1.43a1.91,1.91,0,0,1,.58,1.4,1.91,1.91,0,0,1-.58,1.4L9.25,21ZM18.45,9,17,7.55Zm-12,3A5.31,5.31,0,0,0,4.9,8.1,5.31,5.31,0,0,0,1,6.5,5.31,5.31,0,0,0,4.9,4.9,5.31,5.31,0,0,0,6.5,1,5.31,5.31,0,0,0,8.1,4.9,5.31,5.31,0,0,0,12,6.5,5.46,5.46,0,0,0,6.5,12Z\"/>\n",
              "  </svg>\n",
              "    </button>\n",
              "    <script>\n",
              "      (() => {\n",
              "      const buttonEl =\n",
              "        document.querySelector('#id_0cc9f5af-0b1b-4fea-9e31-16342c4a861a button.colab-df-generate');\n",
              "      buttonEl.style.display =\n",
              "        google.colab.kernel.accessAllowed ? 'block' : 'none';\n",
              "\n",
              "      buttonEl.onclick = () => {\n",
              "        google.colab.notebook.generateWithVariable('ds');\n",
              "      }\n",
              "      })();\n",
              "    </script>\n",
              "  </div>\n",
              "\n",
              "    </div>\n",
              "  </div>\n"
            ],
            "application/vnd.google.colaboratory.intrinsic+json": {
              "type": "dataframe",
              "variable_name": "ds",
              "summary": "{\n  \"name\": \"ds\",\n  \"rows\": 20,\n  \"fields\": [\n    {\n      \"column\": \"texto\",\n      \"properties\": {\n        \"dtype\": \"string\",\n        \"num_unique_values\": 20,\n        \"samples\": [\n          \"Organiza\\u00e7\\u00f5es civis e movimentos sociais convocaram um ato nacional em resposta \\u00e0 viol\\u00eancia policial registrada nos \\u00faltimos meses nas periferias urbanas.\",\n          \"O aumento dos focos de queimadas na regi\\u00e3o amaz\\u00f4nica preocupa autoridades ambientais, que alertam para o risco de desequil\\u00edbrio ecol\\u00f3gico e perda de biodiversidade.\",\n          \"Estudos mostram que a polui\\u00e7\\u00e3o dos rios urbanos continua crescendo, mesmo com pol\\u00edticas de saneamento, o que representa riscos \\u00e0 sa\\u00fade p\\u00fablica e \\u00e0 biodiversidade aqu\\u00e1tica.\"\n        ],\n        \"semantic_type\": \"\",\n        \"description\": \"\"\n      }\n    },\n    {\n      \"column\": \"label\",\n      \"properties\": {\n        \"dtype\": \"category\",\n        \"num_unique_values\": 4,\n        \"samples\": [\n          \"economia\",\n          \"meio_ambiente\",\n          \"protesto\"\n        ],\n        \"semantic_type\": \"\",\n        \"description\": \"\"\n      }\n    }\n  ]\n}"
            }
          },
          "metadata": {},
          "execution_count": 222
        }
      ]
    },
    {
      "cell_type": "code",
      "source": [
        "label_enc = LabelEncoder()\n",
        "labels_encoded = label_enc.fit_transform(ds.label)"
      ],
      "metadata": {
        "id": "jtNU2LGvIXDD"
      },
      "execution_count": 224,
      "outputs": []
    },
    {
      "cell_type": "code",
      "source": [
        "labels_encoded"
      ],
      "metadata": {
        "colab": {
          "base_uri": "https://localhost:8080/"
        },
        "id": "k6P3YOQjIn5Z",
        "outputId": "e4afba75-7a4d-45a3-9009-c1fa0ce09c32"
      },
      "execution_count": 225,
      "outputs": [
        {
          "output_type": "execute_result",
          "data": {
            "text/plain": [
              "array([3, 3, 3, 3, 3, 0, 0, 0, 0, 0, 1, 1, 1, 1, 1, 2, 2, 2, 2, 2])"
            ]
          },
          "metadata": {},
          "execution_count": 225
        }
      ]
    },
    {
      "cell_type": "code",
      "source": [
        "x_train, X_test, y_train, y_test = train_test_split(ds.texto, labels_encoded, test_size=0.25, random_state=42)"
      ],
      "metadata": {
        "id": "V6uiha5zIpN0"
      },
      "execution_count": 227,
      "outputs": []
    },
    {
      "cell_type": "code",
      "source": [
        "def tokenizacao(texto):\n",
        "    return texto.lower().split()"
      ],
      "metadata": {
        "id": "Vf_-ZpPrI4Ws"
      },
      "execution_count": 228,
      "outputs": []
    },
    {
      "cell_type": "code",
      "source": [
        "vocab = {\"<pad>\":0}\n",
        "for texto in x_train:\n",
        "  for token in tokenizacao(texto):\n",
        "    if token not in vocab:\n",
        "      vocab[token] = len(vocab)\n",
        "vocab"
      ],
      "metadata": {
        "colab": {
          "base_uri": "https://localhost:8080/"
        },
        "id": "niKS_7qkKg_c",
        "outputId": "a362c4ee-b917-4baf-be55-3fa21a8ba734"
      },
      "execution_count": 229,
      "outputs": [
        {
          "output_type": "execute_result",
          "data": {
            "text/plain": [
              "{'<pad>': 0,\n",
              " 'o': 1,\n",
              " 'relatório': 2,\n",
              " 'do': 3,\n",
              " 'banco': 4,\n",
              " 'central': 5,\n",
              " 'apontou': 6,\n",
              " 'crescimento': 7,\n",
              " 'econômico': 8,\n",
              " 'moderado': 9,\n",
              " 'no': 10,\n",
              " 'segundo': 11,\n",
              " 'trimestre,': 12,\n",
              " 'com': 13,\n",
              " 'destaque': 14,\n",
              " 'para': 15,\n",
              " 'setor': 16,\n",
              " 'de': 17,\n",
              " 'serviços': 18,\n",
              " 'e': 19,\n",
              " 'construção': 20,\n",
              " 'civil.': 21,\n",
              " 'uma': 22,\n",
              " 'nova': 23,\n",
              " 'lei': 24,\n",
              " 'aprovada': 25,\n",
              " 'congresso': 26,\n",
              " 'estabelece': 27,\n",
              " 'que': 28,\n",
              " 'escolas': 29,\n",
              " 'públicas': 30,\n",
              " 'receberão': 31,\n",
              " 'recursos': 32,\n",
              " 'adicionais': 33,\n",
              " 'promover': 34,\n",
              " 'inclusão': 35,\n",
              " 'alunos': 36,\n",
              " 'deficiência': 37,\n",
              " 'necessidades': 38,\n",
              " 'especiais.': 39,\n",
              " 'integrantes': 40,\n",
              " 'diversos': 41,\n",
              " 'sindicatos': 42,\n",
              " 'realizaram': 43,\n",
              " 'grande': 44,\n",
              " 'paralisação': 45,\n",
              " 'em': 46,\n",
              " 'frente': 47,\n",
              " 'ao': 48,\n",
              " 'palácio': 49,\n",
              " 'governo,': 50,\n",
              " 'exigindo': 51,\n",
              " 'melhores': 52,\n",
              " 'condições': 53,\n",
              " 'trabalho': 54,\n",
              " 'aumento': 55,\n",
              " 'salarial': 56,\n",
              " 'imediato.': 57,\n",
              " 'a': 58,\n",
              " 'conferência': 59,\n",
              " 'internacional': 60,\n",
              " 'sobre': 61,\n",
              " 'mudanças': 62,\n",
              " 'climáticas': 63,\n",
              " 'destacou': 64,\n",
              " 'importância': 65,\n",
              " 'da': 66,\n",
              " 'transição': 67,\n",
              " 'energética': 68,\n",
              " 'preservação': 69,\n",
              " 'das': 70,\n",
              " 'florestas': 71,\n",
              " 'tropicais': 72,\n",
              " 'conter': 73,\n",
              " 'aquecimento': 74,\n",
              " 'global.': 75,\n",
              " 'organizações': 76,\n",
              " 'não-governamentais': 77,\n",
              " 'iniciaram': 78,\n",
              " 'um': 79,\n",
              " 'projeto': 80,\n",
              " 'reflorestamento': 81,\n",
              " 'áreas': 82,\n",
              " 'degradadas': 83,\n",
              " 'mata': 84,\n",
              " 'atlântica,': 85,\n",
              " 'envolvendo': 86,\n",
              " 'comunidades': 87,\n",
              " 'locais': 88,\n",
              " 'apoio': 89,\n",
              " 'empresas': 90,\n",
              " 'privadas.': 91,\n",
              " 'ministério': 92,\n",
              " 'educação': 93,\n",
              " 'lançou': 94,\n",
              " 'programa': 95,\n",
              " 'capacitação': 96,\n",
              " 'professores': 97,\n",
              " 'rede': 98,\n",
              " 'pública,': 99,\n",
              " 'cursos': 100,\n",
              " 'online': 101,\n",
              " 'gratuitos': 102,\n",
              " 'voltados': 103,\n",
              " 'à': 104,\n",
              " 'digital': 105,\n",
              " 'metodologias': 106,\n",
              " 'ativas.': 107,\n",
              " 'protestos': 108,\n",
              " 'se': 109,\n",
              " 'intensificaram': 110,\n",
              " 'após': 111,\n",
              " 'preço': 112,\n",
              " 'dos': 113,\n",
              " 'combustíveis,': 114,\n",
              " 'levando': 115,\n",
              " 'caminhoneiros': 116,\n",
              " 'motoristas': 117,\n",
              " 'aplicativo': 118,\n",
              " 'bloquearem': 119,\n",
              " 'diversas': 120,\n",
              " 'rodovias': 121,\n",
              " 'federais': 122,\n",
              " 'todo': 123,\n",
              " 'país.': 124,\n",
              " 'bolsa': 125,\n",
              " 'valores': 126,\n",
              " 'fechou': 127,\n",
              " 'pregão': 128,\n",
              " 'alta': 129,\n",
              " '1,8%': 130,\n",
              " 'anúncio': 131,\n",
              " 'novos': 132,\n",
              " 'investimentos': 133,\n",
              " 'estrangeiros': 134,\n",
              " 'infraestrutura': 135,\n",
              " 'energia': 136,\n",
              " 'renovável.': 137,\n",
              " 'pesquisadores': 138,\n",
              " 'divulgaram': 139,\n",
              " 'mostra': 140,\n",
              " 'impacto': 141,\n",
              " 'desmatamento': 142,\n",
              " 'os': 143,\n",
              " 'rios': 144,\n",
              " 'voadores': 145,\n",
              " 'amazônia,': 146,\n",
              " 'alterando': 147,\n",
              " 'padrões': 148,\n",
              " 'climáticos': 149,\n",
              " 'várias': 150,\n",
              " 'regiões': 151,\n",
              " 'brasil.': 152,\n",
              " 'estudantes': 153,\n",
              " 'universidades': 154,\n",
              " 'organizaram': 155,\n",
              " 'ocupação': 156,\n",
              " 'simbólica': 157,\n",
              " 'reivindicar': 158,\n",
              " 'recomposição': 159,\n",
              " 'orçamentária': 160,\n",
              " 'ensino': 161,\n",
              " 'superior.': 162,\n",
              " 'diferentes': 163,\n",
              " 'estados': 164,\n",
              " 'participaram': 165,\n",
              " 'olimpíada': 166,\n",
              " 'nacional': 167,\n",
              " 'matemática,': 168,\n",
              " 'promovida': 169,\n",
              " 'cnpq': 170,\n",
              " 'voltada': 171,\n",
              " 'fundamental': 172,\n",
              " 'médio.': 173,\n",
              " 'analistas': 174,\n",
              " 'financeiros': 175,\n",
              " 'revisaram': 176,\n",
              " 'as': 177,\n",
              " 'projeções': 178,\n",
              " 'pib': 179,\n",
              " 'cima,': 180,\n",
              " 'dados': 181,\n",
              " 'positivos': 182,\n",
              " 'exportações': 183,\n",
              " 'commodities': 184,\n",
              " 'confiança': 185,\n",
              " 'consumidor.': 186,\n",
              " 'ampliaram': 187,\n",
              " 'oferta': 188,\n",
              " 'noturnos': 189,\n",
              " 'atender': 190,\n",
              " 'trabalhadores,': 191,\n",
              " 'permitindo': 192,\n",
              " 'maior': 193,\n",
              " 'social': 194,\n",
              " 'acesso': 195,\n",
              " 'superior': 196,\n",
              " 'qualidade.': 197,\n",
              " 'básica': 198,\n",
              " 'seminário': 199,\n",
              " 'debater': 200,\n",
              " 'estratégias': 201,\n",
              " 'alfabetização': 202,\n",
              " 'na': 203,\n",
              " 'idade': 204,\n",
              " 'certa': 205,\n",
              " 'combate': 206,\n",
              " 'analfabetismo': 207,\n",
              " 'funcional.': 208,\n",
              " 'inflação': 209,\n",
              " 'mês': 210,\n",
              " 'março': 211,\n",
              " 'apresentou': 212,\n",
              " 'leve': 213,\n",
              " 'desaceleração,': 214,\n",
              " 'conforme': 215,\n",
              " 'divulgados': 216,\n",
              " 'pelo': 217,\n",
              " 'ibge,': 218,\n",
              " 'impactando': 219,\n",
              " 'diretamente': 220,\n",
              " 'alimentos': 221,\n",
              " 'combustíveis.': 222}"
            ]
          },
          "metadata": {},
          "execution_count": 229
        }
      ]
    },
    {
      "cell_type": "code",
      "source": [
        "for texto in X_test:\n",
        "    for token in tokenizacao(texto):\n",
        "        if token not in vocab:\n",
        "            vocab[token] = len(vocab)"
      ],
      "metadata": {
        "id": "ntSxBdThRxgm"
      },
      "execution_count": 230,
      "outputs": []
    },
    {
      "cell_type": "code",
      "source": [
        "vocab"
      ],
      "metadata": {
        "colab": {
          "base_uri": "https://localhost:8080/"
        },
        "id": "rMJCayGIR1F9",
        "outputId": "2940b7f5-f811-46ea-c867-22ba8043bf2d"
      },
      "execution_count": 231,
      "outputs": [
        {
          "output_type": "execute_result",
          "data": {
            "text/plain": [
              "{'<pad>': 0,\n",
              " 'o': 1,\n",
              " 'relatório': 2,\n",
              " 'do': 3,\n",
              " 'banco': 4,\n",
              " 'central': 5,\n",
              " 'apontou': 6,\n",
              " 'crescimento': 7,\n",
              " 'econômico': 8,\n",
              " 'moderado': 9,\n",
              " 'no': 10,\n",
              " 'segundo': 11,\n",
              " 'trimestre,': 12,\n",
              " 'com': 13,\n",
              " 'destaque': 14,\n",
              " 'para': 15,\n",
              " 'setor': 16,\n",
              " 'de': 17,\n",
              " 'serviços': 18,\n",
              " 'e': 19,\n",
              " 'construção': 20,\n",
              " 'civil.': 21,\n",
              " 'uma': 22,\n",
              " 'nova': 23,\n",
              " 'lei': 24,\n",
              " 'aprovada': 25,\n",
              " 'congresso': 26,\n",
              " 'estabelece': 27,\n",
              " 'que': 28,\n",
              " 'escolas': 29,\n",
              " 'públicas': 30,\n",
              " 'receberão': 31,\n",
              " 'recursos': 32,\n",
              " 'adicionais': 33,\n",
              " 'promover': 34,\n",
              " 'inclusão': 35,\n",
              " 'alunos': 36,\n",
              " 'deficiência': 37,\n",
              " 'necessidades': 38,\n",
              " 'especiais.': 39,\n",
              " 'integrantes': 40,\n",
              " 'diversos': 41,\n",
              " 'sindicatos': 42,\n",
              " 'realizaram': 43,\n",
              " 'grande': 44,\n",
              " 'paralisação': 45,\n",
              " 'em': 46,\n",
              " 'frente': 47,\n",
              " 'ao': 48,\n",
              " 'palácio': 49,\n",
              " 'governo,': 50,\n",
              " 'exigindo': 51,\n",
              " 'melhores': 52,\n",
              " 'condições': 53,\n",
              " 'trabalho': 54,\n",
              " 'aumento': 55,\n",
              " 'salarial': 56,\n",
              " 'imediato.': 57,\n",
              " 'a': 58,\n",
              " 'conferência': 59,\n",
              " 'internacional': 60,\n",
              " 'sobre': 61,\n",
              " 'mudanças': 62,\n",
              " 'climáticas': 63,\n",
              " 'destacou': 64,\n",
              " 'importância': 65,\n",
              " 'da': 66,\n",
              " 'transição': 67,\n",
              " 'energética': 68,\n",
              " 'preservação': 69,\n",
              " 'das': 70,\n",
              " 'florestas': 71,\n",
              " 'tropicais': 72,\n",
              " 'conter': 73,\n",
              " 'aquecimento': 74,\n",
              " 'global.': 75,\n",
              " 'organizações': 76,\n",
              " 'não-governamentais': 77,\n",
              " 'iniciaram': 78,\n",
              " 'um': 79,\n",
              " 'projeto': 80,\n",
              " 'reflorestamento': 81,\n",
              " 'áreas': 82,\n",
              " 'degradadas': 83,\n",
              " 'mata': 84,\n",
              " 'atlântica,': 85,\n",
              " 'envolvendo': 86,\n",
              " 'comunidades': 87,\n",
              " 'locais': 88,\n",
              " 'apoio': 89,\n",
              " 'empresas': 90,\n",
              " 'privadas.': 91,\n",
              " 'ministério': 92,\n",
              " 'educação': 93,\n",
              " 'lançou': 94,\n",
              " 'programa': 95,\n",
              " 'capacitação': 96,\n",
              " 'professores': 97,\n",
              " 'rede': 98,\n",
              " 'pública,': 99,\n",
              " 'cursos': 100,\n",
              " 'online': 101,\n",
              " 'gratuitos': 102,\n",
              " 'voltados': 103,\n",
              " 'à': 104,\n",
              " 'digital': 105,\n",
              " 'metodologias': 106,\n",
              " 'ativas.': 107,\n",
              " 'protestos': 108,\n",
              " 'se': 109,\n",
              " 'intensificaram': 110,\n",
              " 'após': 111,\n",
              " 'preço': 112,\n",
              " 'dos': 113,\n",
              " 'combustíveis,': 114,\n",
              " 'levando': 115,\n",
              " 'caminhoneiros': 116,\n",
              " 'motoristas': 117,\n",
              " 'aplicativo': 118,\n",
              " 'bloquearem': 119,\n",
              " 'diversas': 120,\n",
              " 'rodovias': 121,\n",
              " 'federais': 122,\n",
              " 'todo': 123,\n",
              " 'país.': 124,\n",
              " 'bolsa': 125,\n",
              " 'valores': 126,\n",
              " 'fechou': 127,\n",
              " 'pregão': 128,\n",
              " 'alta': 129,\n",
              " '1,8%': 130,\n",
              " 'anúncio': 131,\n",
              " 'novos': 132,\n",
              " 'investimentos': 133,\n",
              " 'estrangeiros': 134,\n",
              " 'infraestrutura': 135,\n",
              " 'energia': 136,\n",
              " 'renovável.': 137,\n",
              " 'pesquisadores': 138,\n",
              " 'divulgaram': 139,\n",
              " 'mostra': 140,\n",
              " 'impacto': 141,\n",
              " 'desmatamento': 142,\n",
              " 'os': 143,\n",
              " 'rios': 144,\n",
              " 'voadores': 145,\n",
              " 'amazônia,': 146,\n",
              " 'alterando': 147,\n",
              " 'padrões': 148,\n",
              " 'climáticos': 149,\n",
              " 'várias': 150,\n",
              " 'regiões': 151,\n",
              " 'brasil.': 152,\n",
              " 'estudantes': 153,\n",
              " 'universidades': 154,\n",
              " 'organizaram': 155,\n",
              " 'ocupação': 156,\n",
              " 'simbólica': 157,\n",
              " 'reivindicar': 158,\n",
              " 'recomposição': 159,\n",
              " 'orçamentária': 160,\n",
              " 'ensino': 161,\n",
              " 'superior.': 162,\n",
              " 'diferentes': 163,\n",
              " 'estados': 164,\n",
              " 'participaram': 165,\n",
              " 'olimpíada': 166,\n",
              " 'nacional': 167,\n",
              " 'matemática,': 168,\n",
              " 'promovida': 169,\n",
              " 'cnpq': 170,\n",
              " 'voltada': 171,\n",
              " 'fundamental': 172,\n",
              " 'médio.': 173,\n",
              " 'analistas': 174,\n",
              " 'financeiros': 175,\n",
              " 'revisaram': 176,\n",
              " 'as': 177,\n",
              " 'projeções': 178,\n",
              " 'pib': 179,\n",
              " 'cima,': 180,\n",
              " 'dados': 181,\n",
              " 'positivos': 182,\n",
              " 'exportações': 183,\n",
              " 'commodities': 184,\n",
              " 'confiança': 185,\n",
              " 'consumidor.': 186,\n",
              " 'ampliaram': 187,\n",
              " 'oferta': 188,\n",
              " 'noturnos': 189,\n",
              " 'atender': 190,\n",
              " 'trabalhadores,': 191,\n",
              " 'permitindo': 192,\n",
              " 'maior': 193,\n",
              " 'social': 194,\n",
              " 'acesso': 195,\n",
              " 'superior': 196,\n",
              " 'qualidade.': 197,\n",
              " 'básica': 198,\n",
              " 'seminário': 199,\n",
              " 'debater': 200,\n",
              " 'estratégias': 201,\n",
              " 'alfabetização': 202,\n",
              " 'na': 203,\n",
              " 'idade': 204,\n",
              " 'certa': 205,\n",
              " 'combate': 206,\n",
              " 'analfabetismo': 207,\n",
              " 'funcional.': 208,\n",
              " 'inflação': 209,\n",
              " 'mês': 210,\n",
              " 'março': 211,\n",
              " 'apresentou': 212,\n",
              " 'leve': 213,\n",
              " 'desaceleração,': 214,\n",
              " 'conforme': 215,\n",
              " 'divulgados': 216,\n",
              " 'pelo': 217,\n",
              " 'ibge,': 218,\n",
              " 'impactando': 219,\n",
              " 'diretamente': 220,\n",
              " 'alimentos': 221,\n",
              " 'combustíveis.': 222,\n",
              " 'civis': 223,\n",
              " 'movimentos': 224,\n",
              " 'sociais': 225,\n",
              " 'convocaram': 226,\n",
              " 'ato': 227,\n",
              " 'resposta': 228,\n",
              " 'violência': 229,\n",
              " 'policial': 230,\n",
              " 'registrada': 231,\n",
              " 'nos': 232,\n",
              " 'últimos': 233,\n",
              " 'meses': 234,\n",
              " 'nas': 235,\n",
              " 'periferias': 236,\n",
              " 'urbanas.': 237,\n",
              " 'focos': 238,\n",
              " 'queimadas': 239,\n",
              " 'região': 240,\n",
              " 'amazônica': 241,\n",
              " 'preocupa': 242,\n",
              " 'autoridades': 243,\n",
              " 'ambientais,': 244,\n",
              " 'alertam': 245,\n",
              " 'risco': 246,\n",
              " 'desequilíbrio': 247,\n",
              " 'ecológico': 248,\n",
              " 'perda': 249,\n",
              " 'biodiversidade.': 250,\n",
              " 'estudos': 251,\n",
              " 'mostram': 252,\n",
              " 'poluição': 253,\n",
              " 'urbanos': 254,\n",
              " 'continua': 255,\n",
              " 'crescendo,': 256,\n",
              " 'mesmo': 257,\n",
              " 'políticas': 258,\n",
              " 'saneamento,': 259,\n",
              " 'representa': 260,\n",
              " 'riscos': 261,\n",
              " 'saúde': 262,\n",
              " 'pública': 263,\n",
              " 'biodiversidade': 264,\n",
              " 'aquática.': 265,\n",
              " 'milhares': 266,\n",
              " 'manifestantes': 267,\n",
              " 'ocuparam': 268,\n",
              " 'ruas': 269,\n",
              " 'capital': 270,\n",
              " 'nesta': 271,\n",
              " 'tarde': 272,\n",
              " 'protestar': 273,\n",
              " 'contra': 274,\n",
              " 'reforma': 275,\n",
              " 'trabalhista': 276,\n",
              " 'passado.': 277,\n",
              " 'taxa': 278,\n",
              " 'juros': 279,\n",
              " 'foi': 280,\n",
              " 'reduzida': 281,\n",
              " 'comitê': 282,\n",
              " 'política': 283,\n",
              " 'monetária,': 284,\n",
              " 'deve': 285,\n",
              " 'estimular': 286,\n",
              " 'consumo': 287,\n",
              " 'interno': 288,\n",
              " 'facilitar': 289,\n",
              " 'crédito': 290,\n",
              " 'pequenas': 291,\n",
              " 'empresas.': 292}"
            ]
          },
          "metadata": {},
          "execution_count": 231
        }
      ]
    },
    {
      "cell_type": "code",
      "source": [
        "def encode(texto):\n",
        "    tokens = tokenizacao(texto)\n",
        "    return [vocab[t] for t in tokens]"
      ],
      "metadata": {
        "id": "kHiziU5RKoRu"
      },
      "execution_count": 233,
      "outputs": []
    },
    {
      "cell_type": "code",
      "source": [
        "max_len =max(len(tokenizacao(t)) for t in ds.texto)\n",
        "max_len"
      ],
      "metadata": {
        "colab": {
          "base_uri": "https://localhost:8080/"
        },
        "id": "LWm3ZyvJMCn5",
        "outputId": "6a8e35ca-62ad-49ae-f21b-015f27cbbfe8"
      },
      "execution_count": 235,
      "outputs": [
        {
          "output_type": "execute_result",
          "data": {
            "text/plain": [
              "26"
            ]
          },
          "metadata": {},
          "execution_count": 235
        }
      ]
    },
    {
      "cell_type": "code",
      "source": [
        "def pad_sequence(seq, max_len):\n",
        "    return seq + [0] * (max_len - len(seq))"
      ],
      "metadata": {
        "id": "cYMBicZTNESP"
      },
      "execution_count": 236,
      "outputs": []
    },
    {
      "cell_type": "code",
      "source": [
        "class NovoDataset(Dataset):\n",
        "    def __init__(self, textos, labels):\n",
        "        self.x = [pad_sequence(encode(t), max_len) for t in textos]\n",
        "        self.y = labels\n",
        "\n",
        "    def __len__(self):\n",
        "        return len(self.x)\n",
        "\n",
        "    def __getitem__(self, idx):\n",
        "        return torch.tensor(self.x[idx]) ,torch.tensor(self.y[idx])"
      ],
      "metadata": {
        "id": "4sxHgvU_OAh0"
      },
      "execution_count": 237,
      "outputs": []
    },
    {
      "cell_type": "code",
      "source": [
        "train_ds = NovoDataset(x_train, y_train)\n",
        "test_ds = NovoDataset(X_test, y_test)"
      ],
      "metadata": {
        "id": "y8AhketbPpp2"
      },
      "execution_count": 238,
      "outputs": []
    },
    {
      "cell_type": "code",
      "source": [
        "train_ds.x"
      ],
      "metadata": {
        "colab": {
          "base_uri": "https://localhost:8080/"
        },
        "collapsed": true,
        "id": "aVSTjeTMSEff",
        "outputId": "7c712ac6-e283-48a5-9181-1f33a03b455f"
      },
      "execution_count": 239,
      "outputs": [
        {
          "output_type": "execute_result",
          "data": {
            "text/plain": [
              "[[1,\n",
              "  2,\n",
              "  3,\n",
              "  4,\n",
              "  5,\n",
              "  6,\n",
              "  7,\n",
              "  8,\n",
              "  9,\n",
              "  10,\n",
              "  11,\n",
              "  12,\n",
              "  13,\n",
              "  14,\n",
              "  15,\n",
              "  1,\n",
              "  16,\n",
              "  17,\n",
              "  18,\n",
              "  19,\n",
              "  20,\n",
              "  21,\n",
              "  0,\n",
              "  0,\n",
              "  0,\n",
              "  0],\n",
              " [22,\n",
              "  23,\n",
              "  24,\n",
              "  25,\n",
              "  10,\n",
              "  26,\n",
              "  27,\n",
              "  28,\n",
              "  29,\n",
              "  30,\n",
              "  31,\n",
              "  32,\n",
              "  33,\n",
              "  15,\n",
              "  34,\n",
              "  35,\n",
              "  17,\n",
              "  36,\n",
              "  13,\n",
              "  37,\n",
              "  19,\n",
              "  38,\n",
              "  39,\n",
              "  0,\n",
              "  0,\n",
              "  0],\n",
              " [40,\n",
              "  17,\n",
              "  41,\n",
              "  42,\n",
              "  43,\n",
              "  22,\n",
              "  44,\n",
              "  45,\n",
              "  46,\n",
              "  47,\n",
              "  48,\n",
              "  49,\n",
              "  3,\n",
              "  50,\n",
              "  51,\n",
              "  52,\n",
              "  53,\n",
              "  17,\n",
              "  54,\n",
              "  19,\n",
              "  55,\n",
              "  56,\n",
              "  57,\n",
              "  0,\n",
              "  0,\n",
              "  0],\n",
              " [58,\n",
              "  59,\n",
              "  60,\n",
              "  61,\n",
              "  62,\n",
              "  63,\n",
              "  64,\n",
              "  58,\n",
              "  65,\n",
              "  66,\n",
              "  67,\n",
              "  68,\n",
              "  19,\n",
              "  66,\n",
              "  69,\n",
              "  70,\n",
              "  71,\n",
              "  72,\n",
              "  15,\n",
              "  73,\n",
              "  1,\n",
              "  74,\n",
              "  75,\n",
              "  0,\n",
              "  0,\n",
              "  0],\n",
              " [76,\n",
              "  77,\n",
              "  78,\n",
              "  79,\n",
              "  80,\n",
              "  17,\n",
              "  81,\n",
              "  46,\n",
              "  82,\n",
              "  83,\n",
              "  66,\n",
              "  84,\n",
              "  85,\n",
              "  86,\n",
              "  87,\n",
              "  88,\n",
              "  19,\n",
              "  89,\n",
              "  17,\n",
              "  90,\n",
              "  91,\n",
              "  0,\n",
              "  0,\n",
              "  0,\n",
              "  0,\n",
              "  0],\n",
              " [1,\n",
              "  92,\n",
              "  66,\n",
              "  93,\n",
              "  94,\n",
              "  79,\n",
              "  95,\n",
              "  17,\n",
              "  96,\n",
              "  15,\n",
              "  97,\n",
              "  66,\n",
              "  98,\n",
              "  99,\n",
              "  13,\n",
              "  100,\n",
              "  101,\n",
              "  102,\n",
              "  103,\n",
              "  104,\n",
              "  35,\n",
              "  105,\n",
              "  19,\n",
              "  106,\n",
              "  107,\n",
              "  0],\n",
              " [108,\n",
              "  109,\n",
              "  110,\n",
              "  111,\n",
              "  1,\n",
              "  55,\n",
              "  10,\n",
              "  112,\n",
              "  113,\n",
              "  114,\n",
              "  115,\n",
              "  116,\n",
              "  19,\n",
              "  117,\n",
              "  17,\n",
              "  118,\n",
              "  58,\n",
              "  119,\n",
              "  120,\n",
              "  121,\n",
              "  122,\n",
              "  46,\n",
              "  123,\n",
              "  1,\n",
              "  124,\n",
              "  0],\n",
              " [58,\n",
              "  125,\n",
              "  17,\n",
              "  126,\n",
              "  127,\n",
              "  1,\n",
              "  128,\n",
              "  13,\n",
              "  129,\n",
              "  17,\n",
              "  130,\n",
              "  111,\n",
              "  1,\n",
              "  131,\n",
              "  17,\n",
              "  132,\n",
              "  133,\n",
              "  134,\n",
              "  10,\n",
              "  16,\n",
              "  17,\n",
              "  135,\n",
              "  19,\n",
              "  136,\n",
              "  137,\n",
              "  0],\n",
              " [138,\n",
              "  139,\n",
              "  79,\n",
              "  2,\n",
              "  28,\n",
              "  140,\n",
              "  1,\n",
              "  141,\n",
              "  3,\n",
              "  142,\n",
              "  61,\n",
              "  143,\n",
              "  144,\n",
              "  145,\n",
              "  66,\n",
              "  146,\n",
              "  147,\n",
              "  148,\n",
              "  149,\n",
              "  46,\n",
              "  150,\n",
              "  151,\n",
              "  3,\n",
              "  152,\n",
              "  0,\n",
              "  0],\n",
              " [153,\n",
              "  17,\n",
              "  150,\n",
              "  154,\n",
              "  30,\n",
              "  155,\n",
              "  22,\n",
              "  156,\n",
              "  157,\n",
              "  3,\n",
              "  92,\n",
              "  66,\n",
              "  93,\n",
              "  15,\n",
              "  158,\n",
              "  58,\n",
              "  159,\n",
              "  160,\n",
              "  15,\n",
              "  1,\n",
              "  161,\n",
              "  162,\n",
              "  0,\n",
              "  0,\n",
              "  0,\n",
              "  0],\n",
              " [153,\n",
              "  17,\n",
              "  163,\n",
              "  164,\n",
              "  165,\n",
              "  66,\n",
              "  166,\n",
              "  167,\n",
              "  17,\n",
              "  168,\n",
              "  169,\n",
              "  13,\n",
              "  89,\n",
              "  3,\n",
              "  170,\n",
              "  19,\n",
              "  171,\n",
              "  48,\n",
              "  161,\n",
              "  172,\n",
              "  19,\n",
              "  173,\n",
              "  0,\n",
              "  0,\n",
              "  0,\n",
              "  0],\n",
              " [174,\n",
              "  175,\n",
              "  176,\n",
              "  177,\n",
              "  178,\n",
              "  3,\n",
              "  179,\n",
              "  15,\n",
              "  180,\n",
              "  111,\n",
              "  181,\n",
              "  182,\n",
              "  61,\n",
              "  183,\n",
              "  17,\n",
              "  184,\n",
              "  19,\n",
              "  55,\n",
              "  66,\n",
              "  185,\n",
              "  3,\n",
              "  186,\n",
              "  0,\n",
              "  0,\n",
              "  0,\n",
              "  0],\n",
              " [154,\n",
              "  122,\n",
              "  187,\n",
              "  58,\n",
              "  188,\n",
              "  17,\n",
              "  100,\n",
              "  189,\n",
              "  15,\n",
              "  190,\n",
              "  191,\n",
              "  192,\n",
              "  193,\n",
              "  35,\n",
              "  194,\n",
              "  19,\n",
              "  195,\n",
              "  48,\n",
              "  161,\n",
              "  196,\n",
              "  17,\n",
              "  197,\n",
              "  0,\n",
              "  0,\n",
              "  0,\n",
              "  0],\n",
              " [97,\n",
              "  66,\n",
              "  93,\n",
              "  198,\n",
              "  165,\n",
              "  17,\n",
              "  79,\n",
              "  199,\n",
              "  167,\n",
              "  15,\n",
              "  200,\n",
              "  201,\n",
              "  17,\n",
              "  202,\n",
              "  203,\n",
              "  204,\n",
              "  205,\n",
              "  19,\n",
              "  206,\n",
              "  48,\n",
              "  207,\n",
              "  208,\n",
              "  0,\n",
              "  0,\n",
              "  0,\n",
              "  0],\n",
              " [58,\n",
              "  209,\n",
              "  3,\n",
              "  210,\n",
              "  17,\n",
              "  211,\n",
              "  212,\n",
              "  22,\n",
              "  213,\n",
              "  214,\n",
              "  215,\n",
              "  143,\n",
              "  181,\n",
              "  216,\n",
              "  217,\n",
              "  218,\n",
              "  219,\n",
              "  220,\n",
              "  1,\n",
              "  112,\n",
              "  113,\n",
              "  221,\n",
              "  19,\n",
              "  222,\n",
              "  0,\n",
              "  0]]"
            ]
          },
          "metadata": {},
          "execution_count": 239
        }
      ]
    },
    {
      "cell_type": "code",
      "source": [
        "train_ds.y"
      ],
      "metadata": {
        "colab": {
          "base_uri": "https://localhost:8080/"
        },
        "id": "bFMVW_2hSLJk",
        "outputId": "8ea863dd-5e32-4a79-bad5-926f34a79a8e"
      },
      "execution_count": 240,
      "outputs": [
        {
          "output_type": "execute_result",
          "data": {
            "text/plain": [
              "array([0, 1, 3, 2, 2, 1, 3, 0, 2, 3, 1, 0, 1, 1, 0])"
            ]
          },
          "metadata": {},
          "execution_count": 240
        }
      ]
    },
    {
      "cell_type": "code",
      "source": [
        "train_loader = DataLoader(train_ds, batch_size=2, shuffle=True)\n",
        "test_loader = DataLoader(test_ds, batch_size=2, shuffle=False)"
      ],
      "metadata": {
        "id": "tRXYnSBUSe2y"
      },
      "execution_count": 241,
      "outputs": []
    },
    {
      "cell_type": "code",
      "source": [
        "class Classificador(nn.Module):\n",
        "    def __init__(self, vocab_size, embedding_dim, hidden_dim, num_classes):\n",
        "        super().__init__()\n",
        "        self.embedding = nn.Embedding(vocab_size, embedding_dim)\n",
        "        self.fc1 = nn.Linear(embedding_dim * max_len, hidden_dim)\n",
        "        self.fc2 = nn.Linear(hidden_dim, num_classes)\n",
        "\n",
        "    def forward(self, x):\n",
        "        emb = self.embedding(x)\n",
        "        emb = emb.type(torch.float32)\n",
        "        emb = emb.view(x.size(0), -1) #flatten do vetor\n",
        "        emb = F.relu(self.fc1(emb))\n",
        "        emb = self.fc2(emb)\n",
        "        return emb"
      ],
      "metadata": {
        "id": "ZQRnSrcSVcHV"
      },
      "execution_count": 249,
      "outputs": []
    },
    {
      "cell_type": "code",
      "source": [
        "professor = Classificador(vocab_size=len(vocab), embedding_dim=16, hidden_dim=32, num_classes=4)"
      ],
      "metadata": {
        "id": "RDPiwpP6VUX0"
      },
      "execution_count": 250,
      "outputs": []
    },
    {
      "cell_type": "code",
      "source": [
        "aluno = Classificador(vocab_size=len(vocab), embedding_dim=8, hidden_dim=16, num_classes=4)"
      ],
      "metadata": {
        "id": "4mVbMQalXF0R"
      },
      "execution_count": 251,
      "outputs": []
    },
    {
      "cell_type": "markdown",
      "source": [
        "## Função de destilação"
      ],
      "metadata": {
        "id": "ZWBSGT7TXPdb"
      }
    },
    {
      "cell_type": "markdown",
      "source": [
        "* A função de perda (loss) é uma combinação de duas partes:\n",
        "\n",
        "        Uma compara a saída do aluno com os rótulos reais.\n",
        "\n",
        "        Outra compara com a saída do professor (soft labels), geralmente usando uma função de entropia cruzada suavizada por temperatura (softmax com temperatura).\n",
        "\n",
        "fORUMLA:\n",
        "\n",
        "$$\n",
        "\\text{Loss} = \\alpha \\cdot \\text{CE}(y_{\\text{student}}, y_{\\text{true}}) + (1 - \\alpha) \\cdot \\text{KL}(y_{\\text{student}}^{(T)} \\parallel y_{\\text{teacher}}^{(T)})\n",
        "$$\n",
        "\n",
        "Explicação dos termos:\n",
        "\n",
        "* Loss: Função de perda total usada para treinar o modelo student (aluno).\n",
        "\n",
        "* α: Peso (entre 0 e 1) que controla a importância entre os dois tipos de perda.\n",
        "\n",
        "* CE: Cross-Entropy Loss — mede a diferença entre a saída do aluno e os rótulos reais (y_true).\n",
        "\n",
        "* KL: Kullback-Leibler Divergence — mede a diferença entre a distribuição de probabilidade do aluno e a do professor, ambas suavizadas por uma temperatura T.\n",
        "\n",
        "* ystudent(T)ystudent(T)​: Saída do aluno com softmax ajustado por temperatura T (mais suave).\n",
        "\n",
        "* yteacher(T)yteacher(T)​: Saída do professor com softmax T.\n",
        "\n",
        "**A temperatura no softmax é usada para “suavizar” a distribuição de probabilidades. Fórmula do softmax com temperatura:**\n",
        "$$\n",
        "\\text{softmax}_T(z_i) = \\frac{e^{z_i / T}}{\\sum_j e^{z_j / T}}\n",
        "$$\n",
        "\n",
        "\n",
        "* Quando T > 1, o softmax gera probabilidades mais suaves (menos confiantes), revelando relações sutis entre classes.\n",
        "\n",
        "* Isso ajuda o modelo aluno a entender melhor como o professor vê os dados, mesmo quando erra por pouco.\n",
        "\n",
        " Intuição:\n",
        "\n",
        "* O Cross-Entropy com os rótulos reais garante que o aluno aprenda a tarefa corretamente.\n",
        "\n",
        "* A KL Divergence com o professor ajuda o aluno a “copiar” o comportamento inteligente do professor, incluindo conhecimento implícito entre classes."
      ],
      "metadata": {
        "id": "biHonE_gX-ek"
      }
    },
    {
      "cell_type": "code",
      "source": [
        "def destilacao_loss(estudante_logits, professor_logits,targets, T=2.0, alpha=0.7):\n",
        "    professor_probs = F.softmax(professor_logits / T, dim=1)\n",
        "\n",
        "    estudante_log_probs = F.log_softmax(estudante_logits / T, dim=1)\n",
        "\n",
        "    suave_loss = F.kl_div(estudante_log_probs, professor_probs, reduction=\"batchmean\") * (T **2)\n",
        "\n",
        "    entropia_cruzada_loss = F.cross_entropy(estudante_logits, targets)\n",
        "\n",
        "    return alpha * entropia_cruzada_loss + (1 - alpha) * suave_loss\n"
      ],
      "metadata": {
        "id": "PUr-hBAcXSKA"
      },
      "execution_count": 252,
      "outputs": []
    },
    {
      "cell_type": "markdown",
      "source": [
        "## Treinamento com destilação"
      ],
      "metadata": {
        "id": "AiH6sI8HaSh7"
      }
    },
    {
      "cell_type": "code",
      "source": [
        "otimizador  = torch.optim.Adam(aluno.parameters(), lr=0.01)"
      ],
      "metadata": {
        "id": "9WhKxMTyaU8H"
      },
      "execution_count": 253,
      "outputs": []
    },
    {
      "cell_type": "markdown",
      "source": [
        "### Simulando congelamento de pesos do modelo"
      ],
      "metadata": {
        "id": "xoWe7JZ9bM5U"
      }
    },
    {
      "cell_type": "code",
      "source": [
        "#congela o professor  (simula que já foi treinado)\n",
        "# for param in professor.parameters():\n",
        "#     param.requires_grad = False"
      ],
      "metadata": {
        "id": "ChqcTefyagXq"
      },
      "execution_count": 158,
      "outputs": []
    },
    {
      "cell_type": "markdown",
      "source": [
        "### Simulando treinamento do modelo"
      ],
      "metadata": {
        "id": "b2sn1GLabRCC"
      }
    },
    {
      "cell_type": "code",
      "source": [
        "#pretreinamento de professor\n",
        "for batch in train_loader:\n",
        "    x, y = batch\n",
        "    logits = professor(x)\n",
        "    loss = F.cross_entropy(logits,y)\n",
        "    loss.backward()\n",
        "\n",
        "    for param in professor.parameters():\n",
        "        param.data -= 0.01 * param.grad\n",
        "\n",
        "    professor.zero_grad()"
      ],
      "metadata": {
        "id": "DYoTmguza9Uk"
      },
      "execution_count": 254,
      "outputs": []
    },
    {
      "cell_type": "code",
      "source": [
        "#Treinamentode aluno com destilação\n",
        "for epoca in range(10):\n",
        "    total_loss = 0\n",
        "    for x,y in train_loader:\n",
        "        with torch.no_grad():\n",
        "            professor_logits = professor(x)\n",
        "        estudante_logits = aluno(x)\n",
        "        loss = destilacao_loss(estudante_logits, professor_logits, y)\n",
        "        loss.backward()\n",
        "        otimizador.step()\n",
        "        total_loss += loss.item()\n",
        "    print(f\"Epoca {epoca + 1}, Loss: {total_loss:.4f}\")"
      ],
      "metadata": {
        "colab": {
          "base_uri": "https://localhost:8080/"
        },
        "id": "eFMBjOxOarvy",
        "outputId": "080618a0-1b98-42b1-d7a0-1cc65bf8c0d5"
      },
      "execution_count": 255,
      "outputs": [
        {
          "output_type": "stream",
          "name": "stdout",
          "text": [
            "Epoca 1, Loss: 9.5997\n",
            "Epoca 2, Loss: 6.6988\n",
            "Epoca 3, Loss: 7.0081\n",
            "Epoca 4, Loss: 10.2467\n",
            "Epoca 5, Loss: 20.9168\n",
            "Epoca 6, Loss: 11.6950\n",
            "Epoca 7, Loss: 16.4360\n",
            "Epoca 8, Loss: 14.6982\n",
            "Epoca 9, Loss: 11.7947\n",
            "Epoca 10, Loss: 11.7744\n"
          ]
        }
      ]
    },
    {
      "cell_type": "markdown",
      "source": [
        "### Avaliação   \n"
      ],
      "metadata": {
        "id": "CTLcgAgyjLQY"
      }
    },
    {
      "cell_type": "code",
      "source": [
        "def avaliacao(model, DataLoader):\n",
        "    correto, total = 0 , 0\n",
        "    model.eval()\n",
        "    with torch.no_grad():\n",
        "        for x, y in DataLoader:\n",
        "            pred = model(x).argmax(dim=1)\n",
        "            correto += (pred == y).sum().item()\n",
        "            total += y.size(0)\n",
        "    return correto / total\n",
        "\n"
      ],
      "metadata": {
        "id": "NE3wNrHGjNRK"
      },
      "execution_count": 256,
      "outputs": []
    },
    {
      "cell_type": "code",
      "source": [
        "acc = avaliacao(aluno, test_loader)\n",
        "print(\"acuracaia do  aluno: \", acc)"
      ],
      "metadata": {
        "colab": {
          "base_uri": "https://localhost:8080/"
        },
        "id": "laA0fgR5kHUM",
        "outputId": "b14956dd-b62e-4b5c-dc42-4c1aaa3c23ea"
      },
      "execution_count": 257,
      "outputs": [
        {
          "output_type": "stream",
          "name": "stdout",
          "text": [
            "acuracaia do  aluno:  0.2\n"
          ]
        }
      ]
    },
    {
      "cell_type": "markdown",
      "source": [
        "# Teste 3\n",
        "\n",
        "Utilizando BERT e realizando fine tune sem destilação de conhecimento"
      ],
      "metadata": {
        "id": "EPKeM8AaqZbs"
      }
    },
    {
      "cell_type": "code",
      "source": [
        "import pandas as pd\n",
        "import torch\n",
        "import torch.nn as nn\n",
        "from torch.utils.data import Dataset, DataLoader\n",
        "from transformers import BertTokenizer, BertModel\n",
        "from sklearn.model_selection import train_test_split\n",
        "from sklearn.preprocessing import LabelEncoder"
      ],
      "metadata": {
        "id": "HR0bI53SrWIw"
      },
      "execution_count": 12,
      "outputs": []
    },
    {
      "cell_type": "code",
      "source": [
        "# 1. Leitura do dataset\n",
        "df = pd.read_csv(\"/content/textos_categorizados.csv\").drop_duplicates(subset=\"texto\")"
      ],
      "metadata": {
        "id": "N8VPq6t5raie"
      },
      "execution_count": 13,
      "outputs": []
    },
    {
      "cell_type": "code",
      "source": [
        "label_enc = LabelEncoder()\n",
        "df[\"label_encoded\"] = label_enc.fit_transform(df[\"label\"])"
      ],
      "metadata": {
        "id": "KdQ5Q8oHrcWi"
      },
      "execution_count": 14,
      "outputs": []
    },
    {
      "cell_type": "code",
      "source": [
        "\n",
        "x_train, x_test, y_train, y_test = train_test_split(\n",
        "    df[\"texto\"], df[\"label_encoded\"], test_size=0.2, random_state=42\n",
        ")"
      ],
      "metadata": {
        "id": "sgzZ3OuKrfpn"
      },
      "execution_count": 15,
      "outputs": []
    },
    {
      "cell_type": "code",
      "source": [
        "# 4. Tokenização BERT\n",
        "tokenizer = BertTokenizer.from_pretrained(\"bert-base-uncased\")\n",
        "\n",
        "class BERTDataset(Dataset):\n",
        "    def __init__(self, textos, labels, tokenizer, max_len=64):\n",
        "        self.encodings = tokenizer(\n",
        "            list(textos),\n",
        "            truncation=True,\n",
        "            padding=True,\n",
        "            max_length=max_len,\n",
        "            return_tensors=\"pt\"\n",
        "        )\n",
        "        self.labels = torch.tensor(labels.values)\n",
        "\n",
        "    def __len__(self):\n",
        "        return len(self.labels)\n",
        "\n",
        "    def __getitem__(self, idx):\n",
        "        item = {key: val[idx] for key, val in self.encodings.items()}\n",
        "        item[\"labels\"] = self.labels[idx]\n",
        "        return item"
      ],
      "metadata": {
        "id": "UZHc2gT5rjKb"
      },
      "execution_count": 16,
      "outputs": []
    },
    {
      "cell_type": "code",
      "source": [
        "# 5. Criar Datasets e Dataloaders\n",
        "train_dataset = BERTDataset(x_train, y_train, tokenizer)\n",
        "test_dataset = BERTDataset(x_test, y_test, tokenizer)\n",
        "\n",
        "train_loader = DataLoader(train_dataset, batch_size=8, shuffle=True)\n",
        "test_loader = DataLoader(test_dataset, batch_size=8)"
      ],
      "metadata": {
        "id": "_uF-4L_frl4i"
      },
      "execution_count": 22,
      "outputs": []
    },
    {
      "cell_type": "code",
      "source": [
        "# 6. Modelo com BERT\n",
        "class BERTClassifier(nn.Module):\n",
        "    def __init__(self, num_classes):\n",
        "        super().__init__()\n",
        "        self.bert = BertModel.from_pretrained(\"bert-base-uncased\")\n",
        "        self.dropout = nn.Dropout(0.3)\n",
        "        self.fc = nn.Linear(self.bert.config.hidden_size, num_classes)\n",
        "\n",
        "    def forward(self, input_ids, attention_mask):\n",
        "        output = self.bert(input_ids=input_ids, attention_mask=attention_mask)\n",
        "        x = self.dropout(output.pooler_output)\n",
        "        return self.fc(x)"
      ],
      "metadata": {
        "id": "axSaJ1Oarnff"
      },
      "execution_count": 23,
      "outputs": []
    },
    {
      "cell_type": "code",
      "source": [
        "# 7. Inicializar modelo\n",
        "device = torch.device(\"cuda\" if torch.cuda.is_available() else \"cpu\")\n",
        "model = BERTClassifier(num_classes=len(label_enc.classes_)).to(device)"
      ],
      "metadata": {
        "id": "WnU0ttdgrtQr"
      },
      "execution_count": 24,
      "outputs": []
    },
    {
      "cell_type": "code",
      "source": [
        "# 8. Otimizador e função de perda\n",
        "optimizer = torch.optim.AdamW(model.parameters(), lr=2e-5)\n",
        "criterion = nn.CrossEntropyLoss()"
      ],
      "metadata": {
        "id": "FgPGuk9_rwdU"
      },
      "execution_count": 25,
      "outputs": []
    },
    {
      "cell_type": "code",
      "source": [
        "# 9. Loop de treino básico\n",
        "for epoch in range(60):  # número de épocas\n",
        "    model.train()\n",
        "    total_loss = 0\n",
        "    for batch in train_loader:\n",
        "        input_ids = batch[\"input_ids\"].to(device)\n",
        "        attention_mask = batch[\"attention_mask\"].to(device)\n",
        "        labels = batch[\"labels\"].to(device)\n",
        "\n",
        "        outputs = model(input_ids=input_ids, attention_mask=attention_mask)\n",
        "        loss = criterion(outputs, labels)\n",
        "\n",
        "        optimizer.zero_grad()\n",
        "        loss.backward()\n",
        "        optimizer.step()\n",
        "\n",
        "        total_loss += loss.item()\n",
        "\n",
        "    print(f\"Epoch {epoch+1}, Loss: {total_loss:.4f}\")\n",
        "\n"
      ],
      "metadata": {
        "colab": {
          "base_uri": "https://localhost:8080/"
        },
        "id": "GooC81Atqbys",
        "outputId": "eb983507-e5d9-444a-a330-5ff2bdd52e9a"
      },
      "execution_count": 26,
      "outputs": [
        {
          "output_type": "stream",
          "name": "stdout",
          "text": [
            "Epoch 1, Loss: 2.7330\n",
            "Epoch 2, Loss: 2.9451\n",
            "Epoch 3, Loss: 2.3037\n",
            "Epoch 4, Loss: 2.5967\n",
            "Epoch 5, Loss: 2.2182\n",
            "Epoch 6, Loss: 2.2155\n",
            "Epoch 7, Loss: 2.1585\n",
            "Epoch 8, Loss: 2.1273\n",
            "Epoch 9, Loss: 1.8921\n",
            "Epoch 10, Loss: 1.8634\n",
            "Epoch 11, Loss: 1.9103\n",
            "Epoch 12, Loss: 1.6741\n",
            "Epoch 13, Loss: 1.7145\n",
            "Epoch 14, Loss: 1.6682\n",
            "Epoch 15, Loss: 1.4653\n",
            "Epoch 16, Loss: 1.5160\n",
            "Epoch 17, Loss: 1.3283\n",
            "Epoch 18, Loss: 1.1798\n",
            "Epoch 19, Loss: 1.0975\n",
            "Epoch 20, Loss: 1.0623\n",
            "Epoch 21, Loss: 0.9291\n",
            "Epoch 22, Loss: 0.9215\n",
            "Epoch 23, Loss: 0.9557\n",
            "Epoch 24, Loss: 0.7785\n",
            "Epoch 25, Loss: 0.7376\n",
            "Epoch 26, Loss: 0.6233\n",
            "Epoch 27, Loss: 0.6048\n",
            "Epoch 28, Loss: 0.6430\n",
            "Epoch 29, Loss: 0.5790\n",
            "Epoch 30, Loss: 0.4451\n",
            "Epoch 31, Loss: 0.4206\n",
            "Epoch 32, Loss: 0.4147\n",
            "Epoch 33, Loss: 0.3896\n",
            "Epoch 34, Loss: 0.2897\n",
            "Epoch 35, Loss: 0.3967\n",
            "Epoch 36, Loss: 0.3025\n",
            "Epoch 37, Loss: 0.2831\n",
            "Epoch 38, Loss: 0.2759\n",
            "Epoch 39, Loss: 0.2863\n",
            "Epoch 40, Loss: 0.1885\n",
            "Epoch 41, Loss: 0.2002\n",
            "Epoch 42, Loss: 0.1977\n",
            "Epoch 43, Loss: 0.1936\n",
            "Epoch 44, Loss: 0.1977\n",
            "Epoch 45, Loss: 0.1956\n",
            "Epoch 46, Loss: 0.1678\n",
            "Epoch 47, Loss: 0.1621\n",
            "Epoch 48, Loss: 0.1380\n",
            "Epoch 49, Loss: 0.1465\n",
            "Epoch 50, Loss: 0.1336\n",
            "Epoch 51, Loss: 0.1415\n",
            "Epoch 52, Loss: 0.1398\n",
            "Epoch 53, Loss: 0.1230\n",
            "Epoch 54, Loss: 0.1265\n",
            "Epoch 55, Loss: 0.1229\n",
            "Epoch 56, Loss: 0.1004\n",
            "Epoch 57, Loss: 0.1101\n",
            "Epoch 58, Loss: 0.0895\n",
            "Epoch 59, Loss: 0.0985\n",
            "Epoch 60, Loss: 0.0867\n"
          ]
        }
      ]
    },
    {
      "cell_type": "code",
      "source": [
        "model.eval()\n",
        "predicoes = []\n",
        "textos_originais = list(x_test.reset_index(drop=True))  # para recuperar os textos\n",
        "\n",
        "with torch.no_grad():\n",
        "    for i, batch in enumerate(test_loader):\n",
        "        input_ids = batch[\"input_ids\"].to(device)\n",
        "        attention_mask = batch[\"attention_mask\"].to(device)\n",
        "        labels = batch[\"labels\"].to(device)\n",
        "\n",
        "        outputs = model(input_ids=input_ids, attention_mask=attention_mask)\n",
        "        probs = torch.softmax(outputs, dim=1)\n",
        "        preds = torch.argmax(probs, dim=1)\n",
        "\n",
        "        for j in range(len(labels)):\n",
        "            texto = textos_originais[i * test_loader.batch_size + j]\n",
        "            real_label = label_enc.inverse_transform([labels[j].cpu().item()])[0]\n",
        "            pred_label = label_enc.inverse_transform([preds[j].cpu().item()])[0]\n",
        "\n",
        "            print(f\"\\n📝 Texto: {texto}\")\n",
        "            print(f\"✅ Real: {real_label} | 🔮 Previsto: {pred_label}\")\n"
      ],
      "metadata": {
        "colab": {
          "base_uri": "https://localhost:8080/"
        },
        "id": "jjU901_QtFIo",
        "outputId": "be326b91-5b13-4d2a-a207-0906d4c02e77"
      },
      "execution_count": 33,
      "outputs": [
        {
          "output_type": "stream",
          "name": "stdout",
          "text": [
            "\n",
            "📝 Texto: Organizações civis e movimentos sociais convocaram um ato nacional em resposta à violência policial registrada nos últimos meses nas periferias urbanas.\n",
            "✅ Real: protesto | 🔮 Previsto: educacao\n",
            "\n",
            "📝 Texto: O aumento dos focos de queimadas na região amazônica preocupa autoridades ambientais, que alertam para o risco de desequilíbrio ecológico e perda de biodiversidade.\n",
            "✅ Real: meio_ambiente | 🔮 Previsto: meio_ambiente\n",
            "\n",
            "📝 Texto: Estudos mostram que a poluição dos rios urbanos continua crescendo, mesmo com políticas de saneamento, o que representa riscos à saúde pública e à biodiversidade aquática.\n",
            "✅ Real: meio_ambiente | 🔮 Previsto: meio_ambiente\n",
            "\n",
            "📝 Texto: Milhares de manifestantes ocuparam as ruas da capital nesta tarde para protestar contra a reforma trabalhista aprovada pelo congresso nacional no mês passado.\n",
            "✅ Real: protesto | 🔮 Previsto: economia\n"
          ]
        }
      ]
    },
    {
      "cell_type": "markdown",
      "source": [
        "#TESTE 4\n",
        "\n",
        "Destilação de conhecimento com BERT"
      ],
      "metadata": {
        "id": "Gl20N9GHwOo5"
      }
    },
    {
      "cell_type": "code",
      "source": [
        "import torch.nn.functional as F\n",
        "from transformers import DistilBertTokenizer, DistilBertModel\n",
        "import pandas as pd\n",
        "import torch.nn as nn\n",
        "from torch.utils.data import Dataset, DataLoader\n",
        "from sklearn.model_selection import train_test_split\n",
        "from sklearn.preprocessing import LabelEncoder\n",
        "import torch"
      ],
      "metadata": {
        "id": "G18NsSurwdNm"
      },
      "execution_count": 46,
      "outputs": []
    },
    {
      "cell_type": "code",
      "source": [
        "from sklearn.metrics import accuracy_score"
      ],
      "metadata": {
        "id": "Yyf9l9mSxzrr"
      },
      "execution_count": 47,
      "outputs": []
    },
    {
      "cell_type": "code",
      "source": [
        "from transformers import BertTokenizer, BertModel"
      ],
      "metadata": {
        "id": "FOYDKln01pdC"
      },
      "execution_count": 48,
      "outputs": []
    },
    {
      "cell_type": "code",
      "source": [
        "class BERTClassifier(nn.Module):\n",
        "    def __init__(self, num_classes):\n",
        "        super().__init__()\n",
        "        self.bert = BertModel.from_pretrained(\"bert-base-uncased\")\n",
        "        self.dropout = nn.Dropout(0.3)\n",
        "        self.fc = nn.Linear(self.bert.config.hidden_size, num_classes)\n",
        "\n",
        "    def forward(self, input_ids, attention_mask):\n",
        "        output = self.bert(input_ids=input_ids, attention_mask=attention_mask)\n",
        "        x = self.dropout(output.pooler_output)\n",
        "        return self.fc(x)"
      ],
      "metadata": {
        "id": "ae7PCnUQy3u2"
      },
      "execution_count": 49,
      "outputs": []
    },
    {
      "cell_type": "code",
      "source": [
        "# Define o modelo aluno (menor)\n",
        "class DistilBERTStudent(nn.Module):\n",
        "    def __init__(self, num_classes):\n",
        "        super().__init__()\n",
        "        self.bert = DistilBertModel.from_pretrained(\"distilbert-base-uncased\")\n",
        "        self.dropout = nn.Dropout(0.3)\n",
        "        self.fc = nn.Linear(self.bert.config.hidden_size, num_classes)\n",
        "\n",
        "    def forward(self, input_ids, attention_mask):\n",
        "        output = self.bert(input_ids=input_ids, attention_mask=attention_mask)\n",
        "        x = self.dropout(output.last_hidden_state[:, 0])  # CLS token\n",
        "        return self.fc(x)"
      ],
      "metadata": {
        "id": "iZAWGmHSwg2f"
      },
      "execution_count": 50,
      "outputs": []
    },
    {
      "cell_type": "code",
      "source": [
        "df = pd.read_csv(\"/content/textos_categorizados.csv\").drop_duplicates(subset=\"texto\").reset_index(drop=True)"
      ],
      "metadata": {
        "id": "iNa0AQ9QwlPY"
      },
      "execution_count": 51,
      "outputs": []
    },
    {
      "cell_type": "code",
      "source": [
        "df"
      ],
      "metadata": {
        "colab": {
          "base_uri": "https://localhost:8080/",
          "height": 677
        },
        "id": "W5Wa6l2uwsdS",
        "outputId": "bd68d8c1-2d24-4945-aef0-8e72caec4566"
      },
      "execution_count": 52,
      "outputs": [
        {
          "output_type": "execute_result",
          "data": {
            "text/plain": [
              "                                                texto          label\n",
              "0   Organizações civis e movimentos sociais convoc...       protesto\n",
              "1   Milhares de manifestantes ocuparam as ruas da ...       protesto\n",
              "2   Protestos se intensificaram após o aumento no ...       protesto\n",
              "3   Integrantes de diversos sindicatos realizaram ...       protesto\n",
              "4   Estudantes de várias universidades públicas or...       protesto\n",
              "5   O relatório do Banco Central apontou crescimen...       economia\n",
              "6   A inflação do mês de março apresentou uma leve...       economia\n",
              "7   Analistas financeiros revisaram as projeções d...       economia\n",
              "8   A taxa básica de juros foi reduzida pelo Comit...       economia\n",
              "9   A bolsa de valores fechou o pregão com alta de...       economia\n",
              "10  Universidades federais ampliaram a oferta de c...       educacao\n",
              "11  Uma nova lei aprovada no congresso estabelece ...       educacao\n",
              "12  Estudantes de diferentes estados participaram ...       educacao\n",
              "13  O Ministério da Educação lançou um programa de...       educacao\n",
              "14  Professores da educação básica participaram de...       educacao\n",
              "15  Estudos mostram que a poluição dos rios urbano...  meio_ambiente\n",
              "16  Organizações não-governamentais iniciaram um p...  meio_ambiente\n",
              "17  O aumento dos focos de queimadas na região ama...  meio_ambiente\n",
              "18  A conferência internacional sobre mudanças cli...  meio_ambiente\n",
              "19  Pesquisadores divulgaram um relatório que most...  meio_ambiente"
            ],
            "text/html": [
              "\n",
              "  <div id=\"df-7c26c279-a993-4e1e-944c-9f5f05dc7a37\" class=\"colab-df-container\">\n",
              "    <div>\n",
              "<style scoped>\n",
              "    .dataframe tbody tr th:only-of-type {\n",
              "        vertical-align: middle;\n",
              "    }\n",
              "\n",
              "    .dataframe tbody tr th {\n",
              "        vertical-align: top;\n",
              "    }\n",
              "\n",
              "    .dataframe thead th {\n",
              "        text-align: right;\n",
              "    }\n",
              "</style>\n",
              "<table border=\"1\" class=\"dataframe\">\n",
              "  <thead>\n",
              "    <tr style=\"text-align: right;\">\n",
              "      <th></th>\n",
              "      <th>texto</th>\n",
              "      <th>label</th>\n",
              "    </tr>\n",
              "  </thead>\n",
              "  <tbody>\n",
              "    <tr>\n",
              "      <th>0</th>\n",
              "      <td>Organizações civis e movimentos sociais convoc...</td>\n",
              "      <td>protesto</td>\n",
              "    </tr>\n",
              "    <tr>\n",
              "      <th>1</th>\n",
              "      <td>Milhares de manifestantes ocuparam as ruas da ...</td>\n",
              "      <td>protesto</td>\n",
              "    </tr>\n",
              "    <tr>\n",
              "      <th>2</th>\n",
              "      <td>Protestos se intensificaram após o aumento no ...</td>\n",
              "      <td>protesto</td>\n",
              "    </tr>\n",
              "    <tr>\n",
              "      <th>3</th>\n",
              "      <td>Integrantes de diversos sindicatos realizaram ...</td>\n",
              "      <td>protesto</td>\n",
              "    </tr>\n",
              "    <tr>\n",
              "      <th>4</th>\n",
              "      <td>Estudantes de várias universidades públicas or...</td>\n",
              "      <td>protesto</td>\n",
              "    </tr>\n",
              "    <tr>\n",
              "      <th>5</th>\n",
              "      <td>O relatório do Banco Central apontou crescimen...</td>\n",
              "      <td>economia</td>\n",
              "    </tr>\n",
              "    <tr>\n",
              "      <th>6</th>\n",
              "      <td>A inflação do mês de março apresentou uma leve...</td>\n",
              "      <td>economia</td>\n",
              "    </tr>\n",
              "    <tr>\n",
              "      <th>7</th>\n",
              "      <td>Analistas financeiros revisaram as projeções d...</td>\n",
              "      <td>economia</td>\n",
              "    </tr>\n",
              "    <tr>\n",
              "      <th>8</th>\n",
              "      <td>A taxa básica de juros foi reduzida pelo Comit...</td>\n",
              "      <td>economia</td>\n",
              "    </tr>\n",
              "    <tr>\n",
              "      <th>9</th>\n",
              "      <td>A bolsa de valores fechou o pregão com alta de...</td>\n",
              "      <td>economia</td>\n",
              "    </tr>\n",
              "    <tr>\n",
              "      <th>10</th>\n",
              "      <td>Universidades federais ampliaram a oferta de c...</td>\n",
              "      <td>educacao</td>\n",
              "    </tr>\n",
              "    <tr>\n",
              "      <th>11</th>\n",
              "      <td>Uma nova lei aprovada no congresso estabelece ...</td>\n",
              "      <td>educacao</td>\n",
              "    </tr>\n",
              "    <tr>\n",
              "      <th>12</th>\n",
              "      <td>Estudantes de diferentes estados participaram ...</td>\n",
              "      <td>educacao</td>\n",
              "    </tr>\n",
              "    <tr>\n",
              "      <th>13</th>\n",
              "      <td>O Ministério da Educação lançou um programa de...</td>\n",
              "      <td>educacao</td>\n",
              "    </tr>\n",
              "    <tr>\n",
              "      <th>14</th>\n",
              "      <td>Professores da educação básica participaram de...</td>\n",
              "      <td>educacao</td>\n",
              "    </tr>\n",
              "    <tr>\n",
              "      <th>15</th>\n",
              "      <td>Estudos mostram que a poluição dos rios urbano...</td>\n",
              "      <td>meio_ambiente</td>\n",
              "    </tr>\n",
              "    <tr>\n",
              "      <th>16</th>\n",
              "      <td>Organizações não-governamentais iniciaram um p...</td>\n",
              "      <td>meio_ambiente</td>\n",
              "    </tr>\n",
              "    <tr>\n",
              "      <th>17</th>\n",
              "      <td>O aumento dos focos de queimadas na região ama...</td>\n",
              "      <td>meio_ambiente</td>\n",
              "    </tr>\n",
              "    <tr>\n",
              "      <th>18</th>\n",
              "      <td>A conferência internacional sobre mudanças cli...</td>\n",
              "      <td>meio_ambiente</td>\n",
              "    </tr>\n",
              "    <tr>\n",
              "      <th>19</th>\n",
              "      <td>Pesquisadores divulgaram um relatório que most...</td>\n",
              "      <td>meio_ambiente</td>\n",
              "    </tr>\n",
              "  </tbody>\n",
              "</table>\n",
              "</div>\n",
              "    <div class=\"colab-df-buttons\">\n",
              "\n",
              "  <div class=\"colab-df-container\">\n",
              "    <button class=\"colab-df-convert\" onclick=\"convertToInteractive('df-7c26c279-a993-4e1e-944c-9f5f05dc7a37')\"\n",
              "            title=\"Convert this dataframe to an interactive table.\"\n",
              "            style=\"display:none;\">\n",
              "\n",
              "  <svg xmlns=\"http://www.w3.org/2000/svg\" height=\"24px\" viewBox=\"0 -960 960 960\">\n",
              "    <path d=\"M120-120v-720h720v720H120Zm60-500h600v-160H180v160Zm220 220h160v-160H400v160Zm0 220h160v-160H400v160ZM180-400h160v-160H180v160Zm440 0h160v-160H620v160ZM180-180h160v-160H180v160Zm440 0h160v-160H620v160Z\"/>\n",
              "  </svg>\n",
              "    </button>\n",
              "\n",
              "  <style>\n",
              "    .colab-df-container {\n",
              "      display:flex;\n",
              "      gap: 12px;\n",
              "    }\n",
              "\n",
              "    .colab-df-convert {\n",
              "      background-color: #E8F0FE;\n",
              "      border: none;\n",
              "      border-radius: 50%;\n",
              "      cursor: pointer;\n",
              "      display: none;\n",
              "      fill: #1967D2;\n",
              "      height: 32px;\n",
              "      padding: 0 0 0 0;\n",
              "      width: 32px;\n",
              "    }\n",
              "\n",
              "    .colab-df-convert:hover {\n",
              "      background-color: #E2EBFA;\n",
              "      box-shadow: 0px 1px 2px rgba(60, 64, 67, 0.3), 0px 1px 3px 1px rgba(60, 64, 67, 0.15);\n",
              "      fill: #174EA6;\n",
              "    }\n",
              "\n",
              "    .colab-df-buttons div {\n",
              "      margin-bottom: 4px;\n",
              "    }\n",
              "\n",
              "    [theme=dark] .colab-df-convert {\n",
              "      background-color: #3B4455;\n",
              "      fill: #D2E3FC;\n",
              "    }\n",
              "\n",
              "    [theme=dark] .colab-df-convert:hover {\n",
              "      background-color: #434B5C;\n",
              "      box-shadow: 0px 1px 3px 1px rgba(0, 0, 0, 0.15);\n",
              "      filter: drop-shadow(0px 1px 2px rgba(0, 0, 0, 0.3));\n",
              "      fill: #FFFFFF;\n",
              "    }\n",
              "  </style>\n",
              "\n",
              "    <script>\n",
              "      const buttonEl =\n",
              "        document.querySelector('#df-7c26c279-a993-4e1e-944c-9f5f05dc7a37 button.colab-df-convert');\n",
              "      buttonEl.style.display =\n",
              "        google.colab.kernel.accessAllowed ? 'block' : 'none';\n",
              "\n",
              "      async function convertToInteractive(key) {\n",
              "        const element = document.querySelector('#df-7c26c279-a993-4e1e-944c-9f5f05dc7a37');\n",
              "        const dataTable =\n",
              "          await google.colab.kernel.invokeFunction('convertToInteractive',\n",
              "                                                    [key], {});\n",
              "        if (!dataTable) return;\n",
              "\n",
              "        const docLinkHtml = 'Like what you see? Visit the ' +\n",
              "          '<a target=\"_blank\" href=https://colab.research.google.com/notebooks/data_table.ipynb>data table notebook</a>'\n",
              "          + ' to learn more about interactive tables.';\n",
              "        element.innerHTML = '';\n",
              "        dataTable['output_type'] = 'display_data';\n",
              "        await google.colab.output.renderOutput(dataTable, element);\n",
              "        const docLink = document.createElement('div');\n",
              "        docLink.innerHTML = docLinkHtml;\n",
              "        element.appendChild(docLink);\n",
              "      }\n",
              "    </script>\n",
              "  </div>\n",
              "\n",
              "\n",
              "<div id=\"df-7aea109e-af7d-4a93-8a62-949a0b23f148\">\n",
              "  <button class=\"colab-df-quickchart\" onclick=\"quickchart('df-7aea109e-af7d-4a93-8a62-949a0b23f148')\"\n",
              "            title=\"Suggest charts\"\n",
              "            style=\"display:none;\">\n",
              "\n",
              "<svg xmlns=\"http://www.w3.org/2000/svg\" height=\"24px\"viewBox=\"0 0 24 24\"\n",
              "     width=\"24px\">\n",
              "    <g>\n",
              "        <path d=\"M19 3H5c-1.1 0-2 .9-2 2v14c0 1.1.9 2 2 2h14c1.1 0 2-.9 2-2V5c0-1.1-.9-2-2-2zM9 17H7v-7h2v7zm4 0h-2V7h2v10zm4 0h-2v-4h2v4z\"/>\n",
              "    </g>\n",
              "</svg>\n",
              "  </button>\n",
              "\n",
              "<style>\n",
              "  .colab-df-quickchart {\n",
              "      --bg-color: #E8F0FE;\n",
              "      --fill-color: #1967D2;\n",
              "      --hover-bg-color: #E2EBFA;\n",
              "      --hover-fill-color: #174EA6;\n",
              "      --disabled-fill-color: #AAA;\n",
              "      --disabled-bg-color: #DDD;\n",
              "  }\n",
              "\n",
              "  [theme=dark] .colab-df-quickchart {\n",
              "      --bg-color: #3B4455;\n",
              "      --fill-color: #D2E3FC;\n",
              "      --hover-bg-color: #434B5C;\n",
              "      --hover-fill-color: #FFFFFF;\n",
              "      --disabled-bg-color: #3B4455;\n",
              "      --disabled-fill-color: #666;\n",
              "  }\n",
              "\n",
              "  .colab-df-quickchart {\n",
              "    background-color: var(--bg-color);\n",
              "    border: none;\n",
              "    border-radius: 50%;\n",
              "    cursor: pointer;\n",
              "    display: none;\n",
              "    fill: var(--fill-color);\n",
              "    height: 32px;\n",
              "    padding: 0;\n",
              "    width: 32px;\n",
              "  }\n",
              "\n",
              "  .colab-df-quickchart:hover {\n",
              "    background-color: var(--hover-bg-color);\n",
              "    box-shadow: 0 1px 2px rgba(60, 64, 67, 0.3), 0 1px 3px 1px rgba(60, 64, 67, 0.15);\n",
              "    fill: var(--button-hover-fill-color);\n",
              "  }\n",
              "\n",
              "  .colab-df-quickchart-complete:disabled,\n",
              "  .colab-df-quickchart-complete:disabled:hover {\n",
              "    background-color: var(--disabled-bg-color);\n",
              "    fill: var(--disabled-fill-color);\n",
              "    box-shadow: none;\n",
              "  }\n",
              "\n",
              "  .colab-df-spinner {\n",
              "    border: 2px solid var(--fill-color);\n",
              "    border-color: transparent;\n",
              "    border-bottom-color: var(--fill-color);\n",
              "    animation:\n",
              "      spin 1s steps(1) infinite;\n",
              "  }\n",
              "\n",
              "  @keyframes spin {\n",
              "    0% {\n",
              "      border-color: transparent;\n",
              "      border-bottom-color: var(--fill-color);\n",
              "      border-left-color: var(--fill-color);\n",
              "    }\n",
              "    20% {\n",
              "      border-color: transparent;\n",
              "      border-left-color: var(--fill-color);\n",
              "      border-top-color: var(--fill-color);\n",
              "    }\n",
              "    30% {\n",
              "      border-color: transparent;\n",
              "      border-left-color: var(--fill-color);\n",
              "      border-top-color: var(--fill-color);\n",
              "      border-right-color: var(--fill-color);\n",
              "    }\n",
              "    40% {\n",
              "      border-color: transparent;\n",
              "      border-right-color: var(--fill-color);\n",
              "      border-top-color: var(--fill-color);\n",
              "    }\n",
              "    60% {\n",
              "      border-color: transparent;\n",
              "      border-right-color: var(--fill-color);\n",
              "    }\n",
              "    80% {\n",
              "      border-color: transparent;\n",
              "      border-right-color: var(--fill-color);\n",
              "      border-bottom-color: var(--fill-color);\n",
              "    }\n",
              "    90% {\n",
              "      border-color: transparent;\n",
              "      border-bottom-color: var(--fill-color);\n",
              "    }\n",
              "  }\n",
              "</style>\n",
              "\n",
              "  <script>\n",
              "    async function quickchart(key) {\n",
              "      const quickchartButtonEl =\n",
              "        document.querySelector('#' + key + ' button');\n",
              "      quickchartButtonEl.disabled = true;  // To prevent multiple clicks.\n",
              "      quickchartButtonEl.classList.add('colab-df-spinner');\n",
              "      try {\n",
              "        const charts = await google.colab.kernel.invokeFunction(\n",
              "            'suggestCharts', [key], {});\n",
              "      } catch (error) {\n",
              "        console.error('Error during call to suggestCharts:', error);\n",
              "      }\n",
              "      quickchartButtonEl.classList.remove('colab-df-spinner');\n",
              "      quickchartButtonEl.classList.add('colab-df-quickchart-complete');\n",
              "    }\n",
              "    (() => {\n",
              "      let quickchartButtonEl =\n",
              "        document.querySelector('#df-7aea109e-af7d-4a93-8a62-949a0b23f148 button');\n",
              "      quickchartButtonEl.style.display =\n",
              "        google.colab.kernel.accessAllowed ? 'block' : 'none';\n",
              "    })();\n",
              "  </script>\n",
              "</div>\n",
              "\n",
              "  <div id=\"id_64da8d86-2ee4-4110-92c0-871da5e89cf9\">\n",
              "    <style>\n",
              "      .colab-df-generate {\n",
              "        background-color: #E8F0FE;\n",
              "        border: none;\n",
              "        border-radius: 50%;\n",
              "        cursor: pointer;\n",
              "        display: none;\n",
              "        fill: #1967D2;\n",
              "        height: 32px;\n",
              "        padding: 0 0 0 0;\n",
              "        width: 32px;\n",
              "      }\n",
              "\n",
              "      .colab-df-generate:hover {\n",
              "        background-color: #E2EBFA;\n",
              "        box-shadow: 0px 1px 2px rgba(60, 64, 67, 0.3), 0px 1px 3px 1px rgba(60, 64, 67, 0.15);\n",
              "        fill: #174EA6;\n",
              "      }\n",
              "\n",
              "      [theme=dark] .colab-df-generate {\n",
              "        background-color: #3B4455;\n",
              "        fill: #D2E3FC;\n",
              "      }\n",
              "\n",
              "      [theme=dark] .colab-df-generate:hover {\n",
              "        background-color: #434B5C;\n",
              "        box-shadow: 0px 1px 3px 1px rgba(0, 0, 0, 0.15);\n",
              "        filter: drop-shadow(0px 1px 2px rgba(0, 0, 0, 0.3));\n",
              "        fill: #FFFFFF;\n",
              "      }\n",
              "    </style>\n",
              "    <button class=\"colab-df-generate\" onclick=\"generateWithVariable('df')\"\n",
              "            title=\"Generate code using this dataframe.\"\n",
              "            style=\"display:none;\">\n",
              "\n",
              "  <svg xmlns=\"http://www.w3.org/2000/svg\" height=\"24px\"viewBox=\"0 0 24 24\"\n",
              "       width=\"24px\">\n",
              "    <path d=\"M7,19H8.4L18.45,9,17,7.55,7,17.6ZM5,21V16.75L18.45,3.32a2,2,0,0,1,2.83,0l1.4,1.43a1.91,1.91,0,0,1,.58,1.4,1.91,1.91,0,0,1-.58,1.4L9.25,21ZM18.45,9,17,7.55Zm-12,3A5.31,5.31,0,0,0,4.9,8.1,5.31,5.31,0,0,0,1,6.5,5.31,5.31,0,0,0,4.9,4.9,5.31,5.31,0,0,0,6.5,1,5.31,5.31,0,0,0,8.1,4.9,5.31,5.31,0,0,0,12,6.5,5.46,5.46,0,0,0,6.5,12Z\"/>\n",
              "  </svg>\n",
              "    </button>\n",
              "    <script>\n",
              "      (() => {\n",
              "      const buttonEl =\n",
              "        document.querySelector('#id_64da8d86-2ee4-4110-92c0-871da5e89cf9 button.colab-df-generate');\n",
              "      buttonEl.style.display =\n",
              "        google.colab.kernel.accessAllowed ? 'block' : 'none';\n",
              "\n",
              "      buttonEl.onclick = () => {\n",
              "        google.colab.notebook.generateWithVariable('df');\n",
              "      }\n",
              "      })();\n",
              "    </script>\n",
              "  </div>\n",
              "\n",
              "    </div>\n",
              "  </div>\n"
            ],
            "application/vnd.google.colaboratory.intrinsic+json": {
              "type": "dataframe",
              "variable_name": "df",
              "summary": "{\n  \"name\": \"df\",\n  \"rows\": 20,\n  \"fields\": [\n    {\n      \"column\": \"texto\",\n      \"properties\": {\n        \"dtype\": \"string\",\n        \"num_unique_values\": 20,\n        \"samples\": [\n          \"Organiza\\u00e7\\u00f5es civis e movimentos sociais convocaram um ato nacional em resposta \\u00e0 viol\\u00eancia policial registrada nos \\u00faltimos meses nas periferias urbanas.\",\n          \"O aumento dos focos de queimadas na regi\\u00e3o amaz\\u00f4nica preocupa autoridades ambientais, que alertam para o risco de desequil\\u00edbrio ecol\\u00f3gico e perda de biodiversidade.\",\n          \"Estudos mostram que a polui\\u00e7\\u00e3o dos rios urbanos continua crescendo, mesmo com pol\\u00edticas de saneamento, o que representa riscos \\u00e0 sa\\u00fade p\\u00fablica e \\u00e0 biodiversidade aqu\\u00e1tica.\"\n        ],\n        \"semantic_type\": \"\",\n        \"description\": \"\"\n      }\n    },\n    {\n      \"column\": \"label\",\n      \"properties\": {\n        \"dtype\": \"category\",\n        \"num_unique_values\": 4,\n        \"samples\": [\n          \"economia\",\n          \"meio_ambiente\",\n          \"protesto\"\n        ],\n        \"semantic_type\": \"\",\n        \"description\": \"\"\n      }\n    }\n  ]\n}"
            }
          },
          "metadata": {},
          "execution_count": 52
        }
      ]
    },
    {
      "cell_type": "code",
      "source": [
        "num_classes = df[\"label\"].nunique()\n",
        "num_classes"
      ],
      "metadata": {
        "colab": {
          "base_uri": "https://localhost:8080/"
        },
        "id": "UfUl9vmNw9LH",
        "outputId": "744bc1ae-b451-4ea7-867f-d95291ab43be"
      },
      "execution_count": 53,
      "outputs": [
        {
          "output_type": "execute_result",
          "data": {
            "text/plain": [
              "4"
            ]
          },
          "metadata": {},
          "execution_count": 53
        }
      ]
    },
    {
      "cell_type": "code",
      "source": [
        "label_enc = LabelEncoder()\n",
        "df[\"label_encoded\"] = label_enc.fit_transform(df[\"label\"])"
      ],
      "metadata": {
        "id": "-KsjOKJU1ZD2"
      },
      "execution_count": 54,
      "outputs": []
    },
    {
      "cell_type": "code",
      "source": [
        "x_train, x_test, y_train, y_test = train_test_split(\n",
        "    df[\"texto\"], df[\"label_encoded\"], test_size=0.2, random_state=42\n",
        ")"
      ],
      "metadata": {
        "id": "uGHzMpyw2nM8"
      },
      "execution_count": 55,
      "outputs": []
    },
    {
      "cell_type": "code",
      "source": [
        "# Tokenização BERT\n",
        "tokenizer = BertTokenizer.from_pretrained(\"bert-base-uncased\")\n",
        "\n",
        "class BERTDataset(Dataset):\n",
        "    def __init__(self, textos, labels, tokenizer, max_len=64):\n",
        "        self.encodings = tokenizer(\n",
        "            list(textos),\n",
        "            truncation=True,\n",
        "            padding=True,\n",
        "            max_length=max_len,\n",
        "            return_tensors=\"pt\"\n",
        "        )\n",
        "        self.labels = torch.tensor(labels.values)\n",
        "\n",
        "    def __len__(self):\n",
        "        return len(self.labels)\n",
        "\n",
        "    def __getitem__(self, idx):\n",
        "        item = {key: val[idx] for key, val in self.encodings.items()}\n",
        "        item[\"labels\"] = self.labels[idx]\n",
        "        return item"
      ],
      "metadata": {
        "id": "evsXnlW1274O"
      },
      "execution_count": 56,
      "outputs": []
    },
    {
      "cell_type": "code",
      "source": [
        "# 5. Criar Datasets e Dataloaders\n",
        "train_dataset = BERTDataset(x_train, y_train, tokenizer)\n",
        "test_dataset = BERTDataset(x_test, y_test, tokenizer)\n",
        "\n",
        "train_loader = DataLoader(train_dataset, batch_size=8, shuffle=True)\n",
        "test_loader = DataLoader(test_dataset, batch_size=8)"
      ],
      "metadata": {
        "id": "wCTyF-Za2Vrf"
      },
      "execution_count": 57,
      "outputs": []
    },
    {
      "cell_type": "code",
      "source": [
        "device = torch.device(\"cuda\" if torch.cuda.is_available() else \"cpu\")"
      ],
      "metadata": {
        "id": "s-vB3pxw1z5t"
      },
      "execution_count": 58,
      "outputs": []
    },
    {
      "cell_type": "code",
      "source": [
        "model = BERTClassifier(num_classes=len(label_enc.classes_)).to(device)"
      ],
      "metadata": {
        "id": "v7_0VwjmzCRV"
      },
      "execution_count": 59,
      "outputs": []
    },
    {
      "cell_type": "code",
      "source": [
        "# Instanciar modelos\n",
        "professor_model = BERTClassifier(num_classes).to(device)\n",
        "student_model = DistilBERTStudent(num_classes).to(device)"
      ],
      "metadata": {
        "id": "DB4ifs0fwi50"
      },
      "execution_count": 60,
      "outputs": []
    },
    {
      "cell_type": "code",
      "source": [
        "# 8. Otimizador e função de perda do professor\n",
        "optimizer = torch.optim.AdamW(model.parameters(), lr=2e-5)\n",
        "criterion = nn.CrossEntropyLoss()"
      ],
      "metadata": {
        "id": "uRg_q-tIz88i"
      },
      "execution_count": 61,
      "outputs": []
    },
    {
      "cell_type": "code",
      "source": [
        "# Congela o professor (como se já estivesse treinado)\n",
        "# for param in professor_model.parameters():\n",
        "#     param.requires_grad = False"
      ],
      "metadata": {
        "id": "xtJAROkUxJdg"
      },
      "execution_count": 34,
      "outputs": []
    },
    {
      "cell_type": "code",
      "source": [
        "# 9. Loop de treino básico\n",
        "for epoch in range(40):  # número de épocas\n",
        "    model.train()\n",
        "    total_loss = 0\n",
        "    for batch in train_loader:\n",
        "        input_ids = batch[\"input_ids\"].to(device)\n",
        "        attention_mask = batch[\"attention_mask\"].to(device)\n",
        "        labels = batch[\"labels\"].to(device)\n",
        "\n",
        "        outputs = model(input_ids=input_ids, attention_mask=attention_mask)\n",
        "        loss = criterion(outputs, labels)\n",
        "\n",
        "        optimizer.zero_grad()\n",
        "        loss.backward()\n",
        "        optimizer.step()\n",
        "\n",
        "        total_loss += loss.item()\n",
        "\n",
        "    print(f\"Epoch {epoch+1}, Loss: {total_loss:.4f}\")"
      ],
      "metadata": {
        "colab": {
          "base_uri": "https://localhost:8080/"
        },
        "id": "nvvV7TVhzrb-",
        "outputId": "cb19d053-ae21-46b0-e9d2-de6b9bd9abf1"
      },
      "execution_count": 63,
      "outputs": [
        {
          "output_type": "stream",
          "name": "stdout",
          "text": [
            "Epoch 1, Loss: 2.7765\n",
            "Epoch 2, Loss: 2.7777\n",
            "Epoch 3, Loss: 2.5519\n",
            "Epoch 4, Loss: 2.4598\n",
            "Epoch 5, Loss: 2.5610\n",
            "Epoch 6, Loss: 2.4650\n",
            "Epoch 7, Loss: 2.1153\n",
            "Epoch 8, Loss: 2.0771\n",
            "Epoch 9, Loss: 2.0133\n",
            "Epoch 10, Loss: 1.9233\n",
            "Epoch 11, Loss: 1.8337\n",
            "Epoch 12, Loss: 1.8010\n",
            "Epoch 13, Loss: 1.7112\n",
            "Epoch 14, Loss: 1.7038\n",
            "Epoch 15, Loss: 1.4637\n",
            "Epoch 16, Loss: 1.4066\n",
            "Epoch 17, Loss: 1.4782\n",
            "Epoch 18, Loss: 1.3947\n",
            "Epoch 19, Loss: 1.3554\n",
            "Epoch 20, Loss: 1.1320\n",
            "Epoch 21, Loss: 1.0182\n",
            "Epoch 22, Loss: 0.8958\n",
            "Epoch 23, Loss: 0.9520\n",
            "Epoch 24, Loss: 0.7648\n",
            "Epoch 25, Loss: 0.6881\n",
            "Epoch 26, Loss: 0.6331\n",
            "Epoch 27, Loss: 0.7072\n",
            "Epoch 28, Loss: 0.6520\n",
            "Epoch 29, Loss: 0.6104\n",
            "Epoch 30, Loss: 0.5441\n",
            "Epoch 31, Loss: 0.5093\n",
            "Epoch 32, Loss: 0.4453\n",
            "Epoch 33, Loss: 0.4778\n",
            "Epoch 34, Loss: 0.4297\n",
            "Epoch 35, Loss: 0.4296\n",
            "Epoch 36, Loss: 0.4265\n",
            "Epoch 37, Loss: 0.3926\n",
            "Epoch 38, Loss: 0.3444\n",
            "Epoch 39, Loss: 0.3504\n",
            "Epoch 40, Loss: 0.3432\n"
          ]
        }
      ]
    },
    {
      "cell_type": "code",
      "source": [
        "# Otimizador do aluno\n",
        "optimizer = torch.optim.Adam(student_model.parameters(), lr=1e-5)"
      ],
      "metadata": {
        "id": "cWXGG2N5xQ-4"
      },
      "execution_count": 64,
      "outputs": []
    },
    {
      "cell_type": "code",
      "source": [
        "# Função de perda com destilação\n",
        "def distilacao_loss(student_logits, teacher_logits, true_labels, T=2.0, alpha=0.7):\n",
        "    # Soft targets do professor\n",
        "    soft_teacher_probs = F.softmax(teacher_logits / T, dim=1)\n",
        "    # Log softmax do aluno\n",
        "    log_student_probs = F.log_softmax(student_logits / T, dim=1)\n",
        "    # KL-divergence\n",
        "    soft_loss = F.kl_div(log_student_probs, soft_teacher_probs, reduction=\"batchmean\") * (T ** 2)\n",
        "    # Loss tradicional\n",
        "    hard_loss = F.cross_entropy(student_logits, true_labels)\n",
        "    return alpha * hard_loss + (1 - alpha) * soft_loss"
      ],
      "metadata": {
        "id": "C0eetN-qxStH"
      },
      "execution_count": 65,
      "outputs": []
    },
    {
      "cell_type": "code",
      "source": [
        "# Treinamento com destilação\n",
        "for epoca in range(40):\n",
        "    student_model.train()\n",
        "    total_loss = 0\n",
        "    for batch in train_loader:\n",
        "        input_ids = batch[\"input_ids\"].to(device)\n",
        "        attention_mask = batch[\"attention_mask\"].to(device)\n",
        "        labels = batch[\"labels\"].to(device)\n",
        "\n",
        "        with torch.no_grad():\n",
        "            teacher_logits = professor_model(input_ids=input_ids, attention_mask=attention_mask)\n",
        "\n",
        "        student_logits = student_model(input_ids=input_ids, attention_mask=attention_mask)\n",
        "        loss = distilacao_loss(student_logits, teacher_logits, labels)\n",
        "\n",
        "        optimizer.zero_grad()\n",
        "        loss.backward()\n",
        "        optimizer.step()\n",
        "\n",
        "        total_loss += loss.item()\n",
        "\n",
        "    print(f\"[Epoca {epoca+1}] Distilacao Loss: {total_loss:.4f}\")\n"
      ],
      "metadata": {
        "colab": {
          "base_uri": "https://localhost:8080/"
        },
        "id": "SwMdlYb1wTwG",
        "outputId": "272fe370-f789-4f5f-81ff-e53c3dc13871"
      },
      "execution_count": 71,
      "outputs": [
        {
          "output_type": "stream",
          "name": "stdout",
          "text": [
            "[Epoca 1] Distilacao Loss: 1.0424\n",
            "[Epoca 2] Distilacao Loss: 1.0692\n",
            "[Epoca 3] Distilacao Loss: 1.0066\n",
            "[Epoca 4] Distilacao Loss: 0.9747\n",
            "[Epoca 5] Distilacao Loss: 0.9278\n",
            "[Epoca 6] Distilacao Loss: 0.8351\n",
            "[Epoca 7] Distilacao Loss: 0.8531\n",
            "[Epoca 8] Distilacao Loss: 0.7968\n",
            "[Epoca 9] Distilacao Loss: 0.8298\n",
            "[Epoca 10] Distilacao Loss: 0.7908\n",
            "[Epoca 11] Distilacao Loss: 0.8201\n",
            "[Epoca 12] Distilacao Loss: 0.7517\n",
            "[Epoca 13] Distilacao Loss: 0.8052\n",
            "[Epoca 14] Distilacao Loss: 0.7946\n",
            "[Epoca 15] Distilacao Loss: 0.7444\n",
            "[Epoca 16] Distilacao Loss: 0.7748\n",
            "[Epoca 17] Distilacao Loss: 0.7459\n",
            "[Epoca 18] Distilacao Loss: 0.7530\n",
            "[Epoca 19] Distilacao Loss: 0.7623\n",
            "[Epoca 20] Distilacao Loss: 0.7931\n",
            "[Epoca 21] Distilacao Loss: 0.8016\n",
            "[Epoca 22] Distilacao Loss: 0.7686\n",
            "[Epoca 23] Distilacao Loss: 0.7762\n",
            "[Epoca 24] Distilacao Loss: 0.7564\n",
            "[Epoca 25] Distilacao Loss: 0.7459\n",
            "[Epoca 26] Distilacao Loss: 0.7505\n",
            "[Epoca 27] Distilacao Loss: 0.7387\n",
            "[Epoca 28] Distilacao Loss: 0.7915\n",
            "[Epoca 29] Distilacao Loss: 0.7953\n",
            "[Epoca 30] Distilacao Loss: 0.7475\n",
            "[Epoca 31] Distilacao Loss: 0.7782\n",
            "[Epoca 32] Distilacao Loss: 0.7074\n",
            "[Epoca 33] Distilacao Loss: 0.7370\n",
            "[Epoca 34] Distilacao Loss: 0.7863\n",
            "[Epoca 35] Distilacao Loss: 0.7475\n",
            "[Epoca 36] Distilacao Loss: 0.7200\n",
            "[Epoca 37] Distilacao Loss: 0.7354\n",
            "[Epoca 38] Distilacao Loss: 0.7815\n",
            "[Epoca 39] Distilacao Loss: 0.7655\n",
            "[Epoca 40] Distilacao Loss: 0.7535\n"
          ]
        }
      ]
    },
    {
      "cell_type": "code",
      "source": [
        "student_model.eval()\n",
        "all_preds = []\n",
        "all_labels = []\n",
        "textos_originais = list(x_test.reset_index(drop=True))"
      ],
      "metadata": {
        "id": "TWRcWgl1yDHv"
      },
      "execution_count": 72,
      "outputs": []
    },
    {
      "cell_type": "code",
      "source": [
        "with torch.no_grad():\n",
        "    for i, batch in enumerate(test_loader):\n",
        "        input_ids = batch[\"input_ids\"].to(device)\n",
        "        attention_mask = batch[\"attention_mask\"].to(device)\n",
        "        labels = batch[\"labels\"].to(device)\n",
        "\n",
        "        outputs = student_model(input_ids=input_ids, attention_mask=attention_mask)\n",
        "        preds = torch.argmax(F.softmax(outputs, dim=1), dim=1)\n",
        "\n",
        "        all_preds.extend(preds.cpu().tolist())\n",
        "        all_labels.extend(labels.cpu().tolist())\n",
        "\n",
        "        for j in range(len(labels)):\n",
        "            texto = textos_originais[i * test_loader.batch_size + j]\n",
        "            real_label = label_enc.inverse_transform([labels[j].cpu().item()])[0]\n",
        "            pred_label = label_enc.inverse_transform([preds[j].cpu().item()])[0]\n",
        "\n",
        "            print(f\"\\n📝 Texto: {texto}\")\n",
        "            print(f\"✅ Real: {real_label} | 🔮 Previsto: {pred_label}\")"
      ],
      "metadata": {
        "colab": {
          "base_uri": "https://localhost:8080/"
        },
        "id": "_JzSyElPyEO9",
        "outputId": "f4385289-e67a-43e0-f60e-9768044b0d7a"
      },
      "execution_count": 73,
      "outputs": [
        {
          "output_type": "stream",
          "name": "stdout",
          "text": [
            "\n",
            "📝 Texto: Organizações civis e movimentos sociais convocaram um ato nacional em resposta à violência policial registrada nos últimos meses nas periferias urbanas.\n",
            "✅ Real: protesto | 🔮 Previsto: meio_ambiente\n",
            "\n",
            "📝 Texto: O aumento dos focos de queimadas na região amazônica preocupa autoridades ambientais, que alertam para o risco de desequilíbrio ecológico e perda de biodiversidade.\n",
            "✅ Real: meio_ambiente | 🔮 Previsto: economia\n",
            "\n",
            "📝 Texto: Estudos mostram que a poluição dos rios urbanos continua crescendo, mesmo com políticas de saneamento, o que representa riscos à saúde pública e à biodiversidade aquática.\n",
            "✅ Real: meio_ambiente | 🔮 Previsto: economia\n",
            "\n",
            "📝 Texto: Milhares de manifestantes ocuparam as ruas da capital nesta tarde para protestar contra a reforma trabalhista aprovada pelo congresso nacional no mês passado.\n",
            "✅ Real: protesto | 🔮 Previsto: economia\n"
          ]
        }
      ]
    },
    {
      "cell_type": "code",
      "source": [
        "# Calcular acurácia\n",
        "acc = accuracy_score(all_labels, all_preds)\n",
        "print(f\"\\n🎯 Acurácia final do aluno: {acc:.2%}\")"
      ],
      "metadata": {
        "colab": {
          "base_uri": "https://localhost:8080/"
        },
        "id": "3LjM5Oi-yHd9",
        "outputId": "bef1065d-428f-4bb1-d4b1-02052be1ad57"
      },
      "execution_count": 34,
      "outputs": [
        {
          "output_type": "stream",
          "name": "stdout",
          "text": [
            "\n",
            "🎯 Acurácia final do aluno: 25.00%\n"
          ]
        }
      ]
    },
    {
      "cell_type": "markdown",
      "source": [
        "## Salvando o modelo"
      ],
      "metadata": {
        "id": "Ce4wDaxoySbi"
      }
    },
    {
      "cell_type": "code",
      "source": [
        "# Salvar os modelos\n",
        "torch.save(student_model.state_dict(), \"aluno_distilbert.pth\")\n",
        "torch.save(professor_model.state_dict(), \"professor_bert.pth\")\n"
      ],
      "metadata": {
        "id": "RBAkaU8uyKP4"
      },
      "execution_count": 40,
      "outputs": []
    },
    {
      "cell_type": "markdown",
      "source": [
        "## Carrega modelo"
      ],
      "metadata": {
        "id": "d78f-o4VyWH0"
      }
    },
    {
      "cell_type": "code",
      "source": [
        "student_model.load_state_dict(torch.load(\"aluno_distilbert.pth\"))\n",
        "student_model.eval()\n"
      ],
      "metadata": {
        "id": "j7IZdvBlybBf"
      },
      "execution_count": null,
      "outputs": []
    },
    {
      "cell_type": "code",
      "source": [
        "all_preds = []\n",
        "all_labels = []\n",
        "textos_originais = list(x_test.reset_index(drop=True))"
      ],
      "metadata": {
        "id": "jA_HsCLUygT9"
      },
      "execution_count": null,
      "outputs": []
    },
    {
      "cell_type": "code",
      "source": [
        "with torch.no_grad():\n",
        "    for i, batch in enumerate(test_loader):\n",
        "        input_ids = batch[\"input_ids\"].to(device)\n",
        "        attention_mask = batch[\"attention_mask\"].to(device)\n",
        "        labels = batch[\"labels\"].to(device)\n",
        "\n",
        "        outputs = student_model(input_ids=input_ids, attention_mask=attention_mask)\n",
        "        preds = torch.argmax(F.softmax(outputs, dim=1), dim=1)\n",
        "\n",
        "        all_preds.extend(preds.cpu().tolist())\n",
        "        all_labels.extend(labels.cpu().tolist())\n",
        "\n",
        "        for j in range(len(labels)):\n",
        "            texto = textos_originais[i * test_loader.batch_size + j]\n",
        "            real_label = label_enc.inverse_transform([labels[j].cpu().item()])[0]\n",
        "            pred_label = label_enc.inverse_transform([preds[j].cpu().item()])[0]\n",
        "\n",
        "            print(f\"\\n📝 Texto: {texto}\")\n",
        "            print(f\"✅ Real: {real_label} | 🔮 Previsto: {pred_label}\")"
      ],
      "metadata": {
        "id": "WojpM70UyiZv"
      },
      "execution_count": null,
      "outputs": []
    },
    {
      "cell_type": "code",
      "source": [],
      "metadata": {
        "id": "9vpyc-LREVvE"
      },
      "execution_count": null,
      "outputs": []
    },
    {
      "cell_type": "code",
      "source": [
        "import torch\n",
        "import torch.nn as nn\n",
        "import torch.nn.functional as F\n",
        "from torch.utils.data import Dataset, DataLoader\n",
        "from transformers import BertTokenizer, BertModel, DistilBertTokenizer, DistilBertModel\n",
        "from sklearn.model_selection import train_test_split\n",
        "from sklearn.preprocessing import LabelEncoder\n",
        "from sklearn.metrics import accuracy_score\n",
        "import pandas as pd"
      ],
      "metadata": {
        "id": "rDsiW5x6EoKn"
      },
      "execution_count": 3,
      "outputs": []
    },
    {
      "cell_type": "code",
      "source": [
        "# ======================= CONFIG ======================\n",
        "device = torch.device(\"cuda\" if torch.cuda.is_available() else \"cpu\")\n",
        "BATCH_SIZE = 8\n",
        "EPOCHS_PROF = 50\n",
        "EPOCHS_ALUNO = 50\n",
        "MAX_LEN = 64\n",
        "ALPHA = 0.7\n",
        "TEMPERATURA = 2.0\n",
        "\n",
        "# ======================= DATA ========================\n",
        "df = pd.read_csv(\"/content/textos_categorizados.csv\").drop_duplicates(subset=\"texto\")\n",
        "label_enc = LabelEncoder()\n",
        "df[\"label_encoded\"] = label_enc.fit_transform(df[\"label\"])\n",
        "x_train, x_test, y_train, y_test = train_test_split(df[\"texto\"], df[\"label_encoded\"], test_size=0.2, random_state=42)\n",
        "\n",
        "# Tokenização BERT\n",
        "tokenizer = BertTokenizer.from_pretrained(\"bert-base-uncased\")\n",
        "\n",
        "class BERTDataset(Dataset):\n",
        "    def __init__(self, textos, labels, tokenizer, max_len):\n",
        "        self.encodings = tokenizer(list(textos), truncation=True, padding=True, max_length=max_len, return_tensors=\"pt\")\n",
        "        self.labels = torch.tensor(labels.values)\n",
        "\n",
        "    def __len__(self):\n",
        "        return len(self.labels)\n",
        "\n",
        "    def __getitem__(self, idx):\n",
        "        item = {key: val[idx] for key, val in self.encodings.items()}\n",
        "        item['labels'] = self.labels[idx]\n",
        "        return item\n",
        "\n",
        "train_dataset = BERTDataset(x_train, y_train, tokenizer, MAX_LEN)\n",
        "test_dataset = BERTDataset(x_test, y_test, tokenizer, MAX_LEN)\n",
        "\n",
        "train_loader = DataLoader(train_dataset, batch_size=BATCH_SIZE, shuffle=True)\n",
        "test_loader = DataLoader(test_dataset, batch_size=BATCH_SIZE)\n",
        "\n"
      ],
      "metadata": {
        "id": "2qB4k_5CEWSP"
      },
      "execution_count": 7,
      "outputs": []
    },
    {
      "cell_type": "code",
      "source": [
        "# ======================= MODELOS ========================\n",
        "class BERTClassifier(nn.Module):\n",
        "    def __init__(self, num_classes):\n",
        "        super().__init__()\n",
        "        self.bert = BertModel.from_pretrained(\"bert-base-uncased\")\n",
        "        self.dropout = nn.Dropout(0.3)\n",
        "        self.fc = nn.Linear(self.bert.config.hidden_size, num_classes)\n",
        "\n",
        "    def forward(self, input_ids, attention_mask):\n",
        "        out = self.bert(input_ids=input_ids, attention_mask=attention_mask)\n",
        "        x = self.dropout(out.pooler_output)\n",
        "        return self.fc(x)\n",
        "\n",
        "class DistilBERTStudent(nn.Module):\n",
        "    def __init__(self, num_classes):\n",
        "        super().__init__()\n",
        "        self.bert = DistilBertModel.from_pretrained(\"distilbert-base-uncased\")\n",
        "        self.dropout = nn.Dropout(0.3)\n",
        "        self.fc = nn.Linear(self.bert.config.hidden_size, num_classes)\n",
        "\n",
        "    def forward(self, input_ids, attention_mask):\n",
        "        out = self.bert(input_ids=input_ids, attention_mask=attention_mask)\n",
        "        x = self.dropout(out.last_hidden_state[:, 0])\n",
        "        return self.fc(x)"
      ],
      "metadata": {
        "id": "Hbxa0eYUEkgh"
      },
      "execution_count": 8,
      "outputs": []
    },
    {
      "cell_type": "code",
      "source": [
        "# ======================= TREINAR PROFESSOR ========================\n",
        "professor = BERTClassifier(num_classes=len(label_enc.classes_)).to(device)\n",
        "optimizer = torch.optim.AdamW(professor.parameters(), lr=2e-5)\n",
        "criterion = nn.CrossEntropyLoss()\n",
        "\n",
        "print(\"\\n🔧 Treinando professor...\")\n",
        "for epoch in range(EPOCHS_PROF):\n",
        "    professor.train()\n",
        "    total_loss = 0\n",
        "    for batch in train_loader:\n",
        "        input_ids = batch[\"input_ids\"].to(device)\n",
        "        mask = batch[\"attention_mask\"].to(device)\n",
        "        labels = batch[\"labels\"].to(device)\n",
        "\n",
        "        outputs = professor(input_ids=input_ids, attention_mask=mask)\n",
        "        loss = criterion(outputs, labels)\n",
        "\n",
        "        optimizer.zero_grad()\n",
        "        loss.backward()\n",
        "        optimizer.step()\n",
        "        total_loss += loss.item()\n",
        "    print(f\"📘 Epoca {epoch+1} - Loss: {total_loss:.4f}\")"
      ],
      "metadata": {
        "colab": {
          "base_uri": "https://localhost:8080/"
        },
        "id": "bmMoM3rHE0cf",
        "outputId": "04577eee-63be-4ccd-f903-ff8c6e2956b7"
      },
      "execution_count": 9,
      "outputs": [
        {
          "output_type": "stream",
          "name": "stdout",
          "text": [
            "\n",
            "🔧 Treinando professor...\n",
            "📘 Epoca 1 - Loss: 2.7574\n",
            "📘 Epoca 2 - Loss: 2.9001\n",
            "📘 Epoca 3 - Loss: 2.6948\n",
            "📘 Epoca 4 - Loss: 2.8704\n",
            "📘 Epoca 5 - Loss: 2.6725\n",
            "📘 Epoca 6 - Loss: 2.7777\n",
            "📘 Epoca 7 - Loss: 2.8965\n",
            "📘 Epoca 8 - Loss: 2.7009\n",
            "📘 Epoca 9 - Loss: 2.6861\n",
            "📘 Epoca 10 - Loss: 2.7364\n",
            "📘 Epoca 11 - Loss: 2.7349\n",
            "📘 Epoca 12 - Loss: 2.6819\n",
            "📘 Epoca 13 - Loss: 2.4146\n",
            "📘 Epoca 14 - Loss: 2.3657\n",
            "📘 Epoca 15 - Loss: 2.2269\n",
            "📘 Epoca 16 - Loss: 2.1452\n",
            "📘 Epoca 17 - Loss: 1.9721\n",
            "📘 Epoca 18 - Loss: 2.0251\n",
            "📘 Epoca 19 - Loss: 1.5475\n",
            "📘 Epoca 20 - Loss: 1.6175\n",
            "📘 Epoca 21 - Loss: 1.5031\n",
            "📘 Epoca 22 - Loss: 1.4128\n",
            "📘 Epoca 23 - Loss: 1.1822\n",
            "📘 Epoca 24 - Loss: 1.1494\n",
            "📘 Epoca 25 - Loss: 0.9942\n",
            "📘 Epoca 26 - Loss: 0.9995\n",
            "📘 Epoca 27 - Loss: 0.8305\n",
            "📘 Epoca 28 - Loss: 0.8068\n",
            "📘 Epoca 29 - Loss: 0.6562\n",
            "📘 Epoca 30 - Loss: 0.5472\n",
            "📘 Epoca 31 - Loss: 0.5273\n",
            "📘 Epoca 32 - Loss: 0.4512\n",
            "📘 Epoca 33 - Loss: 0.4916\n",
            "📘 Epoca 34 - Loss: 0.3441\n",
            "📘 Epoca 35 - Loss: 0.2985\n",
            "📘 Epoca 36 - Loss: 0.3447\n",
            "📘 Epoca 37 - Loss: 0.2637\n",
            "📘 Epoca 38 - Loss: 0.2189\n",
            "📘 Epoca 39 - Loss: 0.2174\n",
            "📘 Epoca 40 - Loss: 0.1984\n",
            "📘 Epoca 41 - Loss: 0.1713\n",
            "📘 Epoca 42 - Loss: 0.1668\n",
            "📘 Epoca 43 - Loss: 0.1402\n",
            "📘 Epoca 44 - Loss: 0.1438\n",
            "📘 Epoca 45 - Loss: 0.1310\n",
            "📘 Epoca 46 - Loss: 0.1090\n",
            "📘 Epoca 47 - Loss: 0.1171\n",
            "📘 Epoca 48 - Loss: 0.0998\n",
            "📘 Epoca 49 - Loss: 0.1071\n",
            "📘 Epoca 50 - Loss: 0.1039\n"
          ]
        }
      ]
    },
    {
      "cell_type": "code",
      "source": [
        "# ======================= TREINAR ALUNO COM DESTILAÇÃO ========================\n",
        "aluno = DistilBERTStudent(num_classes=len(label_enc.classes_)).to(device)\n",
        "optimizer_aluno = torch.optim.AdamW(aluno.parameters(), lr=3e-5)\n",
        "\n",
        "def distillation_loss(student_logits, teacher_logits, true_labels, T=2.0, alpha=0.7):\n",
        "    soft_teacher = F.softmax(teacher_logits / T, dim=1)\n",
        "    log_student = F.log_softmax(student_logits / T, dim=1)\n",
        "    loss_soft = F.kl_div(log_student, soft_teacher, reduction=\"batchmean\") * (T ** 2)\n",
        "    loss_hard = F.cross_entropy(student_logits, true_labels)\n",
        "    return alpha * loss_hard + (1 - alpha) * loss_soft\n",
        "\n",
        "print(\"\\n🎓 Treinando aluno com distilação...\")\n",
        "professor.eval()  # Desliga gradientes do professor\n",
        "for epoca in range(EPOCHS_ALUNO):\n",
        "    aluno.train()\n",
        "    total_loss = 0\n",
        "    for batch in train_loader:\n",
        "        input_ids = batch[\"input_ids\"].to(device)\n",
        "        mask = batch[\"attention_mask\"].to(device)\n",
        "        labels = batch[\"labels\"].to(device)\n",
        "\n",
        "        with torch.no_grad():\n",
        "            teacher_logits = professor(input_ids=input_ids, attention_mask=mask)\n",
        "\n",
        "        student_logits = aluno(input_ids=input_ids, attention_mask=mask)\n",
        "        loss = distillation_loss(student_logits, teacher_logits, labels, T=TEMPERATURA, alpha=ALPHA)\n",
        "\n",
        "        optimizer_aluno.zero_grad()\n",
        "        loss.backward()\n",
        "        optimizer_aluno.step()\n",
        "        total_loss += loss.item()\n",
        "    print(f\"🎯 Epoca {epoca+1} - Distilação Loss: {total_loss:.4f}\")"
      ],
      "metadata": {
        "colab": {
          "base_uri": "https://localhost:8080/",
          "height": 1000,
          "referenced_widgets": [
            "b213f8e396194f30b6f17473de9e5333",
            "40a95582708b44a8a56fda69cd4b65d5",
            "357337ac97124a16b0179dce208a189d",
            "6f1d9aa42d7746ae81839890425e54ea",
            "72b028adeb5b4996a691bd6a273a9a50",
            "c80aa8a6d38e48b38a20826803b0b2e7",
            "121c658f9d6841c98dd812bb15a92564",
            "6da1a9d9e4744fd3b7fa78bb3eda78ce",
            "9c536e7af6eb4ff690581c45a26c11ae",
            "77f9cbaa824a434db7a9c98a0a02bb84",
            "5abee95fa7c84f85a1351e250bd35448",
            "483ba60d036c49f182d846c7216afccb",
            "96533a54a1f945deb1f8e0e4c4305462",
            "86182ac7db3544978fdbf8e4014f48b1",
            "5338d75bd66a4f62b03370ca08f8f388",
            "34313aa076b24d249ae966941d4263c7",
            "ade43ab89e004363bbcfe77b0e9c8602",
            "756a1ecf1c1c495c97b52ed86b0aea60",
            "144f8ad30ab74fb2a4c2c80ad644a67e",
            "f10d9f488cd94be58ed077e8d6b59aa1",
            "d505cb0fe4a04ddaa2e74f3422727c60",
            "6a3fd23a46f54b59accf628f59dc223b"
          ]
        },
        "id": "iVlrBOFCFPbd",
        "outputId": "c49cc795-f0a2-4d81-835e-964c18996ca0"
      },
      "execution_count": 10,
      "outputs": [
        {
          "output_type": "display_data",
          "data": {
            "text/plain": [
              "config.json:   0%|          | 0.00/483 [00:00<?, ?B/s]"
            ],
            "application/vnd.jupyter.widget-view+json": {
              "version_major": 2,
              "version_minor": 0,
              "model_id": "b213f8e396194f30b6f17473de9e5333"
            }
          },
          "metadata": {}
        },
        {
          "output_type": "stream",
          "name": "stderr",
          "text": [
            "Xet Storage is enabled for this repo, but the 'hf_xet' package is not installed. Falling back to regular HTTP download. For better performance, install the package with: `pip install huggingface_hub[hf_xet]` or `pip install hf_xet`\n",
            "WARNING:huggingface_hub.file_download:Xet Storage is enabled for this repo, but the 'hf_xet' package is not installed. Falling back to regular HTTP download. For better performance, install the package with: `pip install huggingface_hub[hf_xet]` or `pip install hf_xet`\n"
          ]
        },
        {
          "output_type": "display_data",
          "data": {
            "text/plain": [
              "model.safetensors:   0%|          | 0.00/268M [00:00<?, ?B/s]"
            ],
            "application/vnd.jupyter.widget-view+json": {
              "version_major": 2,
              "version_minor": 0,
              "model_id": "483ba60d036c49f182d846c7216afccb"
            }
          },
          "metadata": {}
        },
        {
          "output_type": "stream",
          "name": "stdout",
          "text": [
            "\n",
            "🎓 Treinando aluno com distilação...\n",
            "🎯 Epoch 1 - Distillation Loss: 3.8061\n",
            "🎯 Epoch 2 - Distillation Loss: 3.2270\n",
            "🎯 Epoch 3 - Distillation Loss: 3.1382\n",
            "🎯 Epoch 4 - Distillation Loss: 3.0860\n",
            "🎯 Epoch 5 - Distillation Loss: 3.0247\n",
            "🎯 Epoch 6 - Distillation Loss: 3.0320\n",
            "🎯 Epoch 7 - Distillation Loss: 2.8187\n",
            "🎯 Epoch 8 - Distillation Loss: 2.6221\n",
            "🎯 Epoch 9 - Distillation Loss: 2.4761\n",
            "🎯 Epoch 10 - Distillation Loss: 2.1060\n",
            "🎯 Epoch 11 - Distillation Loss: 1.5790\n",
            "🎯 Epoch 12 - Distillation Loss: 1.4014\n",
            "🎯 Epoch 13 - Distillation Loss: 1.2687\n",
            "🎯 Epoch 14 - Distillation Loss: 0.8073\n",
            "🎯 Epoch 15 - Distillation Loss: 0.5931\n",
            "🎯 Epoch 16 - Distillation Loss: 0.4758\n",
            "🎯 Epoch 17 - Distillation Loss: 0.3099\n",
            "🎯 Epoch 18 - Distillation Loss: 0.2001\n",
            "🎯 Epoch 19 - Distillation Loss: 0.1873\n",
            "🎯 Epoch 20 - Distillation Loss: 0.0993\n",
            "🎯 Epoch 21 - Distillation Loss: 0.0832\n",
            "🎯 Epoch 22 - Distillation Loss: 0.0637\n",
            "🎯 Epoch 23 - Distillation Loss: 0.0633\n",
            "🎯 Epoch 24 - Distillation Loss: 0.0695\n",
            "🎯 Epoch 25 - Distillation Loss: 0.0810\n",
            "🎯 Epoch 26 - Distillation Loss: 0.0624\n",
            "🎯 Epoch 27 - Distillation Loss: 0.0548\n",
            "🎯 Epoch 28 - Distillation Loss: 0.0589\n",
            "🎯 Epoch 29 - Distillation Loss: 0.0608\n",
            "🎯 Epoch 30 - Distillation Loss: 0.0654\n",
            "🎯 Epoch 31 - Distillation Loss: 0.0498\n",
            "🎯 Epoch 32 - Distillation Loss: 0.0547\n",
            "🎯 Epoch 33 - Distillation Loss: 0.0595\n",
            "🎯 Epoch 34 - Distillation Loss: 0.0590\n",
            "🎯 Epoch 35 - Distillation Loss: 0.0511\n",
            "🎯 Epoch 36 - Distillation Loss: 0.0554\n",
            "🎯 Epoch 37 - Distillation Loss: 0.0509\n",
            "🎯 Epoch 38 - Distillation Loss: 0.0485\n",
            "🎯 Epoch 39 - Distillation Loss: 0.0488\n",
            "🎯 Epoch 40 - Distillation Loss: 0.0532\n",
            "🎯 Epoch 41 - Distillation Loss: 0.0470\n",
            "🎯 Epoch 42 - Distillation Loss: 0.0613\n",
            "🎯 Epoch 43 - Distillation Loss: 0.0511\n",
            "🎯 Epoch 44 - Distillation Loss: 0.0523\n",
            "🎯 Epoch 45 - Distillation Loss: 0.0545\n",
            "🎯 Epoch 46 - Distillation Loss: 0.0524\n",
            "🎯 Epoch 47 - Distillation Loss: 0.0554\n",
            "🎯 Epoch 48 - Distillation Loss: 0.0583\n",
            "🎯 Epoch 49 - Distillation Loss: 0.0504\n",
            "🎯 Epoch 50 - Distillation Loss: 0.0628\n"
          ]
        }
      ]
    },
    {
      "cell_type": "code",
      "source": [
        "# ======================= AVALIAÇÃO ========================\n",
        "aluno.eval()\n",
        "all_preds, all_labels = [], []\n",
        "textos_originais = list(x_test.reset_index(drop=True))\n",
        "\n",
        "with torch.no_grad():\n",
        "    for i, batch in enumerate(test_loader):\n",
        "        input_ids = batch[\"input_ids\"].to(device)\n",
        "        mask = batch[\"attention_mask\"].to(device)\n",
        "        labels = batch[\"labels\"].to(device)\n",
        "\n",
        "        outputs = aluno(input_ids=input_ids, attention_mask=mask)\n",
        "        preds = torch.argmax(F.softmax(outputs, dim=1), dim=1)\n",
        "\n",
        "        all_preds.extend(preds.cpu().tolist())\n",
        "        all_labels.extend(labels.cpu().tolist())\n",
        "\n",
        "        for j in range(len(labels)):\n",
        "            texto = textos_originais[i * BATCH_SIZE + j]\n",
        "            real = label_enc.inverse_transform([labels[j].cpu().item()])[0]\n",
        "            pred = label_enc.inverse_transform([preds[j].cpu().item()])[0]\n",
        "            print(f\"\\n📝 Texto: {texto}\")\n",
        "            print(f\"✅ Real: {real} | 🔮 Previsto: {pred}\")\n",
        "\n",
        "acc = accuracy_score(all_labels, all_preds)\n",
        "print(f\"\\n✅ Acurácia final do aluno: {acc:.2%}\")\n"
      ],
      "metadata": {
        "colab": {
          "base_uri": "https://localhost:8080/"
        },
        "id": "bxK1bZu9EhxG",
        "outputId": "731db838-1592-4a37-907d-e55de13ddef2"
      },
      "execution_count": 11,
      "outputs": [
        {
          "output_type": "stream",
          "name": "stdout",
          "text": [
            "\n",
            "📝 Texto: Organizações civis e movimentos sociais convocaram um ato nacional em resposta à violência policial registrada nos últimos meses nas periferias urbanas.\n",
            "✅ Real: protesto | 🔮 Previsto: meio_ambiente\n",
            "\n",
            "📝 Texto: O aumento dos focos de queimadas na região amazônica preocupa autoridades ambientais, que alertam para o risco de desequilíbrio ecológico e perda de biodiversidade.\n",
            "✅ Real: meio_ambiente | 🔮 Previsto: meio_ambiente\n",
            "\n",
            "📝 Texto: Estudos mostram que a poluição dos rios urbanos continua crescendo, mesmo com políticas de saneamento, o que representa riscos à saúde pública e à biodiversidade aquática.\n",
            "✅ Real: meio_ambiente | 🔮 Previsto: protesto\n",
            "\n",
            "📝 Texto: Milhares de manifestantes ocuparam as ruas da capital nesta tarde para protestar contra a reforma trabalhista aprovada pelo congresso nacional no mês passado.\n",
            "✅ Real: protesto | 🔮 Previsto: economia\n",
            "\n",
            "✅ Acurácia final do aluno: 25.00%\n"
          ]
        }
      ]
    },
    {
      "cell_type": "code",
      "source": [
        "# ======================= AVALIAÇÃO DO PROFESSOR ========================\n",
        "professor.eval()\n",
        "all_preds_professor, all_labels_professor = [], []\n",
        "\n",
        "print(\"\\n🧑‍🏫 Avaliação do professor:\")\n",
        "\n",
        "with torch.no_grad():\n",
        "    for i, batch in enumerate(test_loader):\n",
        "        input_ids = batch[\"input_ids\"].to(device)\n",
        "        mask = batch[\"attention_mask\"].to(device)\n",
        "        labels = batch[\"labels\"].to(device)\n",
        "\n",
        "        outputs = professor(input_ids=input_ids, attention_mask=mask)\n",
        "        preds = torch.argmax(F.softmax(outputs, dim=1), dim=1)\n",
        "\n",
        "        all_preds_professor.extend(preds.cpu().tolist())\n",
        "        all_labels_professor.extend(labels.cpu().tolist())\n",
        "\n",
        "        for j in range(len(labels)):\n",
        "            texto = textos_originais[i * BATCH_SIZE + j]\n",
        "            real = label_enc.inverse_transform([labels[j].cpu().item()])[0]\n",
        "            pred = label_enc.inverse_transform([preds[j].cpu().item()])[0]\n",
        "            print(f\"\\n📘 Texto: {texto}\")\n",
        "            print(f\"✅ Real: {real} | 🧑‍🏫 Previsto (Professor): {pred}\")\n",
        "\n",
        "acc_prof = accuracy_score(all_labels_professor, all_preds_professor)\n",
        "print(f\"\\n🎯 Acurácia final do professor: {acc_prof:.2%}\")\n"
      ],
      "metadata": {
        "colab": {
          "base_uri": "https://localhost:8080/"
        },
        "id": "3Bj_TDNUJnHn",
        "outputId": "5a9ea629-82e5-415d-b2b2-03429739270d"
      },
      "execution_count": 35,
      "outputs": [
        {
          "output_type": "stream",
          "name": "stdout",
          "text": [
            "\n",
            "🧑‍🏫 Avaliação do professor:\n",
            "\n",
            "📘 Texto: Organizações civis e movimentos sociais convocaram um ato nacional em resposta à violência policial registrada nos últimos meses nas periferias urbanas.\n",
            "✅ Real: protesto | 🧑‍🏫 Previsto (Professor): educacao\n",
            "\n",
            "📘 Texto: O aumento dos focos de queimadas na região amazônica preocupa autoridades ambientais, que alertam para o risco de desequilíbrio ecológico e perda de biodiversidade.\n",
            "✅ Real: meio_ambiente | 🧑‍🏫 Previsto (Professor): meio_ambiente\n",
            "\n",
            "📘 Texto: Estudos mostram que a poluição dos rios urbanos continua crescendo, mesmo com políticas de saneamento, o que representa riscos à saúde pública e à biodiversidade aquática.\n",
            "✅ Real: meio_ambiente | 🧑‍🏫 Previsto (Professor): meio_ambiente\n",
            "\n",
            "📘 Texto: Milhares de manifestantes ocuparam as ruas da capital nesta tarde para protestar contra a reforma trabalhista aprovada pelo congresso nacional no mês passado.\n",
            "✅ Real: protesto | 🧑‍🏫 Previsto (Professor): protesto\n",
            "\n",
            "🎯 Acurácia final do professor: 75.00%\n"
          ]
        }
      ]
    },
    {
      "cell_type": "markdown",
      "source": [
        "## Realizando aprendizado por extração de feature e comparando com Fine tune"
      ],
      "metadata": {
        "id": "MtBY9XnMLeud"
      }
    },
    {
      "cell_type": "code",
      "source": [
        "import torch\n",
        "import torch.nn as nn\n",
        "import torch.nn.functional as F\n",
        "from torch.utils.data import Dataset, DataLoader\n",
        "from transformers import BertTokenizer, BertModel\n",
        "from sklearn.model_selection import train_test_split\n",
        "from sklearn.preprocessing import LabelEncoder\n",
        "from sklearn.metrics import accuracy_score\n",
        "import pandas as pd"
      ],
      "metadata": {
        "id": "io-duoCtM08w"
      },
      "execution_count": 39,
      "outputs": []
    },
    {
      "cell_type": "code",
      "source": [
        "# ============ CONFIG =============\n",
        "device = torch.device(\"cuda\" if torch.cuda.is_available() else \"cpu\")\n",
        "MAX_LEN = 64\n",
        "BATCH_SIZE = 8\n",
        "EPOCHS = 50"
      ],
      "metadata": {
        "id": "tN9qO3AYM23d"
      },
      "execution_count": 55,
      "outputs": []
    },
    {
      "cell_type": "code",
      "source": [
        "df = pd.read_csv(\"/content/textos_categorizados.csv\").drop_duplicates(subset=\"texto\")\n",
        "df"
      ],
      "metadata": {
        "colab": {
          "base_uri": "https://localhost:8080/",
          "height": 677
        },
        "id": "5QNaTs-AM6kv",
        "outputId": "c7f66d94-d4d8-4c67-cecc-250a398c6dc8"
      },
      "execution_count": 56,
      "outputs": [
        {
          "output_type": "execute_result",
          "data": {
            "text/plain": [
              "                                                texto          label\n",
              "0   Organizações civis e movimentos sociais convoc...       protesto\n",
              "1   Milhares de manifestantes ocuparam as ruas da ...       protesto\n",
              "4   Protestos se intensificaram após o aumento no ...       protesto\n",
              "10  Integrantes de diversos sindicatos realizaram ...       protesto\n",
              "13  Estudantes de várias universidades públicas or...       protesto\n",
              "25  O relatório do Banco Central apontou crescimen...       economia\n",
              "27  A inflação do mês de março apresentou uma leve...       economia\n",
              "28  Analistas financeiros revisaram as projeções d...       economia\n",
              "29  A taxa básica de juros foi reduzida pelo Comit...       economia\n",
              "35  A bolsa de valores fechou o pregão com alta de...       economia\n",
              "50  Universidades federais ampliaram a oferta de c...       educacao\n",
              "51  Uma nova lei aprovada no congresso estabelece ...       educacao\n",
              "54  Estudantes de diferentes estados participaram ...       educacao\n",
              "57  O Ministério da Educação lançou um programa de...       educacao\n",
              "66  Professores da educação básica participaram de...       educacao\n",
              "75  Estudos mostram que a poluição dos rios urbano...  meio_ambiente\n",
              "77  Organizações não-governamentais iniciaram um p...  meio_ambiente\n",
              "78  O aumento dos focos de queimadas na região ama...  meio_ambiente\n",
              "79  A conferência internacional sobre mudanças cli...  meio_ambiente\n",
              "82  Pesquisadores divulgaram um relatório que most...  meio_ambiente"
            ],
            "text/html": [
              "\n",
              "  <div id=\"df-acea4d6d-28b2-48ae-86d4-0a20752067e5\" class=\"colab-df-container\">\n",
              "    <div>\n",
              "<style scoped>\n",
              "    .dataframe tbody tr th:only-of-type {\n",
              "        vertical-align: middle;\n",
              "    }\n",
              "\n",
              "    .dataframe tbody tr th {\n",
              "        vertical-align: top;\n",
              "    }\n",
              "\n",
              "    .dataframe thead th {\n",
              "        text-align: right;\n",
              "    }\n",
              "</style>\n",
              "<table border=\"1\" class=\"dataframe\">\n",
              "  <thead>\n",
              "    <tr style=\"text-align: right;\">\n",
              "      <th></th>\n",
              "      <th>texto</th>\n",
              "      <th>label</th>\n",
              "    </tr>\n",
              "  </thead>\n",
              "  <tbody>\n",
              "    <tr>\n",
              "      <th>0</th>\n",
              "      <td>Organizações civis e movimentos sociais convoc...</td>\n",
              "      <td>protesto</td>\n",
              "    </tr>\n",
              "    <tr>\n",
              "      <th>1</th>\n",
              "      <td>Milhares de manifestantes ocuparam as ruas da ...</td>\n",
              "      <td>protesto</td>\n",
              "    </tr>\n",
              "    <tr>\n",
              "      <th>4</th>\n",
              "      <td>Protestos se intensificaram após o aumento no ...</td>\n",
              "      <td>protesto</td>\n",
              "    </tr>\n",
              "    <tr>\n",
              "      <th>10</th>\n",
              "      <td>Integrantes de diversos sindicatos realizaram ...</td>\n",
              "      <td>protesto</td>\n",
              "    </tr>\n",
              "    <tr>\n",
              "      <th>13</th>\n",
              "      <td>Estudantes de várias universidades públicas or...</td>\n",
              "      <td>protesto</td>\n",
              "    </tr>\n",
              "    <tr>\n",
              "      <th>25</th>\n",
              "      <td>O relatório do Banco Central apontou crescimen...</td>\n",
              "      <td>economia</td>\n",
              "    </tr>\n",
              "    <tr>\n",
              "      <th>27</th>\n",
              "      <td>A inflação do mês de março apresentou uma leve...</td>\n",
              "      <td>economia</td>\n",
              "    </tr>\n",
              "    <tr>\n",
              "      <th>28</th>\n",
              "      <td>Analistas financeiros revisaram as projeções d...</td>\n",
              "      <td>economia</td>\n",
              "    </tr>\n",
              "    <tr>\n",
              "      <th>29</th>\n",
              "      <td>A taxa básica de juros foi reduzida pelo Comit...</td>\n",
              "      <td>economia</td>\n",
              "    </tr>\n",
              "    <tr>\n",
              "      <th>35</th>\n",
              "      <td>A bolsa de valores fechou o pregão com alta de...</td>\n",
              "      <td>economia</td>\n",
              "    </tr>\n",
              "    <tr>\n",
              "      <th>50</th>\n",
              "      <td>Universidades federais ampliaram a oferta de c...</td>\n",
              "      <td>educacao</td>\n",
              "    </tr>\n",
              "    <tr>\n",
              "      <th>51</th>\n",
              "      <td>Uma nova lei aprovada no congresso estabelece ...</td>\n",
              "      <td>educacao</td>\n",
              "    </tr>\n",
              "    <tr>\n",
              "      <th>54</th>\n",
              "      <td>Estudantes de diferentes estados participaram ...</td>\n",
              "      <td>educacao</td>\n",
              "    </tr>\n",
              "    <tr>\n",
              "      <th>57</th>\n",
              "      <td>O Ministério da Educação lançou um programa de...</td>\n",
              "      <td>educacao</td>\n",
              "    </tr>\n",
              "    <tr>\n",
              "      <th>66</th>\n",
              "      <td>Professores da educação básica participaram de...</td>\n",
              "      <td>educacao</td>\n",
              "    </tr>\n",
              "    <tr>\n",
              "      <th>75</th>\n",
              "      <td>Estudos mostram que a poluição dos rios urbano...</td>\n",
              "      <td>meio_ambiente</td>\n",
              "    </tr>\n",
              "    <tr>\n",
              "      <th>77</th>\n",
              "      <td>Organizações não-governamentais iniciaram um p...</td>\n",
              "      <td>meio_ambiente</td>\n",
              "    </tr>\n",
              "    <tr>\n",
              "      <th>78</th>\n",
              "      <td>O aumento dos focos de queimadas na região ama...</td>\n",
              "      <td>meio_ambiente</td>\n",
              "    </tr>\n",
              "    <tr>\n",
              "      <th>79</th>\n",
              "      <td>A conferência internacional sobre mudanças cli...</td>\n",
              "      <td>meio_ambiente</td>\n",
              "    </tr>\n",
              "    <tr>\n",
              "      <th>82</th>\n",
              "      <td>Pesquisadores divulgaram um relatório que most...</td>\n",
              "      <td>meio_ambiente</td>\n",
              "    </tr>\n",
              "  </tbody>\n",
              "</table>\n",
              "</div>\n",
              "    <div class=\"colab-df-buttons\">\n",
              "\n",
              "  <div class=\"colab-df-container\">\n",
              "    <button class=\"colab-df-convert\" onclick=\"convertToInteractive('df-acea4d6d-28b2-48ae-86d4-0a20752067e5')\"\n",
              "            title=\"Convert this dataframe to an interactive table.\"\n",
              "            style=\"display:none;\">\n",
              "\n",
              "  <svg xmlns=\"http://www.w3.org/2000/svg\" height=\"24px\" viewBox=\"0 -960 960 960\">\n",
              "    <path d=\"M120-120v-720h720v720H120Zm60-500h600v-160H180v160Zm220 220h160v-160H400v160Zm0 220h160v-160H400v160ZM180-400h160v-160H180v160Zm440 0h160v-160H620v160ZM180-180h160v-160H180v160Zm440 0h160v-160H620v160Z\"/>\n",
              "  </svg>\n",
              "    </button>\n",
              "\n",
              "  <style>\n",
              "    .colab-df-container {\n",
              "      display:flex;\n",
              "      gap: 12px;\n",
              "    }\n",
              "\n",
              "    .colab-df-convert {\n",
              "      background-color: #E8F0FE;\n",
              "      border: none;\n",
              "      border-radius: 50%;\n",
              "      cursor: pointer;\n",
              "      display: none;\n",
              "      fill: #1967D2;\n",
              "      height: 32px;\n",
              "      padding: 0 0 0 0;\n",
              "      width: 32px;\n",
              "    }\n",
              "\n",
              "    .colab-df-convert:hover {\n",
              "      background-color: #E2EBFA;\n",
              "      box-shadow: 0px 1px 2px rgba(60, 64, 67, 0.3), 0px 1px 3px 1px rgba(60, 64, 67, 0.15);\n",
              "      fill: #174EA6;\n",
              "    }\n",
              "\n",
              "    .colab-df-buttons div {\n",
              "      margin-bottom: 4px;\n",
              "    }\n",
              "\n",
              "    [theme=dark] .colab-df-convert {\n",
              "      background-color: #3B4455;\n",
              "      fill: #D2E3FC;\n",
              "    }\n",
              "\n",
              "    [theme=dark] .colab-df-convert:hover {\n",
              "      background-color: #434B5C;\n",
              "      box-shadow: 0px 1px 3px 1px rgba(0, 0, 0, 0.15);\n",
              "      filter: drop-shadow(0px 1px 2px rgba(0, 0, 0, 0.3));\n",
              "      fill: #FFFFFF;\n",
              "    }\n",
              "  </style>\n",
              "\n",
              "    <script>\n",
              "      const buttonEl =\n",
              "        document.querySelector('#df-acea4d6d-28b2-48ae-86d4-0a20752067e5 button.colab-df-convert');\n",
              "      buttonEl.style.display =\n",
              "        google.colab.kernel.accessAllowed ? 'block' : 'none';\n",
              "\n",
              "      async function convertToInteractive(key) {\n",
              "        const element = document.querySelector('#df-acea4d6d-28b2-48ae-86d4-0a20752067e5');\n",
              "        const dataTable =\n",
              "          await google.colab.kernel.invokeFunction('convertToInteractive',\n",
              "                                                    [key], {});\n",
              "        if (!dataTable) return;\n",
              "\n",
              "        const docLinkHtml = 'Like what you see? Visit the ' +\n",
              "          '<a target=\"_blank\" href=https://colab.research.google.com/notebooks/data_table.ipynb>data table notebook</a>'\n",
              "          + ' to learn more about interactive tables.';\n",
              "        element.innerHTML = '';\n",
              "        dataTable['output_type'] = 'display_data';\n",
              "        await google.colab.output.renderOutput(dataTable, element);\n",
              "        const docLink = document.createElement('div');\n",
              "        docLink.innerHTML = docLinkHtml;\n",
              "        element.appendChild(docLink);\n",
              "      }\n",
              "    </script>\n",
              "  </div>\n",
              "\n",
              "\n",
              "<div id=\"df-1e7d96d6-7239-4795-8cca-c5f8cb69fe8a\">\n",
              "  <button class=\"colab-df-quickchart\" onclick=\"quickchart('df-1e7d96d6-7239-4795-8cca-c5f8cb69fe8a')\"\n",
              "            title=\"Suggest charts\"\n",
              "            style=\"display:none;\">\n",
              "\n",
              "<svg xmlns=\"http://www.w3.org/2000/svg\" height=\"24px\"viewBox=\"0 0 24 24\"\n",
              "     width=\"24px\">\n",
              "    <g>\n",
              "        <path d=\"M19 3H5c-1.1 0-2 .9-2 2v14c0 1.1.9 2 2 2h14c1.1 0 2-.9 2-2V5c0-1.1-.9-2-2-2zM9 17H7v-7h2v7zm4 0h-2V7h2v10zm4 0h-2v-4h2v4z\"/>\n",
              "    </g>\n",
              "</svg>\n",
              "  </button>\n",
              "\n",
              "<style>\n",
              "  .colab-df-quickchart {\n",
              "      --bg-color: #E8F0FE;\n",
              "      --fill-color: #1967D2;\n",
              "      --hover-bg-color: #E2EBFA;\n",
              "      --hover-fill-color: #174EA6;\n",
              "      --disabled-fill-color: #AAA;\n",
              "      --disabled-bg-color: #DDD;\n",
              "  }\n",
              "\n",
              "  [theme=dark] .colab-df-quickchart {\n",
              "      --bg-color: #3B4455;\n",
              "      --fill-color: #D2E3FC;\n",
              "      --hover-bg-color: #434B5C;\n",
              "      --hover-fill-color: #FFFFFF;\n",
              "      --disabled-bg-color: #3B4455;\n",
              "      --disabled-fill-color: #666;\n",
              "  }\n",
              "\n",
              "  .colab-df-quickchart {\n",
              "    background-color: var(--bg-color);\n",
              "    border: none;\n",
              "    border-radius: 50%;\n",
              "    cursor: pointer;\n",
              "    display: none;\n",
              "    fill: var(--fill-color);\n",
              "    height: 32px;\n",
              "    padding: 0;\n",
              "    width: 32px;\n",
              "  }\n",
              "\n",
              "  .colab-df-quickchart:hover {\n",
              "    background-color: var(--hover-bg-color);\n",
              "    box-shadow: 0 1px 2px rgba(60, 64, 67, 0.3), 0 1px 3px 1px rgba(60, 64, 67, 0.15);\n",
              "    fill: var(--button-hover-fill-color);\n",
              "  }\n",
              "\n",
              "  .colab-df-quickchart-complete:disabled,\n",
              "  .colab-df-quickchart-complete:disabled:hover {\n",
              "    background-color: var(--disabled-bg-color);\n",
              "    fill: var(--disabled-fill-color);\n",
              "    box-shadow: none;\n",
              "  }\n",
              "\n",
              "  .colab-df-spinner {\n",
              "    border: 2px solid var(--fill-color);\n",
              "    border-color: transparent;\n",
              "    border-bottom-color: var(--fill-color);\n",
              "    animation:\n",
              "      spin 1s steps(1) infinite;\n",
              "  }\n",
              "\n",
              "  @keyframes spin {\n",
              "    0% {\n",
              "      border-color: transparent;\n",
              "      border-bottom-color: var(--fill-color);\n",
              "      border-left-color: var(--fill-color);\n",
              "    }\n",
              "    20% {\n",
              "      border-color: transparent;\n",
              "      border-left-color: var(--fill-color);\n",
              "      border-top-color: var(--fill-color);\n",
              "    }\n",
              "    30% {\n",
              "      border-color: transparent;\n",
              "      border-left-color: var(--fill-color);\n",
              "      border-top-color: var(--fill-color);\n",
              "      border-right-color: var(--fill-color);\n",
              "    }\n",
              "    40% {\n",
              "      border-color: transparent;\n",
              "      border-right-color: var(--fill-color);\n",
              "      border-top-color: var(--fill-color);\n",
              "    }\n",
              "    60% {\n",
              "      border-color: transparent;\n",
              "      border-right-color: var(--fill-color);\n",
              "    }\n",
              "    80% {\n",
              "      border-color: transparent;\n",
              "      border-right-color: var(--fill-color);\n",
              "      border-bottom-color: var(--fill-color);\n",
              "    }\n",
              "    90% {\n",
              "      border-color: transparent;\n",
              "      border-bottom-color: var(--fill-color);\n",
              "    }\n",
              "  }\n",
              "</style>\n",
              "\n",
              "  <script>\n",
              "    async function quickchart(key) {\n",
              "      const quickchartButtonEl =\n",
              "        document.querySelector('#' + key + ' button');\n",
              "      quickchartButtonEl.disabled = true;  // To prevent multiple clicks.\n",
              "      quickchartButtonEl.classList.add('colab-df-spinner');\n",
              "      try {\n",
              "        const charts = await google.colab.kernel.invokeFunction(\n",
              "            'suggestCharts', [key], {});\n",
              "      } catch (error) {\n",
              "        console.error('Error during call to suggestCharts:', error);\n",
              "      }\n",
              "      quickchartButtonEl.classList.remove('colab-df-spinner');\n",
              "      quickchartButtonEl.classList.add('colab-df-quickchart-complete');\n",
              "    }\n",
              "    (() => {\n",
              "      let quickchartButtonEl =\n",
              "        document.querySelector('#df-1e7d96d6-7239-4795-8cca-c5f8cb69fe8a button');\n",
              "      quickchartButtonEl.style.display =\n",
              "        google.colab.kernel.accessAllowed ? 'block' : 'none';\n",
              "    })();\n",
              "  </script>\n",
              "</div>\n",
              "\n",
              "  <div id=\"id_7f530369-5b08-421c-ac69-653f44f2b5ec\">\n",
              "    <style>\n",
              "      .colab-df-generate {\n",
              "        background-color: #E8F0FE;\n",
              "        border: none;\n",
              "        border-radius: 50%;\n",
              "        cursor: pointer;\n",
              "        display: none;\n",
              "        fill: #1967D2;\n",
              "        height: 32px;\n",
              "        padding: 0 0 0 0;\n",
              "        width: 32px;\n",
              "      }\n",
              "\n",
              "      .colab-df-generate:hover {\n",
              "        background-color: #E2EBFA;\n",
              "        box-shadow: 0px 1px 2px rgba(60, 64, 67, 0.3), 0px 1px 3px 1px rgba(60, 64, 67, 0.15);\n",
              "        fill: #174EA6;\n",
              "      }\n",
              "\n",
              "      [theme=dark] .colab-df-generate {\n",
              "        background-color: #3B4455;\n",
              "        fill: #D2E3FC;\n",
              "      }\n",
              "\n",
              "      [theme=dark] .colab-df-generate:hover {\n",
              "        background-color: #434B5C;\n",
              "        box-shadow: 0px 1px 3px 1px rgba(0, 0, 0, 0.15);\n",
              "        filter: drop-shadow(0px 1px 2px rgba(0, 0, 0, 0.3));\n",
              "        fill: #FFFFFF;\n",
              "      }\n",
              "    </style>\n",
              "    <button class=\"colab-df-generate\" onclick=\"generateWithVariable('df')\"\n",
              "            title=\"Generate code using this dataframe.\"\n",
              "            style=\"display:none;\">\n",
              "\n",
              "  <svg xmlns=\"http://www.w3.org/2000/svg\" height=\"24px\"viewBox=\"0 0 24 24\"\n",
              "       width=\"24px\">\n",
              "    <path d=\"M7,19H8.4L18.45,9,17,7.55,7,17.6ZM5,21V16.75L18.45,3.32a2,2,0,0,1,2.83,0l1.4,1.43a1.91,1.91,0,0,1,.58,1.4,1.91,1.91,0,0,1-.58,1.4L9.25,21ZM18.45,9,17,7.55Zm-12,3A5.31,5.31,0,0,0,4.9,8.1,5.31,5.31,0,0,0,1,6.5,5.31,5.31,0,0,0,4.9,4.9,5.31,5.31,0,0,0,6.5,1,5.31,5.31,0,0,0,8.1,4.9,5.31,5.31,0,0,0,12,6.5,5.46,5.46,0,0,0,6.5,12Z\"/>\n",
              "  </svg>\n",
              "    </button>\n",
              "    <script>\n",
              "      (() => {\n",
              "      const buttonEl =\n",
              "        document.querySelector('#id_7f530369-5b08-421c-ac69-653f44f2b5ec button.colab-df-generate');\n",
              "      buttonEl.style.display =\n",
              "        google.colab.kernel.accessAllowed ? 'block' : 'none';\n",
              "\n",
              "      buttonEl.onclick = () => {\n",
              "        google.colab.notebook.generateWithVariable('df');\n",
              "      }\n",
              "      })();\n",
              "    </script>\n",
              "  </div>\n",
              "\n",
              "    </div>\n",
              "  </div>\n"
            ],
            "application/vnd.google.colaboratory.intrinsic+json": {
              "type": "dataframe",
              "variable_name": "df",
              "summary": "{\n  \"name\": \"df\",\n  \"rows\": 20,\n  \"fields\": [\n    {\n      \"column\": \"texto\",\n      \"properties\": {\n        \"dtype\": \"string\",\n        \"num_unique_values\": 20,\n        \"samples\": [\n          \"Organiza\\u00e7\\u00f5es civis e movimentos sociais convocaram um ato nacional em resposta \\u00e0 viol\\u00eancia policial registrada nos \\u00faltimos meses nas periferias urbanas.\",\n          \"O aumento dos focos de queimadas na regi\\u00e3o amaz\\u00f4nica preocupa autoridades ambientais, que alertam para o risco de desequil\\u00edbrio ecol\\u00f3gico e perda de biodiversidade.\",\n          \"Estudos mostram que a polui\\u00e7\\u00e3o dos rios urbanos continua crescendo, mesmo com pol\\u00edticas de saneamento, o que representa riscos \\u00e0 sa\\u00fade p\\u00fablica e \\u00e0 biodiversidade aqu\\u00e1tica.\"\n        ],\n        \"semantic_type\": \"\",\n        \"description\": \"\"\n      }\n    },\n    {\n      \"column\": \"label\",\n      \"properties\": {\n        \"dtype\": \"category\",\n        \"num_unique_values\": 4,\n        \"samples\": [\n          \"economia\",\n          \"meio_ambiente\",\n          \"protesto\"\n        ],\n        \"semantic_type\": \"\",\n        \"description\": \"\"\n      }\n    }\n  ]\n}"
            }
          },
          "metadata": {},
          "execution_count": 56
        }
      ]
    },
    {
      "cell_type": "code",
      "source": [
        "# ============ DATA ==============\n",
        "\n",
        "label_enc = LabelEncoder()\n",
        "df[\"label_encoded\"] = label_enc.fit_transform(df[\"label\"])"
      ],
      "metadata": {
        "id": "slZftw3KNCoW"
      },
      "execution_count": 57,
      "outputs": []
    },
    {
      "cell_type": "code",
      "source": [
        "x_train, x_test, y_train, y_test = train_test_split(df[\"texto\"], df[\"label_encoded\"], test_size=0.2, random_state=42)"
      ],
      "metadata": {
        "id": "oxTZMwV8NGAX"
      },
      "execution_count": 58,
      "outputs": []
    },
    {
      "cell_type": "code",
      "source": [
        "tokenizer = BertTokenizer.from_pretrained(\"bert-base-uncased\")"
      ],
      "metadata": {
        "id": "ZxCo2CZmNHqY"
      },
      "execution_count": 59,
      "outputs": []
    },
    {
      "cell_type": "code",
      "source": [
        "class BERTDataset(Dataset):\n",
        "    def __init__(self, textos, labels, tokenizer, max_len):\n",
        "        self.encodings = tokenizer(list(textos), truncation=True, padding=True, max_length=max_len, return_tensors=\"pt\")\n",
        "        self.labels = torch.tensor(labels.values)\n",
        "\n",
        "    def __len__(self):\n",
        "        return len(self.labels)\n",
        "\n",
        "    def __getitem__(self, idx):\n",
        "        item = {key: val[idx] for key, val in self.encodings.items()}\n",
        "        item['labels'] = self.labels[idx]\n",
        "        return item"
      ],
      "metadata": {
        "id": "m2kMfb5wNJQ1"
      },
      "execution_count": 60,
      "outputs": []
    },
    {
      "cell_type": "code",
      "source": [
        "train_dataset = BERTDataset(x_train, y_train, tokenizer, MAX_LEN)\n",
        "test_dataset = BERTDataset(x_test, y_test, tokenizer, MAX_LEN)\n",
        "\n",
        "train_loader = DataLoader(train_dataset, batch_size=BATCH_SIZE, shuffle=True)\n",
        "test_loader = DataLoader(test_dataset, batch_size=BATCH_SIZE)"
      ],
      "metadata": {
        "id": "GGHwijGjNLMV"
      },
      "execution_count": 61,
      "outputs": []
    },
    {
      "cell_type": "code",
      "source": [
        "# ============ MODELOS ==============\n",
        "class BERTFineTuned(nn.Module):\n",
        "    def __init__(self, num_classes):\n",
        "        super().__init__()\n",
        "        self.bert = BertModel.from_pretrained(\"bert-base-uncased\")\n",
        "        self.dropout = nn.Dropout(0.3)\n",
        "        self.fc = nn.Linear(self.bert.config.hidden_size, num_classes)\n",
        "\n",
        "    def forward(self, input_ids, attention_mask):\n",
        "        outputs = self.bert(input_ids=input_ids, attention_mask=attention_mask)\n",
        "        x = self.dropout(outputs.pooler_output)\n",
        "        return self.fc(x)\n",
        "\n"
      ],
      "metadata": {
        "id": "kM8-zYwNNNjX"
      },
      "execution_count": 62,
      "outputs": []
    },
    {
      "cell_type": "code",
      "source": [
        "class BERTFeatureExtractor(nn.Module):\n",
        "    def __init__(self, num_classes):\n",
        "        super().__init__()\n",
        "        self.bert = BertModel.from_pretrained(\"bert-base-uncased\")\n",
        "        for param in self.bert.parameters():\n",
        "            param.requires_grad = False  # congela BERT\n",
        "        self.dropout = nn.Dropout(0.3)\n",
        "        self.fc = nn.Linear(self.bert.config.hidden_size, num_classes)\n",
        "\n",
        "    def forward(self, input_ids, attention_mask):\n",
        "        outputs = self.bert(input_ids=input_ids, attention_mask=attention_mask)\n",
        "        x = self.dropout(outputs.pooler_output)\n",
        "        return self.fc(x)"
      ],
      "metadata": {
        "id": "xIWnTLOqNPv9"
      },
      "execution_count": 63,
      "outputs": []
    },
    {
      "cell_type": "code",
      "source": [
        "# ============ TREINAMENTO ===========\n",
        "def treinar_modelo(model, dataloader, epochs=3):\n",
        "    model.to(device)\n",
        "    optimizer = torch.optim.AdamW(filter(lambda p: p.requires_grad, model.parameters()), lr=1e-5)\n",
        "    criterion = nn.CrossEntropyLoss()\n",
        "\n",
        "    model.train()\n",
        "    for epoch in range(epochs):\n",
        "        total_loss = 0\n",
        "        for batch in dataloader:\n",
        "            input_ids = batch[\"input_ids\"].to(device)\n",
        "            mask = batch[\"attention_mask\"].to(device)\n",
        "            labels = batch[\"labels\"].to(device)\n",
        "\n",
        "            outputs = model(input_ids=input_ids, attention_mask=mask)\n",
        "            loss = criterion(outputs, labels)\n",
        "\n",
        "            optimizer.zero_grad()\n",
        "            loss.backward()\n",
        "            optimizer.step()\n",
        "            total_loss += loss.item()\n",
        "        print(f\"📚 Epoch {epoch+1}/{epochs} | Loss: {total_loss:.4f}\")\n",
        "    return model"
      ],
      "metadata": {
        "id": "Pxn2MKskNRk0"
      },
      "execution_count": 64,
      "outputs": []
    },
    {
      "cell_type": "code",
      "source": [
        "# ============ AVALIAÇÃO ===========\n",
        "def avaliar_modelo(model, dataloader, textos_originais, name=\"\"):\n",
        "    model.eval()\n",
        "    all_preds, all_labels = [], []\n",
        "\n",
        "    with torch.no_grad():\n",
        "        for i, batch in enumerate(dataloader):\n",
        "            input_ids = batch[\"input_ids\"].to(device)\n",
        "            mask = batch[\"attention_mask\"].to(device)\n",
        "            labels = batch[\"labels\"].to(device)\n",
        "\n",
        "            outputs = model(input_ids=input_ids, attention_mask=mask)\n",
        "            preds = torch.argmax(F.softmax(outputs, dim=1), dim=1)\n",
        "\n",
        "            all_preds.extend(preds.cpu().tolist())\n",
        "            all_labels.extend(labels.cpu().tolist())\n",
        "\n",
        "            for j in range(len(labels)):\n",
        "                texto = textos_originais[i * BATCH_SIZE + j]\n",
        "                real = label_enc.inverse_transform([labels[j].cpu().item()])[0]\n",
        "                pred = label_enc.inverse_transform([preds[j].cpu().item()])[0]\n",
        "                print(f\"\\n🔎 [{name}] Texto: {texto[:100]}...\")\n",
        "                print(f\"✅ Real: {real} | 🤖 Previsto: {pred}\")\n",
        "\n",
        "    acc = accuracy_score(all_labels, all_preds)\n",
        "    print(f\"\\n✅ Acurácia final do {name}: {acc:.2%}\")\n",
        "    return acc"
      ],
      "metadata": {
        "id": "FzWML_i7NWgx"
      },
      "execution_count": 65,
      "outputs": []
    },
    {
      "cell_type": "code",
      "source": [
        "# ============ EXECUÇÃO ============\n",
        "\n",
        "print(\"\\n🎯 Treinando modelo com Fine-Tuning completo:\")\n",
        "model_fine = BERTFineTuned(num_classes=len(label_enc.classes_))\n",
        "model_fine = treinar_modelo(model_fine, train_loader, epochs=EPOCHS)\n",
        "\n",
        "print(\"\\n🎯 Treinando modelo com Feature Extraction:\")\n",
        "model_feat = BERTFeatureExtractor(num_classes=len(label_enc.classes_))\n",
        "model_feat = treinar_modelo(model_feat, train_loader, epochs=EPOCHS)\n",
        "\n",
        "# Avaliação lado a lado\n",
        "print(\"\\n📊 Avaliação comparativa:\")\n",
        "avaliar_modelo(model_fine, test_loader, list(x_test.reset_index(drop=True)), name=\"Fine-Tuning\")\n",
        "avaliar_modelo(model_feat, test_loader, list(x_test.reset_index(drop=True)), name=\"Feature Extraction\")"
      ],
      "metadata": {
        "colab": {
          "base_uri": "https://localhost:8080/"
        },
        "id": "SRkYy1jgNZ1E",
        "outputId": "670dacde-ad94-410e-9e1f-52d3d5c0e8f2"
      },
      "execution_count": 66,
      "outputs": [
        {
          "output_type": "stream",
          "name": "stdout",
          "text": [
            "\n",
            "🎯 Treinando modelo com Fine-Tuning completo:\n",
            "📚 Epoch 1/50 | Loss: 2.9801\n",
            "📚 Epoch 2/50 | Loss: 2.8921\n",
            "📚 Epoch 3/50 | Loss: 2.8685\n",
            "📚 Epoch 4/50 | Loss: 2.6018\n",
            "📚 Epoch 5/50 | Loss: 2.5297\n",
            "📚 Epoch 6/50 | Loss: 2.6343\n",
            "📚 Epoch 7/50 | Loss: 2.6032\n",
            "📚 Epoch 8/50 | Loss: 2.5449\n",
            "📚 Epoch 9/50 | Loss: 2.4529\n",
            "📚 Epoch 10/50 | Loss: 2.5284\n",
            "📚 Epoch 11/50 | Loss: 2.6304\n",
            "📚 Epoch 12/50 | Loss: 2.2764\n",
            "📚 Epoch 13/50 | Loss: 2.1913\n",
            "📚 Epoch 14/50 | Loss: 2.2917\n",
            "📚 Epoch 15/50 | Loss: 1.9980\n",
            "📚 Epoch 16/50 | Loss: 2.1789\n",
            "📚 Epoch 17/50 | Loss: 1.8702\n",
            "📚 Epoch 18/50 | Loss: 1.9771\n",
            "📚 Epoch 19/50 | Loss: 1.7417\n",
            "📚 Epoch 20/50 | Loss: 1.7473\n",
            "📚 Epoch 21/50 | Loss: 1.7135\n",
            "📚 Epoch 22/50 | Loss: 1.6422\n",
            "📚 Epoch 23/50 | Loss: 1.6502\n",
            "📚 Epoch 24/50 | Loss: 1.5184\n",
            "📚 Epoch 25/50 | Loss: 1.4969\n",
            "📚 Epoch 26/50 | Loss: 1.4285\n",
            "📚 Epoch 27/50 | Loss: 1.3053\n",
            "📚 Epoch 28/50 | Loss: 1.4932\n",
            "📚 Epoch 29/50 | Loss: 1.3273\n",
            "📚 Epoch 30/50 | Loss: 1.2586\n",
            "📚 Epoch 31/50 | Loss: 1.1926\n",
            "📚 Epoch 32/50 | Loss: 1.0214\n",
            "📚 Epoch 33/50 | Loss: 1.1121\n",
            "📚 Epoch 34/50 | Loss: 1.0874\n",
            "📚 Epoch 35/50 | Loss: 0.9942\n",
            "📚 Epoch 36/50 | Loss: 0.9430\n",
            "📚 Epoch 37/50 | Loss: 0.9640\n",
            "📚 Epoch 38/50 | Loss: 0.8983\n",
            "📚 Epoch 39/50 | Loss: 0.9088\n",
            "📚 Epoch 40/50 | Loss: 0.8681\n",
            "📚 Epoch 41/50 | Loss: 0.8894\n",
            "📚 Epoch 42/50 | Loss: 0.7301\n",
            "📚 Epoch 43/50 | Loss: 0.7764\n",
            "📚 Epoch 44/50 | Loss: 0.8260\n",
            "📚 Epoch 45/50 | Loss: 0.7339\n",
            "📚 Epoch 46/50 | Loss: 0.7252\n",
            "📚 Epoch 47/50 | Loss: 0.6921\n",
            "📚 Epoch 48/50 | Loss: 0.5779\n",
            "📚 Epoch 49/50 | Loss: 0.6222\n",
            "📚 Epoch 50/50 | Loss: 0.6291\n",
            "\n",
            "🎯 Treinando modelo com Feature Extraction:\n",
            "📚 Epoch 1/50 | Loss: 2.8472\n",
            "📚 Epoch 2/50 | Loss: 2.7427\n",
            "📚 Epoch 3/50 | Loss: 2.8899\n",
            "📚 Epoch 4/50 | Loss: 2.8546\n",
            "📚 Epoch 5/50 | Loss: 2.9726\n",
            "📚 Epoch 6/50 | Loss: 2.7840\n",
            "📚 Epoch 7/50 | Loss: 2.8211\n",
            "📚 Epoch 8/50 | Loss: 2.7547\n",
            "📚 Epoch 9/50 | Loss: 2.8222\n",
            "📚 Epoch 10/50 | Loss: 2.8480\n",
            "📚 Epoch 11/50 | Loss: 2.8198\n",
            "📚 Epoch 12/50 | Loss: 2.8597\n",
            "📚 Epoch 13/50 | Loss: 2.7483\n",
            "📚 Epoch 14/50 | Loss: 2.9283\n",
            "📚 Epoch 15/50 | Loss: 2.9473\n",
            "📚 Epoch 16/50 | Loss: 2.8650\n",
            "📚 Epoch 17/50 | Loss: 2.9635\n",
            "📚 Epoch 18/50 | Loss: 2.9352\n",
            "📚 Epoch 19/50 | Loss: 2.9650\n",
            "📚 Epoch 20/50 | Loss: 2.8392\n",
            "📚 Epoch 21/50 | Loss: 2.8013\n",
            "📚 Epoch 22/50 | Loss: 2.9965\n",
            "📚 Epoch 23/50 | Loss: 2.8823\n",
            "📚 Epoch 24/50 | Loss: 2.8717\n",
            "📚 Epoch 25/50 | Loss: 2.9304\n",
            "📚 Epoch 26/50 | Loss: 2.5932\n",
            "📚 Epoch 27/50 | Loss: 2.8487\n",
            "📚 Epoch 28/50 | Loss: 3.0229\n",
            "📚 Epoch 29/50 | Loss: 2.7093\n",
            "📚 Epoch 30/50 | Loss: 2.9913\n",
            "📚 Epoch 31/50 | Loss: 2.7562\n",
            "📚 Epoch 32/50 | Loss: 2.9126\n",
            "📚 Epoch 33/50 | Loss: 2.8433\n",
            "📚 Epoch 34/50 | Loss: 2.8264\n",
            "📚 Epoch 35/50 | Loss: 2.9042\n",
            "📚 Epoch 36/50 | Loss: 2.7309\n",
            "📚 Epoch 37/50 | Loss: 2.8313\n",
            "📚 Epoch 38/50 | Loss: 2.6715\n",
            "📚 Epoch 39/50 | Loss: 2.8656\n",
            "📚 Epoch 40/50 | Loss: 2.9003\n",
            "📚 Epoch 41/50 | Loss: 2.7333\n",
            "📚 Epoch 42/50 | Loss: 2.6767\n",
            "📚 Epoch 43/50 | Loss: 2.6754\n",
            "📚 Epoch 44/50 | Loss: 3.0118\n",
            "📚 Epoch 45/50 | Loss: 2.7443\n",
            "📚 Epoch 46/50 | Loss: 2.6565\n",
            "📚 Epoch 47/50 | Loss: 2.8341\n",
            "📚 Epoch 48/50 | Loss: 2.8595\n",
            "📚 Epoch 49/50 | Loss: 2.8199\n",
            "📚 Epoch 50/50 | Loss: 2.6995\n",
            "\n",
            "📊 Avaliação comparativa:\n",
            "\n",
            "🔎 [Fine-Tuning] Texto: Organizações civis e movimentos sociais convocaram um ato nacional em resposta à violência policial ...\n",
            "✅ Real: protesto | 🤖 Previsto: meio_ambiente\n",
            "\n",
            "🔎 [Fine-Tuning] Texto: O aumento dos focos de queimadas na região amazônica preocupa autoridades ambientais, que alertam pa...\n",
            "✅ Real: meio_ambiente | 🤖 Previsto: meio_ambiente\n",
            "\n",
            "🔎 [Fine-Tuning] Texto: Estudos mostram que a poluição dos rios urbanos continua crescendo, mesmo com políticas de saneament...\n",
            "✅ Real: meio_ambiente | 🤖 Previsto: meio_ambiente\n",
            "\n",
            "🔎 [Fine-Tuning] Texto: Milhares de manifestantes ocuparam as ruas da capital nesta tarde para protestar contra a reforma tr...\n",
            "✅ Real: protesto | 🤖 Previsto: economia\n",
            "\n",
            "✅ Acurácia final do Fine-Tuning: 50.00%\n",
            "\n",
            "🔎 [Feature Extraction] Texto: Organizações civis e movimentos sociais convocaram um ato nacional em resposta à violência policial ...\n",
            "✅ Real: protesto | 🤖 Previsto: educacao\n",
            "\n",
            "🔎 [Feature Extraction] Texto: O aumento dos focos de queimadas na região amazônica preocupa autoridades ambientais, que alertam pa...\n",
            "✅ Real: meio_ambiente | 🤖 Previsto: educacao\n",
            "\n",
            "🔎 [Feature Extraction] Texto: Estudos mostram que a poluição dos rios urbanos continua crescendo, mesmo com políticas de saneament...\n",
            "✅ Real: meio_ambiente | 🤖 Previsto: educacao\n",
            "\n",
            "🔎 [Feature Extraction] Texto: Milhares de manifestantes ocuparam as ruas da capital nesta tarde para protestar contra a reforma tr...\n",
            "✅ Real: protesto | 🤖 Previsto: educacao\n",
            "\n",
            "✅ Acurácia final do Feature Extraction: 0.00%\n"
          ]
        },
        {
          "output_type": "execute_result",
          "data": {
            "text/plain": [
              "0.0"
            ]
          },
          "metadata": {},
          "execution_count": 66
        }
      ]
    },
    {
      "cell_type": "markdown",
      "source": [
        "# Comparando aprendizado com modelo sendo treinado com Fine tuning, extração de feature e LoRa\n",
        "\n",
        "Fine-tuning completo (tudo treinável)\n",
        "\n",
        "Feature extraction (BERT congelado)\n",
        "\n",
        "LoRA (adaptação leve)"
      ],
      "metadata": {
        "id": "QwaeHuEKPNsb"
      }
    },
    {
      "cell_type": "code",
      "source": [
        "import torch\n",
        "import torch.nn as nn\n",
        "import torch.nn.functional as F\n",
        "from torch.utils.data import Dataset, DataLoader\n",
        "from transformers import BertTokenizer, BertModel, AutoModelForSequenceClassification\n",
        "from sklearn.model_selection import train_test_split\n",
        "from sklearn.preprocessing import LabelEncoder\n",
        "from sklearn.metrics import accuracy_score\n",
        "from peft import get_peft_model, LoraConfig, TaskType\n",
        "import pandas as pd"
      ],
      "metadata": {
        "id": "R-W89ontP8yb"
      },
      "execution_count": 1,
      "outputs": []
    },
    {
      "cell_type": "code",
      "source": [
        "device = torch.device(\"cuda\" if torch.cuda.is_available() else \"cpu\")\n",
        "MAX_LEN = 64\n",
        "BATCH_SIZE = 8\n",
        "EPOCHS = 30"
      ],
      "metadata": {
        "id": "x-Wq6HKSP-as"
      },
      "execution_count": 2,
      "outputs": []
    },
    {
      "cell_type": "code",
      "source": [
        "# ========== LOAD DATA ==========\n",
        "df = pd.read_csv(\"textos_categorizados.csv\").drop_duplicates(subset=\"texto\")"
      ],
      "metadata": {
        "id": "BAW8-E4SQCI6"
      },
      "execution_count": 69,
      "outputs": []
    },
    {
      "cell_type": "code",
      "source": [
        "label_enc = LabelEncoder()\n",
        "df[\"label_encoded\"] = label_enc.fit_transform(df[\"label\"])"
      ],
      "metadata": {
        "id": "2yX8K6ZNQGBG"
      },
      "execution_count": 70,
      "outputs": []
    },
    {
      "cell_type": "code",
      "source": [
        "x_train, x_test, y_train, y_test = train_test_split(df[\"texto\"], df[\"label_encoded\"], test_size=0.2, random_state=42)"
      ],
      "metadata": {
        "id": "eqWSL1HDQL_P"
      },
      "execution_count": 71,
      "outputs": []
    },
    {
      "cell_type": "code",
      "source": [
        "tokenizer = BertTokenizer.from_pretrained(\"bert-base-uncased\")"
      ],
      "metadata": {
        "id": "MDKocfuNQN79"
      },
      "execution_count": 73,
      "outputs": []
    },
    {
      "cell_type": "code",
      "source": [
        "class BERTDataset(Dataset):\n",
        "    def __init__(self, textos, labels, tokenizer, max_len):\n",
        "        self.encodings = tokenizer(list(textos), truncation=True, padding=True, max_length=max_len, return_tensors=\"pt\")\n",
        "        self.labels = torch.tensor(labels.values)\n",
        "\n",
        "    def __len__(self):\n",
        "        return len(self.labels)\n",
        "\n",
        "    def __getitem__(self, idx):\n",
        "        item = {key: val[idx] for key, val in self.encodings.items()}\n",
        "        item['labels'] = self.labels[idx]\n",
        "        return item\n",
        "\n"
      ],
      "metadata": {
        "id": "zAgAaiC3QQmG"
      },
      "execution_count": 74,
      "outputs": []
    },
    {
      "cell_type": "code",
      "source": [
        "train_dataset = BERTDataset(x_train, y_train, tokenizer, MAX_LEN)\n",
        "test_dataset = BERTDataset(x_test, y_test, tokenizer, MAX_LEN)\n"
      ],
      "metadata": {
        "id": "q7PJCibgQSuv"
      },
      "execution_count": 76,
      "outputs": []
    },
    {
      "cell_type": "code",
      "source": [
        "train_loader = DataLoader(train_dataset, batch_size=BATCH_SIZE, shuffle=True)\n",
        "test_loader = DataLoader(test_dataset, batch_size=BATCH_SIZE)"
      ],
      "metadata": {
        "id": "1DmZiN8oQZEH"
      },
      "execution_count": 77,
      "outputs": []
    },
    {
      "cell_type": "code",
      "source": [
        "# ========== MODELS ==========\n",
        "class BERTFineTuned(nn.Module):\n",
        "    def __init__(self, num_classes):\n",
        "        super().__init__()\n",
        "        self.bert = BertModel.from_pretrained(\"bert-base-uncased\")\n",
        "        self.dropout = nn.Dropout(0.3)\n",
        "        self.fc = nn.Linear(self.bert.config.hidden_size, num_classes)\n",
        "\n",
        "    def forward(self, input_ids, attention_mask):\n",
        "        outputs = self.bert(input_ids=input_ids, attention_mask=attention_mask)\n",
        "        x = self.dropout(outputs.pooler_output)\n",
        "        return self.fc(x)"
      ],
      "metadata": {
        "id": "3C4wgmflQcsQ"
      },
      "execution_count": 78,
      "outputs": []
    },
    {
      "cell_type": "code",
      "source": [
        "class BERTFeatureExtractor(nn.Module):\n",
        "    def __init__(self, num_classes):\n",
        "        super().__init__()\n",
        "        self.bert = BertModel.from_pretrained(\"bert-base-uncased\")\n",
        "        for param in self.bert.parameters():\n",
        "            param.requires_grad = False\n",
        "        self.dropout = nn.Dropout(0.3)\n",
        "        self.fc = nn.Linear(self.bert.config.hidden_size, num_classes)\n",
        "\n",
        "    def forward(self, input_ids, attention_mask):\n",
        "        outputs = self.bert(input_ids=input_ids, attention_mask=attention_mask)\n",
        "        x = self.dropout(outputs.pooler_output)\n",
        "        return self.fc(x)"
      ],
      "metadata": {
        "id": "rFt8UKBnQfBi"
      },
      "execution_count": 79,
      "outputs": []
    },
    {
      "cell_type": "code",
      "source": [
        "def get_lora_model(num_classes):\n",
        "    base_model = AutoModelForSequenceClassification.from_pretrained(\n",
        "        \"bert-base-uncased\",\n",
        "        num_labels=num_classes\n",
        "    )\n",
        "    lora_config = LoraConfig(\n",
        "        r=8,\n",
        "        lora_alpha=16,\n",
        "        target_modules=[\"query\", \"value\"],\n",
        "        lora_dropout=0.1,\n",
        "        bias=\"none\",\n",
        "        task_type=TaskType.SEQ_CLS,\n",
        "    )\n",
        "    lora_model = get_peft_model(base_model, lora_config)\n",
        "    return lora_model"
      ],
      "metadata": {
        "id": "PccTtp9jQixl"
      },
      "execution_count": 84,
      "outputs": []
    },
    {
      "cell_type": "code",
      "source": [
        "# ========== Treinamento ==========\n",
        "def treinar_modelo(model, dataloader, epochs=3):\n",
        "    model.to(device)\n",
        "    optimizer = torch.optim.AdamW(filter(lambda p: p.requires_grad, model.parameters()), lr=2e-5)\n",
        "    criterion = nn.CrossEntropyLoss()\n",
        "    model.train()\n",
        "    for epoch in range(epochs):\n",
        "        total_loss = 0\n",
        "        for batch in dataloader:\n",
        "            input_ids = batch[\"input_ids\"].to(device)\n",
        "            mask = batch[\"attention_mask\"].to(device)\n",
        "            labels = batch[\"labels\"].to(device)\n",
        "            outputs = model(input_ids=input_ids, attention_mask=mask)\n",
        "            loss = criterion(outputs, labels) if isinstance(outputs, torch.Tensor) else criterion(outputs.logits, labels)\n",
        "            optimizer.zero_grad()\n",
        "            loss.backward()\n",
        "            optimizer.step()\n",
        "            total_loss += loss.item()\n",
        "        print(f\"📚 Epoch {epoch+1}/{epochs} | Loss: {total_loss:.4f}\")\n",
        "    return model"
      ],
      "metadata": {
        "id": "I_VBcYVZQlhW"
      },
      "execution_count": 85,
      "outputs": []
    },
    {
      "cell_type": "code",
      "source": [
        "# ========== Avaliação ==========\n",
        "def avaliar_modelo(model, dataloader, textos_originais, name=\"\"):\n",
        "    model.eval()\n",
        "    all_preds, all_labels = [], []\n",
        "    with torch.no_grad():\n",
        "        for i, batch in enumerate(dataloader):\n",
        "            input_ids = batch[\"input_ids\"].to(device)\n",
        "            mask = batch[\"attention_mask\"].to(device)\n",
        "            labels = batch[\"labels\"].to(device)\n",
        "            outputs = model(input_ids=input_ids, attention_mask=mask)\n",
        "            logits = outputs if isinstance(outputs, torch.Tensor) else outputs.logits\n",
        "            preds = torch.argmax(F.softmax(logits, dim=1), dim=1)\n",
        "            all_preds.extend(preds.cpu().tolist())\n",
        "            all_labels.extend(labels.cpu().tolist())\n",
        "            for j in range(len(labels)):\n",
        "                texto = textos_originais[i * BATCH_SIZE + j]\n",
        "                real = label_enc.inverse_transform([labels[j].cpu().item()])[0]\n",
        "                pred = label_enc.inverse_transform([preds[j].cpu().item()])[0]\n",
        "                print(f\"\\n🔎 [{name}] Texto: {texto[:100]}...\")\n",
        "                print(f\"✅ Real: {real} | 🤖 Previsto: {pred}\")\n",
        "    acc = accuracy_score(all_labels, all_preds)\n",
        "    print(f\"\\n✅ Acurácia final do {name}: {acc:.2%}\")\n",
        "    return acc"
      ],
      "metadata": {
        "id": "XCnlRYymQnX-"
      },
      "execution_count": 86,
      "outputs": []
    },
    {
      "cell_type": "code",
      "source": [
        "# ========== Execução ==========\n",
        "print(\"\\n🎯 Treinando modelo com Fine-Tuning completo:\")\n",
        "model_fine = BERTFineTuned(num_classes=len(label_enc.classes_))\n",
        "model_fine = treinar_modelo(model_fine, train_loader, epochs=EPOCHS)\n",
        "\n",
        "print(\"\\n🎯 Treinando modelo com Feature Extraction:\")\n",
        "model_feat = BERTFeatureExtractor(num_classes=len(label_enc.classes_))\n",
        "model_feat = treinar_modelo(model_feat, train_loader, epochs=EPOCHS)\n",
        "\n",
        "print(\"\\n🎯 Treinando modelo com LoRA:\")\n",
        "model_lora = get_lora_model(num_classes=len(label_enc.classes_))\n",
        "model_lora = treinar_modelo(model_lora, train_loader, epochs=EPOCHS)"
      ],
      "metadata": {
        "colab": {
          "base_uri": "https://localhost:8080/"
        },
        "id": "kCIi5QkuQqNf",
        "outputId": "4a88ce0d-3335-4410-e8e5-9565d0c6a86b"
      },
      "execution_count": 87,
      "outputs": [
        {
          "output_type": "stream",
          "name": "stdout",
          "text": [
            "\n",
            "🎯 Treinando modelo com Fine-Tuning completo:\n",
            "📚 Epoch 1/3 | Loss: 2.7541\n",
            "📚 Epoch 2/3 | Loss: 2.5195\n",
            "📚 Epoch 3/3 | Loss: 2.6437\n",
            "\n",
            "🎯 Treinando modelo com Feature Extraction:\n",
            "📚 Epoch 1/3 | Loss: 2.9063\n",
            "📚 Epoch 2/3 | Loss: 2.8264\n",
            "📚 Epoch 3/3 | Loss: 3.1874\n",
            "\n",
            "🎯 Treinando modelo com LoRA:\n"
          ]
        },
        {
          "output_type": "stream",
          "name": "stderr",
          "text": [
            "Some weights of BertForSequenceClassification were not initialized from the model checkpoint at bert-base-uncased and are newly initialized: ['classifier.bias', 'classifier.weight']\n",
            "You should probably TRAIN this model on a down-stream task to be able to use it for predictions and inference.\n"
          ]
        },
        {
          "output_type": "stream",
          "name": "stdout",
          "text": [
            "📚 Epoch 1/3 | Loss: 2.7983\n",
            "📚 Epoch 2/3 | Loss: 2.8394\n",
            "📚 Epoch 3/3 | Loss: 2.8715\n"
          ]
        }
      ]
    },
    {
      "cell_type": "code",
      "source": [
        "# ========== Compração ==========\n",
        "print(\"\\n📊 Avaliação comparativa:\")\n",
        "avaliar_modelo(model_fine, test_loader, list(x_test.reset_index(drop=True)), name=\"Fine-Tuning\")\n",
        "avaliar_modelo(model_feat, test_loader, list(x_test.reset_index(drop=True)), name=\"Feature Extraction\")\n",
        "avaliar_modelo(model_lora, test_loader, list(x_test.reset_index(drop=True)), name=\"LoRA\")"
      ],
      "metadata": {
        "colab": {
          "base_uri": "https://localhost:8080/"
        },
        "id": "7q_EO1-rQ7qn",
        "outputId": "b865b090-a5a6-489c-bdec-44eff609435f"
      },
      "execution_count": 88,
      "outputs": [
        {
          "output_type": "stream",
          "name": "stdout",
          "text": [
            "\n",
            "📊 Avaliação comparativa:\n",
            "\n",
            "🔎 [Fine-Tuning] Texto: Organizações civis e movimentos sociais convocaram um ato nacional em resposta à violência policial ...\n",
            "✅ Real: protesto | 🤖 Previsto: educacao\n",
            "\n",
            "🔎 [Fine-Tuning] Texto: O aumento dos focos de queimadas na região amazônica preocupa autoridades ambientais, que alertam pa...\n",
            "✅ Real: meio_ambiente | 🤖 Previsto: educacao\n",
            "\n",
            "🔎 [Fine-Tuning] Texto: Estudos mostram que a poluição dos rios urbanos continua crescendo, mesmo com políticas de saneament...\n",
            "✅ Real: meio_ambiente | 🤖 Previsto: educacao\n",
            "\n",
            "🔎 [Fine-Tuning] Texto: Milhares de manifestantes ocuparam as ruas da capital nesta tarde para protestar contra a reforma tr...\n",
            "✅ Real: protesto | 🤖 Previsto: educacao\n",
            "\n",
            "✅ Acurácia final do Fine-Tuning: 0.00%\n",
            "\n",
            "🔎 [Feature Extraction] Texto: Organizações civis e movimentos sociais convocaram um ato nacional em resposta à violência policial ...\n",
            "✅ Real: protesto | 🤖 Previsto: meio_ambiente\n",
            "\n",
            "🔎 [Feature Extraction] Texto: O aumento dos focos de queimadas na região amazônica preocupa autoridades ambientais, que alertam pa...\n",
            "✅ Real: meio_ambiente | 🤖 Previsto: meio_ambiente\n",
            "\n",
            "🔎 [Feature Extraction] Texto: Estudos mostram que a poluição dos rios urbanos continua crescendo, mesmo com políticas de saneament...\n",
            "✅ Real: meio_ambiente | 🤖 Previsto: meio_ambiente\n",
            "\n",
            "🔎 [Feature Extraction] Texto: Milhares de manifestantes ocuparam as ruas da capital nesta tarde para protestar contra a reforma tr...\n",
            "✅ Real: protesto | 🤖 Previsto: meio_ambiente\n",
            "\n",
            "✅ Acurácia final do Feature Extraction: 50.00%\n",
            "\n",
            "🔎 [LoRA] Texto: Organizações civis e movimentos sociais convocaram um ato nacional em resposta à violência policial ...\n",
            "✅ Real: protesto | 🤖 Previsto: educacao\n",
            "\n",
            "🔎 [LoRA] Texto: O aumento dos focos de queimadas na região amazônica preocupa autoridades ambientais, que alertam pa...\n",
            "✅ Real: meio_ambiente | 🤖 Previsto: educacao\n",
            "\n",
            "🔎 [LoRA] Texto: Estudos mostram que a poluição dos rios urbanos continua crescendo, mesmo com políticas de saneament...\n",
            "✅ Real: meio_ambiente | 🤖 Previsto: educacao\n",
            "\n",
            "🔎 [LoRA] Texto: Milhares de manifestantes ocuparam as ruas da capital nesta tarde para protestar contra a reforma tr...\n",
            "✅ Real: protesto | 🤖 Previsto: educacao\n",
            "\n",
            "✅ Acurácia final do LoRA: 0.00%\n"
          ]
        },
        {
          "output_type": "execute_result",
          "data": {
            "text/plain": [
              "0.0"
            ]
          },
          "metadata": {},
          "execution_count": 88
        }
      ]
    },
    {
      "cell_type": "code",
      "source": [
        "\n",
        "\n",
        "\n",
        "\n",
        "\n",
        "\n",
        "\n",
        "\n",
        "\n"
      ],
      "metadata": {
        "id": "SYZtYEN2LjYn"
      },
      "execution_count": 88,
      "outputs": []
    }
  ]
}